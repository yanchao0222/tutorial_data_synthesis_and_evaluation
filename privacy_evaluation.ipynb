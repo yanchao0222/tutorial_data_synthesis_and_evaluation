{
 "cells": [
  {
   "cell_type": "markdown",
   "id": "3c0745f4",
   "metadata": {},
   "source": [
    "# Run privacy metrics using .py files"
   ]
  },
  {
   "cell_type": "markdown",
   "id": "1b3ccfa6",
   "metadata": {},
   "source": [
    "## 1. Membership inference"
   ]
  },
  {
   "cell_type": "markdown",
   "id": "9fb18383",
   "metadata": {},
   "source": [
    "nohup python mem_risk_tutorial.py 21 best 5 /YOUR_LOCAL_PATH/original_training_data.csv /YOUR_LOCAL_PATH/original_testing_data.csv result/ 1>mem_risk_21_5.out 2>mem_risk_21_5.err &\n",
    "\n",
    "nohup python mem_risk_tutorial.py 22 best 5 /YOUR_LOCAL_PATH/original_training_data.csv /YOUR_LOCAL_PATH/original_testing_data.csv result/ 1>mem_risk_22_5.out 2>mem_risk_22_5.err &\n",
    "\n",
    "nohup python mem_risk_tutorial.py 23 best 5 /YOUR_LOCAL_PATH/original_training_data.csv /YOUR_LOCAL_PATH/original_testing_data.csv result/ 1>mem_risk_23_5.out 2>mem_risk_23_5.err &\n",
    "\n",
    "nohup python mem_risk_tutorial.py 24 best 5 /YOUR_LOCAL_PATH/original_training_data.csv /YOUR_LOCAL_PATH/original_testing_data.csv result/ 1>mem_risk_24_5.out 2>mem_risk_24_5.err &\n",
    "\n",
    "nohup python mem_risk_tutorial.py 25 best 5 /YOUR_LOCAL_PATH/original_training_data.csv /YOUR_LOCAL_PATH/original_testing_data.csv result/ 1>mem_risk_25_5.out 2>mem_risk_25_5.err &"
   ]
  },
  {
   "cell_type": "markdown",
   "id": "1f05d108",
   "metadata": {},
   "source": [
    "## 2. Attribute inference"
   ]
  },
  {
   "cell_type": "markdown",
   "id": "8a2a7ada",
   "metadata": {},
   "source": [
    "nohup python att_risk_tutorial.py 21 best 0 8 /YOUR_LOCAL_PATH/original_training_data.csv result/ 1>att_risk_21_08.out 2>att_risk_21_08.err &\n",
    "\n",
    "nohup python att_risk_tutorial.py 22 best 0 8 /YOUR_LOCAL_PATH/original_training_data.csv result/ 1>att_risk_22_08.out 2>att_risk_22_08.err &\n",
    "\n",
    "nohup python att_risk_tutorial.py 23 best 0 8 /YOUR_LOCAL_PATH/original_training_data.csv result/ 1>att_risk_23_08.out 2>att_risk_23_08.err &\n",
    "\n",
    "nohup python att_risk_tutorial.py 24 best 0 8 /YOUR_LOCAL_PATH/original_training_data.csv result/ 1>att_risk_24_08.out 2>att_risk_24_08.err &\n",
    "\n",
    "nohup python att_risk_tutorial.py 25 best 0 8 /YOUR_LOCAL_PATH/original_training_data.csv result/ 1>att_risk_25_08.out 2>att_risk_25_08.err &"
   ]
  },
  {
   "cell_type": "markdown",
   "id": "e1fff017",
   "metadata": {},
   "source": [
    "# Collect results\n"
   ]
  },
  {
   "cell_type": "code",
   "execution_count": 4,
   "id": "95e46d8a",
   "metadata": {},
   "outputs": [],
   "source": [
    "import numpy as np\n",
    "import pandas as pd\n",
    "import scipy.stats as ss\n"
   ]
  },
  {
   "cell_type": "code",
   "execution_count": 10,
   "id": "d02b16c4",
   "metadata": {},
   "outputs": [],
   "source": [
    "privacy_score = {}\n",
    "## Collect risk analysis results. \n",
    "privacy_score['Membership_inference_risk'] = [0.2943, 0.3053, 0.2912, 0.2851, 0.2992]\n",
    "privacy_score['Attribute_inference_risk'] = [0.1430, 0.1419, 0.1431, 0.1284, 0.1448]\n"
   ]
  },
  {
   "cell_type": "code",
   "execution_count": 11,
   "id": "f5ea71e9",
   "metadata": {},
   "outputs": [
    {
     "data": {
      "text/plain": [
       "{'Membership_inference_risk': [3, 5, 2, 1, 4],\n",
       " 'Attribute_inference_risk': [3, 2, 4, 1, 5]}"
      ]
     },
     "execution_count": 11,
     "metadata": {},
     "output_type": "execute_result"
    }
   ],
   "source": [
    "dataset_ranks = {}\n",
    "for metric, score in privacy_score.items():\n",
    "    ranks = ss.rankdata(score).astype(int)\n",
    "    dataset_ranks[metric] = list(ranks)\n",
    "np.save('./result/privacy_score_dataset_ranks.npy', dataset_ranks)\n",
    "dataset_ranks"
   ]
  },
  {
   "cell_type": "code",
   "execution_count": null,
   "id": "13ed7102",
   "metadata": {},
   "outputs": [],
   "source": []
  }
 ],
 "metadata": {
  "kernelspec": {
   "display_name": "Python 3",
   "language": "python",
   "name": "python3"
  },
  "language_info": {
   "codemirror_mode": {
    "name": "ipython",
    "version": 3
   },
   "file_extension": ".py",
   "mimetype": "text/x-python",
   "name": "python",
   "nbconvert_exporter": "python",
   "pygments_lexer": "ipython3",
   "version": "3.7.13"
  }
 },
 "nbformat": 4,
 "nbformat_minor": 5
}
