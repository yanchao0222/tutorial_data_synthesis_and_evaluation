{
 "cells": [
  {
   "cell_type": "code",
   "execution_count": 1,
   "id": "85340848",
   "metadata": {},
   "outputs": [],
   "source": [
    "import numpy as np\n",
    "import pandas as pd\n",
    "from collections import Counter\n",
    "import matplotlib.pyplot as plt\n",
    "import matplotlib\n",
    "from matplotlib import cm\n",
    "from matplotlib.colors import ListedColormap\n",
    "from scipy.spatial import distance\n",
    "from scipy.stats import wasserstein_distance\n",
    "from itertools import chain\n",
    "from numpy import linalg as LA\n",
    "import sklearn.preprocessing as preprocessing\n",
    "from sklearn.decomposition import PCA\n",
    "from sklearn.cluster import KMeans\n",
    "from sklearn import metrics\n",
    "import math\n",
    "import random\n",
    "import copy\n",
    "from sklearn.model_selection import cross_val_score, cross_validate, KFold\n",
    "import lightgbm as lgb\n",
    "import joblib\n",
    "import shap\n",
    "from sklearn.calibration import CalibratedClassifierCV\n",
    "from sklearn.model_selection import GridSearchCV\n",
    "from sklearn.metrics import roc_auc_score, roc_curve, average_precision_score, confusion_matrix\n",
    "import scipy.stats as ss\n",
    "\n",
    "import scipy\n",
    "import collections\n"
   ]
  },
  {
   "cell_type": "markdown",
   "id": "17ea7ba9",
   "metadata": {},
   "source": [
    "# Load real and synthetic data"
   ]
  },
  {
   "cell_type": "code",
   "execution_count": 2,
   "id": "2512782c",
   "metadata": {},
   "outputs": [],
   "source": [
    "# load real data\n",
    "real_data_df = pd.read_csv('/data/chao/syn_mimic/preprocessing/original_training_data.csv') # note this is the training data for GAN training (not include the test data)\n",
    "min_max_log = np.load('/data/chao/syn_mimic/preprocessing/min_max_log.npy', allow_pickle=True).item()\n",
    "# for key, min_max in min_max_log.items():\n",
    "#     min_, max_ = min_max[0], min_max[1]\n",
    "#     col_values = np.array(real_data_df[key])\n",
    "#     real_data_df[key] = (1 - col_values)*max_ + col_values*min_\n",
    "condition_columns = list(real_data_df.columns)[8:-4]\n",
    "# real_data_df"
   ]
  },
  {
   "cell_type": "code",
   "execution_count": 3,
   "id": "5320e481",
   "metadata": {},
   "outputs": [
    {
     "data": {
      "text/plain": [
       "{'AGE': [18, 91],\n",
       " 'BMI': [10.1, 60.0],\n",
       " 'DIASTOLIC': [30.0, 168.0],\n",
       " 'SYSTOLIC': [63.0, 243.0]}"
      ]
     },
     "execution_count": 3,
     "metadata": {},
     "output_type": "execute_result"
    }
   ],
   "source": [
    "min_max_log"
   ]
  },
  {
   "cell_type": "code",
   "execution_count": 4,
   "id": "ade72775",
   "metadata": {},
   "outputs": [
    {
     "name": "stdout",
     "output_type": "stream",
     "text": [
      "85133.0\n",
      "16743.0\n",
      "5338.0\n",
      "6945.0\n",
      "5264.0\n",
      "7099.0\n",
      "Num of y-positive record 14243\n",
      "Num of y-negative record 112279\n"
     ]
    }
   ],
   "source": [
    "print(np.sum(real_data_df['WHITE']))\n",
    "print(np.sum(real_data_df['BLACK']))\n",
    "print(np.sum(real_data_df['ASIAN']))\n",
    "print(np.sum(real_data_df['HISPANIC']))\n",
    "print(np.sum(real_data_df['UN']))\n",
    "print(np.sum(real_data_df['OTHER']))\n",
    "print('Num of y-positive record %d' % np.sum(real_data_df['DIE_1y']))\n",
    "print('Num of y-negative record %d' % (len(real_data_df) - np.sum(real_data_df['DIE_1y'])))"
   ]
  },
  {
   "cell_type": "code",
   "execution_count": 5,
   "id": "1b9c5e44",
   "metadata": {},
   "outputs": [],
   "source": [
    "# load synthetic data\n",
    "col_name_list = list(real_data_df.columns)\n",
    "# model_id_list = [11,12,13,14,15]\n",
    "# ckpt_id_list = [38,38,38,38,38]\n",
    "model_id_list = [21,22,23,24,25]\n",
    "ckpt_id_list = ['best','best','best','best','best']\n",
    "# model_id_list = ['xxx']\n",
    "# ckpt_id_list = [229]\n",
    "syn_data_list = []\n",
    "for model_id, ckpt_id in zip(model_id_list, ckpt_id_list):\n",
    "    \n",
    "    syn_data = np.load(f'/data/chao/syn_mimic/GAN_training/syn/emrwgan_model_{model_id}_ckpt_{ckpt_id}.npy', allow_pickle=True)\n",
    "    for i in range(len(col_name_list)-4):\n",
    "        syn_data[:,i] = (syn_data[:,i] >= 0.5)*1.0\n",
    "    syn_data_df = pd.DataFrame(syn_data, columns = col_name_list)\n",
    "    positive_outcome_syn_data = syn_data_df[syn_data_df['DIE_1y'] == 1.0].values\n",
    "    negative_outcome_syn_data = syn_data_df[syn_data_df['DIE_1y'] == 0.0].values\n",
    "    syn_data_df = np.concatenate((positive_outcome_syn_data[:14243,:], negative_outcome_syn_data[:112279,:]), axis=0)\n",
    "    syn_data_df = pd.DataFrame(syn_data_df, columns = col_name_list)\n",
    "    \n",
    "    syn_data_list.append(syn_data_df.values)\n",
    "    \n",
    "    \n",
    "    "
   ]
  },
  {
   "cell_type": "code",
   "execution_count": 6,
   "id": "b9bb095d",
   "metadata": {},
   "outputs": [
    {
     "data": {
      "text/html": [
       "<div>\n",
       "<style scoped>\n",
       "    .dataframe tbody tr th:only-of-type {\n",
       "        vertical-align: middle;\n",
       "    }\n",
       "\n",
       "    .dataframe tbody tr th {\n",
       "        vertical-align: top;\n",
       "    }\n",
       "\n",
       "    .dataframe thead th {\n",
       "        text-align: right;\n",
       "    }\n",
       "</style>\n",
       "<table border=\"1\" class=\"dataframe\">\n",
       "  <thead>\n",
       "    <tr style=\"text-align: right;\">\n",
       "      <th></th>\n",
       "      <th>WHITE</th>\n",
       "      <th>BLACK</th>\n",
       "      <th>ASIAN</th>\n",
       "      <th>HISPANIC</th>\n",
       "      <th>UN</th>\n",
       "      <th>OTHER</th>\n",
       "      <th>DIE_1y</th>\n",
       "      <th>GENDER</th>\n",
       "      <th>008</th>\n",
       "      <th>008.5</th>\n",
       "      <th>...</th>\n",
       "      <th>985</th>\n",
       "      <th>987</th>\n",
       "      <th>988</th>\n",
       "      <th>989</th>\n",
       "      <th>990</th>\n",
       "      <th>994</th>\n",
       "      <th>AGE</th>\n",
       "      <th>BMI</th>\n",
       "      <th>DIASTOLIC</th>\n",
       "      <th>SYSTOLIC</th>\n",
       "    </tr>\n",
       "  </thead>\n",
       "  <tbody>\n",
       "    <tr>\n",
       "      <th>0</th>\n",
       "      <td>1.0</td>\n",
       "      <td>0.0</td>\n",
       "      <td>0.0</td>\n",
       "      <td>0.0</td>\n",
       "      <td>0.0</td>\n",
       "      <td>0.0</td>\n",
       "      <td>1.0</td>\n",
       "      <td>1.0</td>\n",
       "      <td>0.0</td>\n",
       "      <td>0.0</td>\n",
       "      <td>...</td>\n",
       "      <td>0.0</td>\n",
       "      <td>0.0</td>\n",
       "      <td>0.0</td>\n",
       "      <td>0.0</td>\n",
       "      <td>0.0</td>\n",
       "      <td>1.0</td>\n",
       "      <td>84.350143</td>\n",
       "      <td>23.614958</td>\n",
       "      <td>93.114929</td>\n",
       "      <td>123.208267</td>\n",
       "    </tr>\n",
       "    <tr>\n",
       "      <th>1</th>\n",
       "      <td>1.0</td>\n",
       "      <td>0.0</td>\n",
       "      <td>0.0</td>\n",
       "      <td>0.0</td>\n",
       "      <td>0.0</td>\n",
       "      <td>0.0</td>\n",
       "      <td>1.0</td>\n",
       "      <td>0.0</td>\n",
       "      <td>0.0</td>\n",
       "      <td>0.0</td>\n",
       "      <td>...</td>\n",
       "      <td>0.0</td>\n",
       "      <td>0.0</td>\n",
       "      <td>0.0</td>\n",
       "      <td>0.0</td>\n",
       "      <td>0.0</td>\n",
       "      <td>0.0</td>\n",
       "      <td>71.803825</td>\n",
       "      <td>27.257238</td>\n",
       "      <td>68.973907</td>\n",
       "      <td>103.245514</td>\n",
       "    </tr>\n",
       "    <tr>\n",
       "      <th>2</th>\n",
       "      <td>1.0</td>\n",
       "      <td>0.0</td>\n",
       "      <td>0.0</td>\n",
       "      <td>0.0</td>\n",
       "      <td>0.0</td>\n",
       "      <td>0.0</td>\n",
       "      <td>1.0</td>\n",
       "      <td>1.0</td>\n",
       "      <td>0.0</td>\n",
       "      <td>0.0</td>\n",
       "      <td>...</td>\n",
       "      <td>0.0</td>\n",
       "      <td>0.0</td>\n",
       "      <td>0.0</td>\n",
       "      <td>0.0</td>\n",
       "      <td>0.0</td>\n",
       "      <td>0.0</td>\n",
       "      <td>78.443298</td>\n",
       "      <td>33.419670</td>\n",
       "      <td>70.164368</td>\n",
       "      <td>157.498489</td>\n",
       "    </tr>\n",
       "    <tr>\n",
       "      <th>3</th>\n",
       "      <td>1.0</td>\n",
       "      <td>0.0</td>\n",
       "      <td>0.0</td>\n",
       "      <td>0.0</td>\n",
       "      <td>0.0</td>\n",
       "      <td>0.0</td>\n",
       "      <td>1.0</td>\n",
       "      <td>1.0</td>\n",
       "      <td>0.0</td>\n",
       "      <td>0.0</td>\n",
       "      <td>...</td>\n",
       "      <td>0.0</td>\n",
       "      <td>0.0</td>\n",
       "      <td>0.0</td>\n",
       "      <td>0.0</td>\n",
       "      <td>0.0</td>\n",
       "      <td>0.0</td>\n",
       "      <td>85.685913</td>\n",
       "      <td>19.148912</td>\n",
       "      <td>60.110695</td>\n",
       "      <td>87.023987</td>\n",
       "    </tr>\n",
       "    <tr>\n",
       "      <th>4</th>\n",
       "      <td>0.0</td>\n",
       "      <td>0.0</td>\n",
       "      <td>0.0</td>\n",
       "      <td>0.0</td>\n",
       "      <td>1.0</td>\n",
       "      <td>0.0</td>\n",
       "      <td>1.0</td>\n",
       "      <td>0.0</td>\n",
       "      <td>0.0</td>\n",
       "      <td>0.0</td>\n",
       "      <td>...</td>\n",
       "      <td>0.0</td>\n",
       "      <td>0.0</td>\n",
       "      <td>0.0</td>\n",
       "      <td>0.0</td>\n",
       "      <td>0.0</td>\n",
       "      <td>0.0</td>\n",
       "      <td>82.278709</td>\n",
       "      <td>19.135632</td>\n",
       "      <td>56.075882</td>\n",
       "      <td>151.215668</td>\n",
       "    </tr>\n",
       "    <tr>\n",
       "      <th>...</th>\n",
       "      <td>...</td>\n",
       "      <td>...</td>\n",
       "      <td>...</td>\n",
       "      <td>...</td>\n",
       "      <td>...</td>\n",
       "      <td>...</td>\n",
       "      <td>...</td>\n",
       "      <td>...</td>\n",
       "      <td>...</td>\n",
       "      <td>...</td>\n",
       "      <td>...</td>\n",
       "      <td>...</td>\n",
       "      <td>...</td>\n",
       "      <td>...</td>\n",
       "      <td>...</td>\n",
       "      <td>...</td>\n",
       "      <td>...</td>\n",
       "      <td>...</td>\n",
       "      <td>...</td>\n",
       "      <td>...</td>\n",
       "      <td>...</td>\n",
       "    </tr>\n",
       "    <tr>\n",
       "      <th>126517</th>\n",
       "      <td>1.0</td>\n",
       "      <td>0.0</td>\n",
       "      <td>0.0</td>\n",
       "      <td>0.0</td>\n",
       "      <td>0.0</td>\n",
       "      <td>0.0</td>\n",
       "      <td>0.0</td>\n",
       "      <td>0.0</td>\n",
       "      <td>0.0</td>\n",
       "      <td>0.0</td>\n",
       "      <td>...</td>\n",
       "      <td>0.0</td>\n",
       "      <td>0.0</td>\n",
       "      <td>0.0</td>\n",
       "      <td>0.0</td>\n",
       "      <td>0.0</td>\n",
       "      <td>0.0</td>\n",
       "      <td>58.522797</td>\n",
       "      <td>30.887070</td>\n",
       "      <td>61.045025</td>\n",
       "      <td>127.172646</td>\n",
       "    </tr>\n",
       "    <tr>\n",
       "      <th>126518</th>\n",
       "      <td>0.0</td>\n",
       "      <td>1.0</td>\n",
       "      <td>0.0</td>\n",
       "      <td>0.0</td>\n",
       "      <td>0.0</td>\n",
       "      <td>0.0</td>\n",
       "      <td>0.0</td>\n",
       "      <td>1.0</td>\n",
       "      <td>0.0</td>\n",
       "      <td>0.0</td>\n",
       "      <td>...</td>\n",
       "      <td>0.0</td>\n",
       "      <td>0.0</td>\n",
       "      <td>0.0</td>\n",
       "      <td>0.0</td>\n",
       "      <td>0.0</td>\n",
       "      <td>0.0</td>\n",
       "      <td>39.242012</td>\n",
       "      <td>29.067101</td>\n",
       "      <td>54.062607</td>\n",
       "      <td>101.034927</td>\n",
       "    </tr>\n",
       "    <tr>\n",
       "      <th>126519</th>\n",
       "      <td>1.0</td>\n",
       "      <td>0.0</td>\n",
       "      <td>0.0</td>\n",
       "      <td>0.0</td>\n",
       "      <td>0.0</td>\n",
       "      <td>0.0</td>\n",
       "      <td>0.0</td>\n",
       "      <td>1.0</td>\n",
       "      <td>1.0</td>\n",
       "      <td>0.0</td>\n",
       "      <td>...</td>\n",
       "      <td>0.0</td>\n",
       "      <td>0.0</td>\n",
       "      <td>0.0</td>\n",
       "      <td>0.0</td>\n",
       "      <td>0.0</td>\n",
       "      <td>0.0</td>\n",
       "      <td>87.370811</td>\n",
       "      <td>30.257900</td>\n",
       "      <td>71.085159</td>\n",
       "      <td>102.389084</td>\n",
       "    </tr>\n",
       "    <tr>\n",
       "      <th>126520</th>\n",
       "      <td>0.0</td>\n",
       "      <td>0.0</td>\n",
       "      <td>0.0</td>\n",
       "      <td>0.0</td>\n",
       "      <td>1.0</td>\n",
       "      <td>0.0</td>\n",
       "      <td>0.0</td>\n",
       "      <td>1.0</td>\n",
       "      <td>0.0</td>\n",
       "      <td>0.0</td>\n",
       "      <td>...</td>\n",
       "      <td>0.0</td>\n",
       "      <td>0.0</td>\n",
       "      <td>0.0</td>\n",
       "      <td>0.0</td>\n",
       "      <td>0.0</td>\n",
       "      <td>0.0</td>\n",
       "      <td>68.206734</td>\n",
       "      <td>23.069759</td>\n",
       "      <td>64.998894</td>\n",
       "      <td>95.993744</td>\n",
       "    </tr>\n",
       "    <tr>\n",
       "      <th>126521</th>\n",
       "      <td>0.0</td>\n",
       "      <td>0.0</td>\n",
       "      <td>0.0</td>\n",
       "      <td>0.0</td>\n",
       "      <td>1.0</td>\n",
       "      <td>0.0</td>\n",
       "      <td>0.0</td>\n",
       "      <td>0.0</td>\n",
       "      <td>0.0</td>\n",
       "      <td>0.0</td>\n",
       "      <td>...</td>\n",
       "      <td>0.0</td>\n",
       "      <td>0.0</td>\n",
       "      <td>0.0</td>\n",
       "      <td>0.0</td>\n",
       "      <td>0.0</td>\n",
       "      <td>0.0</td>\n",
       "      <td>76.463028</td>\n",
       "      <td>35.259880</td>\n",
       "      <td>72.703079</td>\n",
       "      <td>113.695496</td>\n",
       "    </tr>\n",
       "  </tbody>\n",
       "</table>\n",
       "<p>126522 rows × 1460 columns</p>\n",
       "</div>"
      ],
      "text/plain": [
       "        WHITE  BLACK  ASIAN  HISPANIC   UN  OTHER  DIE_1y  GENDER  008  008.5  \\\n",
       "0         1.0    0.0    0.0       0.0  0.0    0.0     1.0     1.0  0.0    0.0   \n",
       "1         1.0    0.0    0.0       0.0  0.0    0.0     1.0     0.0  0.0    0.0   \n",
       "2         1.0    0.0    0.0       0.0  0.0    0.0     1.0     1.0  0.0    0.0   \n",
       "3         1.0    0.0    0.0       0.0  0.0    0.0     1.0     1.0  0.0    0.0   \n",
       "4         0.0    0.0    0.0       0.0  1.0    0.0     1.0     0.0  0.0    0.0   \n",
       "...       ...    ...    ...       ...  ...    ...     ...     ...  ...    ...   \n",
       "126517    1.0    0.0    0.0       0.0  0.0    0.0     0.0     0.0  0.0    0.0   \n",
       "126518    0.0    1.0    0.0       0.0  0.0    0.0     0.0     1.0  0.0    0.0   \n",
       "126519    1.0    0.0    0.0       0.0  0.0    0.0     0.0     1.0  1.0    0.0   \n",
       "126520    0.0    0.0    0.0       0.0  1.0    0.0     0.0     1.0  0.0    0.0   \n",
       "126521    0.0    0.0    0.0       0.0  1.0    0.0     0.0     0.0  0.0    0.0   \n",
       "\n",
       "        ...  985  987  988  989  990  994        AGE        BMI  DIASTOLIC  \\\n",
       "0       ...  0.0  0.0  0.0  0.0  0.0  1.0  84.350143  23.614958  93.114929   \n",
       "1       ...  0.0  0.0  0.0  0.0  0.0  0.0  71.803825  27.257238  68.973907   \n",
       "2       ...  0.0  0.0  0.0  0.0  0.0  0.0  78.443298  33.419670  70.164368   \n",
       "3       ...  0.0  0.0  0.0  0.0  0.0  0.0  85.685913  19.148912  60.110695   \n",
       "4       ...  0.0  0.0  0.0  0.0  0.0  0.0  82.278709  19.135632  56.075882   \n",
       "...     ...  ...  ...  ...  ...  ...  ...        ...        ...        ...   \n",
       "126517  ...  0.0  0.0  0.0  0.0  0.0  0.0  58.522797  30.887070  61.045025   \n",
       "126518  ...  0.0  0.0  0.0  0.0  0.0  0.0  39.242012  29.067101  54.062607   \n",
       "126519  ...  0.0  0.0  0.0  0.0  0.0  0.0  87.370811  30.257900  71.085159   \n",
       "126520  ...  0.0  0.0  0.0  0.0  0.0  0.0  68.206734  23.069759  64.998894   \n",
       "126521  ...  0.0  0.0  0.0  0.0  0.0  0.0  76.463028  35.259880  72.703079   \n",
       "\n",
       "          SYSTOLIC  \n",
       "0       123.208267  \n",
       "1       103.245514  \n",
       "2       157.498489  \n",
       "3        87.023987  \n",
       "4       151.215668  \n",
       "...            ...  \n",
       "126517  127.172646  \n",
       "126518  101.034927  \n",
       "126519  102.389084  \n",
       "126520   95.993744  \n",
       "126521  113.695496  \n",
       "\n",
       "[126522 rows x 1460 columns]"
      ]
     },
     "execution_count": 6,
     "metadata": {},
     "output_type": "execute_result"
    }
   ],
   "source": [
    "syn_data_df"
   ]
  },
  {
   "cell_type": "code",
   "execution_count": 7,
   "id": "0ee5df5c",
   "metadata": {},
   "outputs": [
    {
     "name": "stdout",
     "output_type": "stream",
     "text": [
      "77817.0\n",
      "15919.0\n",
      "6119.0\n",
      "9755.0\n",
      "6925.0\n",
      "9987.0\n"
     ]
    }
   ],
   "source": [
    "print(np.sum(syn_data_df['WHITE']))\n",
    "print(np.sum(syn_data_df['BLACK']))\n",
    "print(np.sum(syn_data_df['ASIAN']))\n",
    "print(np.sum(syn_data_df['HISPANIC']))\n",
    "print(np.sum(syn_data_df['UN']))\n",
    "print(np.sum(syn_data_df['OTHER']))"
   ]
  },
  {
   "cell_type": "code",
   "execution_count": 8,
   "id": "c06b6bcb",
   "metadata": {},
   "outputs": [],
   "source": [
    "utility_score = {}\n",
    "privacy_score = {}"
   ]
  },
  {
   "cell_type": "markdown",
   "id": "550f820a",
   "metadata": {},
   "source": [
    "# Data utility evaluation "
   ]
  },
  {
   "cell_type": "markdown",
   "id": "3b2bcd71",
   "metadata": {},
   "source": [
    "## 1. Utility Metrics"
   ]
  },
  {
   "cell_type": "markdown",
   "id": "4c738191",
   "metadata": {},
   "source": [
    "### 1.a Dimension-wise distribution"
   ]
  },
  {
   "cell_type": "code",
   "execution_count": 9,
   "id": "fc076136",
   "metadata": {},
   "outputs": [
    {
     "name": "stdout",
     "output_type": "stream",
     "text": [
      "1455\n"
     ]
    },
    {
     "data": {
      "image/png": "[encoded data removed]",
      "text/plain": [
       "<Figure size 3200x550 with 5 Axes>"
      ]
     },
     "metadata": {},
     "output_type": "display_data"
    }
   ],
   "source": [
    "## Dimension-wise distribution: binary features\n",
    "\n",
    "binary_d2d_average = {}\n",
    "binary_d2d_sum = {}\n",
    "binary_perc_real = []\n",
    "FEATURE_COUNT = len(syn_data_df.columns) - 4\n",
    "train_data = real_data_df.values\n",
    "for c in range(0,FEATURE_COUNT):\n",
    "    if c != 6:\n",
    "        binary_perc_real.append(np.sum(train_data[:,c])/train_data.shape[0])\n",
    "print(len(binary_perc_real))\n",
    "\n",
    "fig, axs = plt.subplots(1, 5, figsize = (32,5.5))\n",
    "plt.setp(axs, xticks=[0, 1.0, 1],\n",
    "        yticks=[0, 1.0, 1])\n",
    "\n",
    "# plt.xticks(fontsize=20)\n",
    "\n",
    "sd2d_result = []\n",
    "ad2d_result = []\n",
    "for run in range(len(syn_data_list)):\n",
    "    syn_data = syn_data_list[run]\n",
    "    binary_perc_syn = []\n",
    "\n",
    "    for c in range(0,FEATURE_COUNT):\n",
    "        if c != 6:\n",
    "            binary_perc_syn.append(np.sum(syn_data[:,c])/train_data.shape[0])\n",
    "    # define categories for features\n",
    "    cluster_list= np.array([0]*6 + [2] + [1]*len(condition_columns))\n",
    "    # calculate sd2d for each synthetic data\n",
    "    sd2d = np.sum(abs(np.array(binary_perc_syn) - np.array(binary_perc_real)))\n",
    "    ad2d = np.sum(abs(np.array(binary_perc_syn) - np.array(binary_perc_real))) / FEATURE_COUNT * 1000.0 \n",
    "\n",
    "    for index in [2,1,0]:\n",
    "        if index == 0:\n",
    "            marker = \"s\"\n",
    "            color = 'black'\n",
    "            label = 'Race'\n",
    "        elif index == 1:\n",
    "            marker = \"o\"\n",
    "            color = 'pink'\n",
    "            label = 'Diagnosis'\n",
    "        else:\n",
    "            marker = \"d\"\n",
    "            color = 'green'\n",
    "            label = 'Gender'\n",
    "\n",
    "        axs[run].scatter(np.array(binary_perc_real)[cluster_list==index], np.array(binary_perc_syn)[cluster_list==index], color = color, s = 48, label=label,marker = marker,alpha=0.9)\n",
    "\n",
    "\n",
    "    axs[run].set_xlabel(\"Real\", fontsize = 20)\n",
    "    axs[run].set_ylabel(\"Synthetic\", fontsize = 20)\n",
    "    axs[run].set_xlim(0, 1)\n",
    "    axs[run].set_ylim(0, 1)\n",
    "    axs[run].tick_params(labelsize=20)\n",
    "\n",
    "    #axs[i,run-1].set_title(f'{syn_list[i]}_{run}', fontsize = 8)\n",
    "    axs[run].plot([0, 1], [0, 1], ls=\"--\", c=\".1\")\n",
    "    axs[run].text(0.4, 0.10, f'APD = {ad2d:.2f}', fontsize = 20)\n",
    "    sd2d_result.append(sd2d)\n",
    "    ad2d_result.append(ad2d)\n",
    "\n",
    "# plt.legend(loc='center left', bbox_to_anchor=(1, 0.5),fontsize=15, frameon=False)\n",
    "plt.legend(loc='center left', bbox_to_anchor=(1, 0.5),fontsize=20, frameon=False)\n",
    "plt.show()\n",
    "# fig.savefig('./gan_com_5run_vumc_0630.eps',bbox_inches='tight',format='eps') \n",
    "\n"
   ]
  },
  {
   "cell_type": "code",
   "execution_count": 10,
   "id": "7da75a26",
   "metadata": {},
   "outputs": [
    {
     "data": {
      "text/plain": [
       "[1.4544506093801868,\n",
       " 0.6742226648329936,\n",
       " 2.1091272664042617,\n",
       " 1.5138869129479458,\n",
       " 1.16013815779074]"
      ]
     },
     "execution_count": 10,
     "metadata": {},
     "output_type": "execute_result"
    }
   ],
   "source": [
    "sd2d_result"
   ]
  },
  {
   "cell_type": "code",
   "execution_count": 11,
   "id": "90296b7e",
   "metadata": {},
   "outputs": [
    {
     "name": "stdout",
     "output_type": "stream",
     "text": [
      "18.0\n",
      "91.0\n",
      "10.1\n",
      "60.0\n",
      "30.0\n",
      "168.0\n",
      "63.0\n",
      "243.0\n",
      "\n",
      " AGE\n"
     ]
    },
    {
     "data": {
      "image/png": "[encoded data removed]",
      "text/plain": [
       "<Figure size 2000x300 with 6 Axes>"
      ]
     },
     "metadata": {},
     "output_type": "display_data"
    },
    {
     "name": "stdout",
     "output_type": "stream",
     "text": [
      "EMR-WGAN : mean: 1.2186, std: 0.3797\n",
      "\n",
      " BMI\n"
     ]
    },
    {
     "data": {
      "image/png": "[encoded data removed]",
      "text/plain": [
       "<Figure size 2000x300 with 6 Axes>"
      ]
     },
     "metadata": {},
     "output_type": "display_data"
    },
    {
     "name": "stdout",
     "output_type": "stream",
     "text": [
      "EMR-WGAN : mean: 1.2033, std: 0.3995\n",
      "\n",
      " DIASTOLIC\n"
     ]
    },
    {
     "data": {
      "image/png": "[encoded data removed]",
      "text/plain": [
       "<Figure size 2000x300 with 6 Axes>"
      ]
     },
     "metadata": {},
     "output_type": "display_data"
    },
    {
     "name": "stdout",
     "output_type": "stream",
     "text": [
      "EMR-WGAN : mean: 2.5176, std: 0.7013\n",
      "\n",
      " SYSTOLIC\n"
     ]
    },
    {
     "data": {
      "image/png": "[encoded data removed]",
      "text/plain": [
       "<Figure size 2000x300 with 6 Axes>"
      ]
     },
     "metadata": {},
     "output_type": "display_data"
    },
    {
     "name": "stdout",
     "output_type": "stream",
     "text": [
      "EMR-WGAN : mean: 4.5150, std: 2.4592\n",
      "{'AGE': [1.1937850705457331, 0.7299580089291527, 1.8845565517790546, 1.2572501878685198, 1.0272469898128063], 'BMI': [0.6790634877678603, 1.154722648992723, 1.154076944843463, 1.917514544873061, 1.111290351130316], 'DIASTOLIC': [1.8886651485516257, 2.645264896888435, 2.1384315854337284, 3.828403435890693, 2.087041844456488], 'SYSTOLIC': [2.606737967817816, 3.4336466856556522, 3.5545387166157845, 9.380067745509097, 3.6001272879471315]}\n"
     ]
    }
   ],
   "source": [
    "## Dimension-wise distribution: continuous features\n",
    "\n",
    "print(np.min(list(real_data_df['AGE'])))\n",
    "print(np.max(list(real_data_df['AGE'])))\n",
    "\n",
    "print(np.min(list(real_data_df['BMI'])))\n",
    "print(np.max(list(real_data_df['BMI'])))\n",
    "\n",
    "print(np.min(list(real_data_df['DIASTOLIC'])))\n",
    "print(np.max(list(real_data_df['DIASTOLIC'])))\n",
    "\n",
    "print(np.min(list(real_data_df['SYSTOLIC'])))\n",
    "print(np.max(list(real_data_df['SYSTOLIC'])))\n",
    "\n",
    "continuous_w_d = {}\n",
    "continuous_columns = ['AGE', 'BMI', 'DIASTOLIC', 'SYSTOLIC']\n",
    "\n",
    "RUN_list = [1,2,3,4,5]\n",
    "\n",
    "for column in continuous_columns:\n",
    "    distances_to_real = []\n",
    "\n",
    "    model_list_figure = ['Real']\n",
    "    real_values = list(real_data_df[column])\n",
    "    data_list = [real_values]\n",
    "    color_list = ['maroon']\n",
    "    for run in RUN_list:\n",
    "        emrwgan_df = pd.DataFrame(syn_data_list[run-1], columns = list(real_data_df.columns))\n",
    "        data_list.append(list(emrwgan_df[column]))\n",
    "        color_list.append('blue')\n",
    "        model_list_figure.append('EMR-WGAN')\n",
    "    \n",
    "    fig = plt.figure(figsize=(20, 3))\n",
    "    \n",
    "    print('\\n %s' % column)\n",
    "    for subplot_count in range(len(data_list)):\n",
    "        \n",
    "        if subplot_count > 0:\n",
    "            distances_to_real.append(wasserstein_distance(real_values, data_list[subplot_count]))\n",
    "        \n",
    "        plt.subplot(1, 6, subplot_count+1)\n",
    "        # fig = plt.figure(figsize = (3, 5))\n",
    "        plt.hist(data_list[subplot_count], color = color_list[subplot_count])\n",
    "        plt.xlabel(\"Value\")\n",
    "#         plt.ylim(0, 10000)\n",
    "        plt.title(model_list_figure[subplot_count])\n",
    "        plt.grid(color = 'blue', linestyle = '--', axis = 'y')\n",
    "\n",
    "    plt.show()\n",
    "    print(\"EMR-WGAN : mean: %.4f, std: %.4f\" % (np.mean(distances_to_real), np.std(distances_to_real)))\n",
    "\n",
    "    continuous_w_d[column] = distances_to_real\n",
    "print(continuous_w_d)"
   ]
  },
  {
   "cell_type": "code",
   "execution_count": 12,
   "id": "7683ade8",
   "metadata": {},
   "outputs": [
    {
     "name": "stdout",
     "output_type": "stream",
     "text": [
      "[0.04017215 0.08962114 0.16522487 0.34566888 0.08554203]\n"
     ]
    },
    {
     "data": {
      "text/html": [
       "<div>\n",
       "<style scoped>\n",
       "    .dataframe tbody tr th:only-of-type {\n",
       "        vertical-align: middle;\n",
       "    }\n",
       "\n",
       "    .dataframe tbody tr th {\n",
       "        vertical-align: top;\n",
       "    }\n",
       "\n",
       "    .dataframe thead th {\n",
       "        text-align: right;\n",
       "    }\n",
       "</style>\n",
       "<table border=\"1\" class=\"dataframe\">\n",
       "  <thead>\n",
       "    <tr style=\"text-align: right;\">\n",
       "      <th></th>\n",
       "      <th>AGE</th>\n",
       "      <th>BMI</th>\n",
       "      <th>DIASTOLIC</th>\n",
       "      <th>SYSTOLIC</th>\n",
       "    </tr>\n",
       "  </thead>\n",
       "  <tbody>\n",
       "    <tr>\n",
       "      <th>0</th>\n",
       "      <td>0.040172</td>\n",
       "      <td>0.000000</td>\n",
       "      <td>0.000000</td>\n",
       "      <td>0.000000</td>\n",
       "    </tr>\n",
       "    <tr>\n",
       "      <th>1</th>\n",
       "      <td>0.000000</td>\n",
       "      <td>0.038408</td>\n",
       "      <td>0.039005</td>\n",
       "      <td>0.012208</td>\n",
       "    </tr>\n",
       "    <tr>\n",
       "      <th>2</th>\n",
       "      <td>0.100000</td>\n",
       "      <td>0.038355</td>\n",
       "      <td>0.012876</td>\n",
       "      <td>0.013993</td>\n",
       "    </tr>\n",
       "    <tr>\n",
       "      <th>3</th>\n",
       "      <td>0.045669</td>\n",
       "      <td>0.100000</td>\n",
       "      <td>0.100000</td>\n",
       "      <td>0.100000</td>\n",
       "    </tr>\n",
       "    <tr>\n",
       "      <th>4</th>\n",
       "      <td>0.025748</td>\n",
       "      <td>0.034901</td>\n",
       "      <td>0.010227</td>\n",
       "      <td>0.014666</td>\n",
       "    </tr>\n",
       "  </tbody>\n",
       "</table>\n",
       "</div>"
      ],
      "text/plain": [
       "        AGE       BMI  DIASTOLIC  SYSTOLIC\n",
       "0  0.040172  0.000000   0.000000  0.000000\n",
       "1  0.000000  0.038408   0.039005  0.012208\n",
       "2  0.100000  0.038355   0.012876  0.013993\n",
       "3  0.045669  0.100000   0.100000  0.100000\n",
       "4  0.025748  0.034901   0.010227  0.014666"
      ]
     },
     "execution_count": 12,
     "metadata": {},
     "output_type": "execute_result"
    }
   ],
   "source": [
    "continuous_value = {}\n",
    "norm_continuous_value = {}\n",
    "    \n",
    "for test, w_d in continuous_w_d.items():\n",
    "    w_d = list(w_d)\n",
    "    max_val = np.max(w_d)\n",
    "    min_val = np.min(w_d)\n",
    "    norm_w_d = (w_d - min_val) / (max_val-min_val) / 10\n",
    "    continuous_value[test] = w_d\n",
    "    norm_continuous_value[test] = list(norm_w_d)\n",
    "    \n",
    "continuous_value_df = pd.DataFrame.from_dict(continuous_value)\n",
    "norm_continuous_value_df = pd.DataFrame.from_dict(norm_continuous_value)\n",
    "sum_all_continuous_variables = np.sum(norm_continuous_value_df.values, axis = 1)\n",
    "print(sum_all_continuous_variables)\n",
    "norm_continuous_value_df"
   ]
  },
  {
   "cell_type": "code",
   "execution_count": 13,
   "id": "775f929f",
   "metadata": {},
   "outputs": [
    {
     "name": "stdout",
     "output_type": "stream",
     "text": [
      "Dimension-wise distribution scores for all considered runs: [1.024415873644543, 0.5235392767153383, 1.5588431385697294, 1.2745413222278763, 0.8537903943627151]\n"
     ]
    }
   ],
   "source": [
    "combine_score_binary_cont = []\n",
    "for run in RUN_list:\n",
    "    combine_score_binary_cont.append((sd2d_result[run-1] + sum_all_continuous_variables[run-1])/(len(real_data_df.columns)-1) * 1000)\n",
    "\n",
    "print('Dimension-wise distribution scores for all considered runs:', combine_score_binary_cont)\n",
    "utility_score['Dimension-wise distribution'] = combine_score_binary_cont\n",
    "\n"
   ]
  },
  {
   "cell_type": "markdown",
   "id": "870bb6cc",
   "metadata": {},
   "source": [
    "### 1.b Column-wise correlation"
   ]
  },
  {
   "cell_type": "code",
   "execution_count": 14,
   "id": "2cd9a644",
   "metadata": {},
   "outputs": [
    {
     "name": "stdout",
     "output_type": "stream",
     "text": [
      "Column-wise correlation difference: \n",
      "\n",
      "[5.800565453515808, 5.4226583129816746, 5.9071028272186075, 6.3210266094586265, 6.315851456601387]\n"
     ]
    }
   ],
   "source": [
    "real_cor = np.corrcoef(np.transpose(train_data))\n",
    "cwc = []\n",
    "print(\"Column-wise correlation difference: \\n\")\n",
    "for matrix in syn_data_list:\n",
    "    np.random.seed(0)\n",
    "    noise_matrix = (np.random.rand(len(matrix),len(matrix[0])) - 1) / 100000000    \n",
    "    syn_cor = np.corrcoef(np.transpose(np.array(matrix) + noise_matrix))\n",
    "    cwc.append(LA.norm(real_cor - syn_cor, 'fro') / len(real_data_df.columns) / len(real_data_df.columns) * 1000 * 1000)\n",
    "\n",
    "print(cwc)\n",
    "utility_score['Column-wise correlation'] = cwc\n"
   ]
  },
  {
   "cell_type": "code",
   "execution_count": 15,
   "id": "96b8a23c",
   "metadata": {},
   "outputs": [
    {
     "data": {
      "text/plain": [
       "array([  1.      ,   0.      ,   0.      , ...,  25.405653,  75.980865,\n",
       "       144.44333 ], dtype=float32)"
      ]
     },
     "execution_count": 15,
     "metadata": {},
     "output_type": "execute_result"
    }
   ],
   "source": [
    "syn_data_list[0][0]"
   ]
  },
  {
   "cell_type": "markdown",
   "id": "3e24b89f",
   "metadata": {},
   "source": [
    "### 1.c Latent cluster analysis"
   ]
  },
  {
   "cell_type": "code",
   "execution_count": 16,
   "id": "c1ed0b15",
   "metadata": {},
   "outputs": [],
   "source": [
    "min_max_scaler = preprocessing.MinMaxScaler()\n",
    "train_data_tmp = copy.deepcopy(train_data)\n",
    "train_data_df = pd.DataFrame(train_data_tmp)\n",
    "train_data_df.loc[:,[1456, 1457, 1458, 1459]] = min_max_scaler.fit_transform(train_data_df[[1456, 1457, 1458, 1459]].values)\n",
    "NUM_C = 5 ## the number of clusters which has been optimized\n"
   ]
  },
  {
   "cell_type": "code",
   "execution_count": 17,
   "id": "4c2c4667",
   "metadata": {},
   "outputs": [
    {
     "data": {
      "text/html": [
       "<div>\n",
       "<style scoped>\n",
       "    .dataframe tbody tr th:only-of-type {\n",
       "        vertical-align: middle;\n",
       "    }\n",
       "\n",
       "    .dataframe tbody tr th {\n",
       "        vertical-align: top;\n",
       "    }\n",
       "\n",
       "    .dataframe thead th {\n",
       "        text-align: right;\n",
       "    }\n",
       "</style>\n",
       "<table border=\"1\" class=\"dataframe\">\n",
       "  <thead>\n",
       "    <tr style=\"text-align: right;\">\n",
       "      <th></th>\n",
       "      <th>WHITE</th>\n",
       "      <th>BLACK</th>\n",
       "      <th>ASIAN</th>\n",
       "      <th>HISPANIC</th>\n",
       "      <th>UN</th>\n",
       "      <th>OTHER</th>\n",
       "      <th>DIE_1y</th>\n",
       "      <th>GENDER</th>\n",
       "      <th>008</th>\n",
       "      <th>008.5</th>\n",
       "      <th>...</th>\n",
       "      <th>985</th>\n",
       "      <th>987</th>\n",
       "      <th>988</th>\n",
       "      <th>989</th>\n",
       "      <th>990</th>\n",
       "      <th>994</th>\n",
       "      <th>AGE</th>\n",
       "      <th>BMI</th>\n",
       "      <th>DIASTOLIC</th>\n",
       "      <th>SYSTOLIC</th>\n",
       "    </tr>\n",
       "  </thead>\n",
       "  <tbody>\n",
       "    <tr>\n",
       "      <th>0</th>\n",
       "      <td>1.0</td>\n",
       "      <td>0.0</td>\n",
       "      <td>0.0</td>\n",
       "      <td>0.0</td>\n",
       "      <td>0.0</td>\n",
       "      <td>0.0</td>\n",
       "      <td>0.0</td>\n",
       "      <td>1.0</td>\n",
       "      <td>0.0</td>\n",
       "      <td>0.0</td>\n",
       "      <td>...</td>\n",
       "      <td>0.0</td>\n",
       "      <td>0.0</td>\n",
       "      <td>0.0</td>\n",
       "      <td>0.0</td>\n",
       "      <td>0.0</td>\n",
       "      <td>0.0</td>\n",
       "      <td>91.0</td>\n",
       "      <td>35.3</td>\n",
       "      <td>104.0</td>\n",
       "      <td>144.0</td>\n",
       "    </tr>\n",
       "    <tr>\n",
       "      <th>1</th>\n",
       "      <td>1.0</td>\n",
       "      <td>0.0</td>\n",
       "      <td>0.0</td>\n",
       "      <td>0.0</td>\n",
       "      <td>0.0</td>\n",
       "      <td>0.0</td>\n",
       "      <td>1.0</td>\n",
       "      <td>1.0</td>\n",
       "      <td>0.0</td>\n",
       "      <td>0.0</td>\n",
       "      <td>...</td>\n",
       "      <td>0.0</td>\n",
       "      <td>0.0</td>\n",
       "      <td>0.0</td>\n",
       "      <td>0.0</td>\n",
       "      <td>0.0</td>\n",
       "      <td>0.0</td>\n",
       "      <td>86.0</td>\n",
       "      <td>24.1</td>\n",
       "      <td>47.0</td>\n",
       "      <td>107.0</td>\n",
       "    </tr>\n",
       "    <tr>\n",
       "      <th>2</th>\n",
       "      <td>0.0</td>\n",
       "      <td>1.0</td>\n",
       "      <td>0.0</td>\n",
       "      <td>0.0</td>\n",
       "      <td>0.0</td>\n",
       "      <td>0.0</td>\n",
       "      <td>0.0</td>\n",
       "      <td>1.0</td>\n",
       "      <td>0.0</td>\n",
       "      <td>0.0</td>\n",
       "      <td>...</td>\n",
       "      <td>0.0</td>\n",
       "      <td>0.0</td>\n",
       "      <td>0.0</td>\n",
       "      <td>0.0</td>\n",
       "      <td>0.0</td>\n",
       "      <td>0.0</td>\n",
       "      <td>55.0</td>\n",
       "      <td>39.0</td>\n",
       "      <td>75.0</td>\n",
       "      <td>112.0</td>\n",
       "    </tr>\n",
       "    <tr>\n",
       "      <th>3</th>\n",
       "      <td>0.0</td>\n",
       "      <td>0.0</td>\n",
       "      <td>1.0</td>\n",
       "      <td>0.0</td>\n",
       "      <td>0.0</td>\n",
       "      <td>0.0</td>\n",
       "      <td>0.0</td>\n",
       "      <td>1.0</td>\n",
       "      <td>0.0</td>\n",
       "      <td>0.0</td>\n",
       "      <td>...</td>\n",
       "      <td>0.0</td>\n",
       "      <td>0.0</td>\n",
       "      <td>0.0</td>\n",
       "      <td>0.0</td>\n",
       "      <td>0.0</td>\n",
       "      <td>0.0</td>\n",
       "      <td>18.0</td>\n",
       "      <td>23.0</td>\n",
       "      <td>70.0</td>\n",
       "      <td>128.0</td>\n",
       "    </tr>\n",
       "    <tr>\n",
       "      <th>4</th>\n",
       "      <td>1.0</td>\n",
       "      <td>0.0</td>\n",
       "      <td>0.0</td>\n",
       "      <td>0.0</td>\n",
       "      <td>0.0</td>\n",
       "      <td>0.0</td>\n",
       "      <td>0.0</td>\n",
       "      <td>1.0</td>\n",
       "      <td>0.0</td>\n",
       "      <td>0.0</td>\n",
       "      <td>...</td>\n",
       "      <td>0.0</td>\n",
       "      <td>0.0</td>\n",
       "      <td>0.0</td>\n",
       "      <td>0.0</td>\n",
       "      <td>0.0</td>\n",
       "      <td>0.0</td>\n",
       "      <td>43.0</td>\n",
       "      <td>22.3</td>\n",
       "      <td>50.0</td>\n",
       "      <td>152.0</td>\n",
       "    </tr>\n",
       "    <tr>\n",
       "      <th>...</th>\n",
       "      <td>...</td>\n",
       "      <td>...</td>\n",
       "      <td>...</td>\n",
       "      <td>...</td>\n",
       "      <td>...</td>\n",
       "      <td>...</td>\n",
       "      <td>...</td>\n",
       "      <td>...</td>\n",
       "      <td>...</td>\n",
       "      <td>...</td>\n",
       "      <td>...</td>\n",
       "      <td>...</td>\n",
       "      <td>...</td>\n",
       "      <td>...</td>\n",
       "      <td>...</td>\n",
       "      <td>...</td>\n",
       "      <td>...</td>\n",
       "      <td>...</td>\n",
       "      <td>...</td>\n",
       "      <td>...</td>\n",
       "      <td>...</td>\n",
       "    </tr>\n",
       "    <tr>\n",
       "      <th>126517</th>\n",
       "      <td>1.0</td>\n",
       "      <td>0.0</td>\n",
       "      <td>0.0</td>\n",
       "      <td>0.0</td>\n",
       "      <td>0.0</td>\n",
       "      <td>0.0</td>\n",
       "      <td>0.0</td>\n",
       "      <td>1.0</td>\n",
       "      <td>0.0</td>\n",
       "      <td>0.0</td>\n",
       "      <td>...</td>\n",
       "      <td>0.0</td>\n",
       "      <td>0.0</td>\n",
       "      <td>0.0</td>\n",
       "      <td>0.0</td>\n",
       "      <td>0.0</td>\n",
       "      <td>0.0</td>\n",
       "      <td>56.0</td>\n",
       "      <td>21.5</td>\n",
       "      <td>70.0</td>\n",
       "      <td>106.0</td>\n",
       "    </tr>\n",
       "    <tr>\n",
       "      <th>126518</th>\n",
       "      <td>1.0</td>\n",
       "      <td>0.0</td>\n",
       "      <td>0.0</td>\n",
       "      <td>0.0</td>\n",
       "      <td>0.0</td>\n",
       "      <td>0.0</td>\n",
       "      <td>0.0</td>\n",
       "      <td>1.0</td>\n",
       "      <td>0.0</td>\n",
       "      <td>0.0</td>\n",
       "      <td>...</td>\n",
       "      <td>0.0</td>\n",
       "      <td>0.0</td>\n",
       "      <td>0.0</td>\n",
       "      <td>0.0</td>\n",
       "      <td>0.0</td>\n",
       "      <td>0.0</td>\n",
       "      <td>37.0</td>\n",
       "      <td>20.0</td>\n",
       "      <td>68.0</td>\n",
       "      <td>103.0</td>\n",
       "    </tr>\n",
       "    <tr>\n",
       "      <th>126519</th>\n",
       "      <td>1.0</td>\n",
       "      <td>0.0</td>\n",
       "      <td>0.0</td>\n",
       "      <td>0.0</td>\n",
       "      <td>0.0</td>\n",
       "      <td>0.0</td>\n",
       "      <td>0.0</td>\n",
       "      <td>0.0</td>\n",
       "      <td>0.0</td>\n",
       "      <td>0.0</td>\n",
       "      <td>...</td>\n",
       "      <td>0.0</td>\n",
       "      <td>0.0</td>\n",
       "      <td>0.0</td>\n",
       "      <td>0.0</td>\n",
       "      <td>0.0</td>\n",
       "      <td>0.0</td>\n",
       "      <td>64.0</td>\n",
       "      <td>33.4</td>\n",
       "      <td>94.0</td>\n",
       "      <td>139.0</td>\n",
       "    </tr>\n",
       "    <tr>\n",
       "      <th>126520</th>\n",
       "      <td>1.0</td>\n",
       "      <td>0.0</td>\n",
       "      <td>0.0</td>\n",
       "      <td>0.0</td>\n",
       "      <td>0.0</td>\n",
       "      <td>0.0</td>\n",
       "      <td>1.0</td>\n",
       "      <td>1.0</td>\n",
       "      <td>0.0</td>\n",
       "      <td>0.0</td>\n",
       "      <td>...</td>\n",
       "      <td>0.0</td>\n",
       "      <td>0.0</td>\n",
       "      <td>0.0</td>\n",
       "      <td>0.0</td>\n",
       "      <td>0.0</td>\n",
       "      <td>0.0</td>\n",
       "      <td>91.0</td>\n",
       "      <td>17.2</td>\n",
       "      <td>70.0</td>\n",
       "      <td>110.0</td>\n",
       "    </tr>\n",
       "    <tr>\n",
       "      <th>126521</th>\n",
       "      <td>1.0</td>\n",
       "      <td>0.0</td>\n",
       "      <td>0.0</td>\n",
       "      <td>0.0</td>\n",
       "      <td>0.0</td>\n",
       "      <td>0.0</td>\n",
       "      <td>0.0</td>\n",
       "      <td>1.0</td>\n",
       "      <td>0.0</td>\n",
       "      <td>0.0</td>\n",
       "      <td>...</td>\n",
       "      <td>0.0</td>\n",
       "      <td>0.0</td>\n",
       "      <td>0.0</td>\n",
       "      <td>0.0</td>\n",
       "      <td>0.0</td>\n",
       "      <td>0.0</td>\n",
       "      <td>60.0</td>\n",
       "      <td>23.4</td>\n",
       "      <td>70.0</td>\n",
       "      <td>130.0</td>\n",
       "    </tr>\n",
       "  </tbody>\n",
       "</table>\n",
       "<p>126522 rows × 1460 columns</p>\n",
       "</div>"
      ],
      "text/plain": [
       "        WHITE  BLACK  ASIAN  HISPANIC   UN  OTHER  DIE_1y  GENDER  008  008.5  \\\n",
       "0         1.0    0.0    0.0       0.0  0.0    0.0     0.0     1.0  0.0    0.0   \n",
       "1         1.0    0.0    0.0       0.0  0.0    0.0     1.0     1.0  0.0    0.0   \n",
       "2         0.0    1.0    0.0       0.0  0.0    0.0     0.0     1.0  0.0    0.0   \n",
       "3         0.0    0.0    1.0       0.0  0.0    0.0     0.0     1.0  0.0    0.0   \n",
       "4         1.0    0.0    0.0       0.0  0.0    0.0     0.0     1.0  0.0    0.0   \n",
       "...       ...    ...    ...       ...  ...    ...     ...     ...  ...    ...   \n",
       "126517    1.0    0.0    0.0       0.0  0.0    0.0     0.0     1.0  0.0    0.0   \n",
       "126518    1.0    0.0    0.0       0.0  0.0    0.0     0.0     1.0  0.0    0.0   \n",
       "126519    1.0    0.0    0.0       0.0  0.0    0.0     0.0     0.0  0.0    0.0   \n",
       "126520    1.0    0.0    0.0       0.0  0.0    0.0     1.0     1.0  0.0    0.0   \n",
       "126521    1.0    0.0    0.0       0.0  0.0    0.0     0.0     1.0  0.0    0.0   \n",
       "\n",
       "        ...  985  987  988  989  990  994   AGE   BMI  DIASTOLIC  SYSTOLIC  \n",
       "0       ...  0.0  0.0  0.0  0.0  0.0  0.0  91.0  35.3      104.0     144.0  \n",
       "1       ...  0.0  0.0  0.0  0.0  0.0  0.0  86.0  24.1       47.0     107.0  \n",
       "2       ...  0.0  0.0  0.0  0.0  0.0  0.0  55.0  39.0       75.0     112.0  \n",
       "3       ...  0.0  0.0  0.0  0.0  0.0  0.0  18.0  23.0       70.0     128.0  \n",
       "4       ...  0.0  0.0  0.0  0.0  0.0  0.0  43.0  22.3       50.0     152.0  \n",
       "...     ...  ...  ...  ...  ...  ...  ...   ...   ...        ...       ...  \n",
       "126517  ...  0.0  0.0  0.0  0.0  0.0  0.0  56.0  21.5       70.0     106.0  \n",
       "126518  ...  0.0  0.0  0.0  0.0  0.0  0.0  37.0  20.0       68.0     103.0  \n",
       "126519  ...  0.0  0.0  0.0  0.0  0.0  0.0  64.0  33.4       94.0     139.0  \n",
       "126520  ...  0.0  0.0  0.0  0.0  0.0  0.0  91.0  17.2       70.0     110.0  \n",
       "126521  ...  0.0  0.0  0.0  0.0  0.0  0.0  60.0  23.4       70.0     130.0  \n",
       "\n",
       "[126522 rows x 1460 columns]"
      ]
     },
     "execution_count": 17,
     "metadata": {},
     "output_type": "execute_result"
    }
   ],
   "source": [
    "real_data_df"
   ]
  },
  {
   "cell_type": "code",
   "execution_count": 18,
   "id": "8cedfa45",
   "metadata": {},
   "outputs": [
    {
     "data": {
      "text/plain": [
       "91.0"
      ]
     },
     "execution_count": 18,
     "metadata": {},
     "output_type": "execute_result"
    }
   ],
   "source": [
    "max(real_data_df['AGE'])"
   ]
  },
  {
   "cell_type": "code",
   "execution_count": 19,
   "id": "24f44ff9",
   "metadata": {
    "scrolled": false
   },
   "outputs": [
    {
     "name": "stdout",
     "output_type": "stream",
     "text": [
      "Latent deviation: \n",
      "\n",
      "[-11.098742322050022, -15.663163969433555, -9.92536962270512, -8.358865094374572, -9.372114175598648]\n"
     ]
    }
   ],
   "source": [
    "log_cluster_score_list = []\n",
    "print(\"Latent deviation: \\n\")\n",
    "for matrix in syn_data_list:\n",
    "    matrix_df = pd.DataFrame(copy.deepcopy(matrix))\n",
    "    matrix_df.loc[:,[1456, 1457, 1458, 1459]] = min_max_scaler.fit_transform(matrix_df[[1456, 1457, 1458, 1459]].values)\n",
    "    mixed_data = np.concatenate((train_data_df.values,matrix_df.values), axis = 0)\n",
    "    pca = PCA()\n",
    "    pca_result = pca.fit_transform(mixed_data)\n",
    "    sum_diag = np.sum(pca.explained_variance_ratio_)\n",
    "    i = 1\n",
    "    while  np.sum(pca.explained_variance_ratio_[:i]) < 0.8:\n",
    "        i += 1\n",
    "#     print(i, np.sum(pca.explained_variance_ratio_[:i])/np.sum(pca.explained_variance_ratio_))\n",
    "    pca = PCA(n_components=i)\n",
    "    pca_result = pca.fit_transform(mixed_data)\n",
    "    \n",
    "    kmeans_model = KMeans(n_clusters=NUM_C).fit(pca_result)\n",
    "    cluster_aff = kmeans_model.labels_.tolist()\n",
    "    real_syn_label = [1]*len(train_data_df.values) + [0]*len(matrix_df.values)\n",
    "    \n",
    "    cluster_score_sum = 0\n",
    "    for label in range(NUM_C):\n",
    "        indices_label = [i for i in range(len(cluster_aff)) if cluster_aff[i] == label]\n",
    "        real_syn_for_label = [real_syn_label[i] for i in indices_label]\n",
    "        ratio = np.sum(real_syn_for_label)/len(real_syn_for_label)\n",
    "        cluster_score_sum += (ratio - 0.5)**2\n",
    "    log_cluster_score_list.append(math.log2(cluster_score_sum/NUM_C))\n",
    "print(log_cluster_score_list)\n",
    "utility_score['Latent cluster analysis'] = log_cluster_score_list\n"
   ]
  },
  {
   "cell_type": "markdown",
   "id": "c27c18fb",
   "metadata": {},
   "source": [
    "### 1.d Medical concept abundance"
   ]
  },
  {
   "cell_type": "code",
   "execution_count": 20,
   "id": "aa987409",
   "metadata": {},
   "outputs": [
    {
     "name": "stdout",
     "output_type": "stream",
     "text": [
      "Medical concept abundance distances: [0.046229114304231676, 0.026556646274956134, 0.06971910023553216, 0.05911224925309432, 0.022557341806168096]\n"
     ]
    },
    {
     "data": {
      "image/png": "[encoded data removed]",
      "text/plain": [
       "<Figure size 640x480 with 1 Axes>"
      ]
     },
     "metadata": {},
     "output_type": "display_data"
    }
   ],
   "source": [
    "mca_train_data_df = real_data_df[condition_columns]\n",
    "mca_train_data = np.sum(mca_train_data_df.values, axis=1)\n",
    "n, bins, patches = plt.hist(x=mca_train_data, bins=20, color='#0504aa',\n",
    "                            alpha=0.7, rwidth=0.85)\n",
    "plt.grid(axis='y', alpha=0.75)\n",
    "plt.xlabel('Value')\n",
    "plt.ylabel('Frequency')\n",
    "\n",
    "mca_syn_data_list = []\n",
    "\n",
    "for matrix in syn_data_list:\n",
    "    syn_data_df = pd.DataFrame(data = matrix, columns = list(real_data_df.columns))\n",
    "    mca_syn_data_df = syn_data_df[condition_columns]\n",
    "    mca_syn_data = np.sum(mca_syn_data_df.values, axis=1).astype(int)\n",
    "    count_in_bins = {}\n",
    "\n",
    "    bin_counts = [0]*len(n) \n",
    "    for data_point in mca_syn_data:\n",
    "        bin_number = data_point // (bins[1]-bins[0])\n",
    "        if bin_number >= len(n):\n",
    "            bin_counts[-1] += 1\n",
    "        else:\n",
    "            bin_counts[int(bin_number)] += 1\n",
    "\n",
    "    mca_syn_data_list.append(np.sum(np.abs(np.array(bin_counts)-n))*0.5/len(mca_train_data))\n",
    "\n",
    "print(\"Medical concept abundance distances:\", mca_syn_data_list)\n",
    "utility_score['Medical concept abundance'] = mca_syn_data_list\n"
   ]
  },
  {
   "cell_type": "markdown",
   "id": "c96f9ec1",
   "metadata": {},
   "source": [
    "### 1.e Clinical knowledge violation"
   ]
  },
  {
   "cell_type": "code",
   "execution_count": 21,
   "id": "29322dfe",
   "metadata": {},
   "outputs": [],
   "source": [
    "disease_male_dict = {}\n",
    "disease_female_dict = {}\n",
    "\n",
    "gender_column = real_data_df['GENDER'].tolist()\n",
    "for column in condition_columns:\n",
    "    disease_column = real_data_df[column].tolist()\n",
    "    patient_positive = [index for index in range(len(disease_column)) if disease_column[index] == 1]\n",
    "    gender_positive_patient = [gender_column[index] for index in patient_positive]\n",
    "    if np.sum(gender_positive_patient) == 0: # male\n",
    "        disease_male_dict[column] = len(patient_positive)\n",
    "    if np.sum(gender_positive_patient) == len(gender_positive_patient): # female\n",
    "        disease_female_dict[column] = len(patient_positive)\n",
    "\n",
    "    \n",
    "sorted_disease_female_dict = sorted(disease_female_dict.items(), key=lambda kv: kv[1], reverse=True)\n",
    "sorted_disease_male_dict = sorted(disease_male_dict.items(), key=lambda kv: kv[1], reverse=True)"
   ]
  },
  {
   "cell_type": "code",
   "execution_count": 22,
   "id": "a1b6b9e4",
   "metadata": {},
   "outputs": [
    {
     "name": "stdout",
     "output_type": "stream",
     "text": [
      "    Male codes: \n",
      "       600: # total patients = 4392.0; male percentage: 1.0; female percentage: 0.0\n",
      "       185: # total patients = 2694.0; male percentage: 1.0; female percentage: 0.0\n",
      "       605: # total patients = 364.0; male percentage: 1.0; female percentage: 0.0\n",
      "    Female codes: \n",
      "       649: # total patients = 4182.0; male percentage: 0.0; female percentage: 1.0\n",
      "       655: # total patients = 3617.0; male percentage: 0.0; female percentage: 1.0\n",
      "       646: # total patients = 2236.0; male percentage: 0.0; female percentage: 1.0\n"
     ]
    }
   ],
   "source": [
    "# male: 600: Hyperplasia of prostate\n",
    "# male: 185: Cancer of prostate\n",
    "# male: 605: Erectile dysfunction [ED]\n",
    "\n",
    "# female: 649: Other conditions or status of the mother complicating pregnancy, childbirth, or the puerperium\n",
    "# female: 655: Known or suspected fetal abnormality affecting management of mother\n",
    "# female: 646: Other complications of pregnancy NEC\n",
    "\n",
    "print('    Male codes: ')\n",
    "for code in ['600', '185', '605']:\n",
    "    disease_column = real_data_df[code].tolist()\n",
    "    patient_positive = [index for index in range(len(disease_column)) if disease_column[index] == 1]\n",
    "    gender_column = real_data_df['GENDER'].tolist()\n",
    "    gender_positive_patient = [gender_column[index] for index in patient_positive]\n",
    "    print('       ' + code + ': # total patients = ' + str(np.sum(disease_column)) + '; male percentage: ' + str((len(gender_positive_patient) - np.sum(gender_positive_patient))/len(gender_positive_patient)) + '; female percentage: ' + str(np.sum(gender_positive_patient)/len(gender_positive_patient)))\n",
    "\n",
    "print('    Female codes: ')\n",
    "for code in ['649', '655', '646']:\n",
    "    disease_column = real_data_df[code].tolist()\n",
    "    patient_positive = [index for index in range(len(disease_column)) if disease_column[index] == 1]\n",
    "    gender_column = real_data_df['GENDER'].tolist()\n",
    "    gender_positive_patient = [gender_column[index] for index in patient_positive]\n",
    "    print('       ' + code + ': # total patients = ' + str(np.sum(disease_column)) + '; male percentage: ' + str((len(gender_positive_patient) - np.sum(gender_positive_patient))/len(gender_positive_patient)) + '; female percentage: ' + str(np.sum(gender_positive_patient)/len(gender_positive_patient)))\n"
   ]
  },
  {
   "cell_type": "code",
   "execution_count": 23,
   "id": "010c76a8",
   "metadata": {},
   "outputs": [
    {
     "name": "stdout",
     "output_type": "stream",
     "text": [
      "\n",
      "Synthetic data 1:\n",
      "    Male codes: \n",
      "       600: # total patients = 4905.0; male percentage: 0.9504587155963303; female percentage: 0.04954128440366973\n",
      "       185: # total patients = 2949.0; male percentage: 0.9494743981010512; female percentage: 0.050525601898948794\n",
      "       605: # total patients = 439.0; male percentage: 0.9840546697038725; female percentage: 0.015945330296127564\n",
      "    Female codes: \n",
      "       649: # total patients = 4362.0; male percentage: 0.0032095369096744614; female percentage: 0.9967904630903255\n",
      "       655: # total patients = 4068.0; male percentage: 0.004670599803343166; female percentage: 0.9953294001966568\n",
      "       646: # total patients = 2741.0; male percentage: 0.005472455308281649; female percentage: 0.9945275446917183\n",
      "\n",
      "Synthetic data 2:\n",
      "    Male codes: \n",
      "       600: # total patients = 4454.0; male percentage: 0.9470139200718455; female percentage: 0.05298607992815447\n",
      "       185: # total patients = 2790.0; male percentage: 0.9139784946236559; female percentage: 0.08602150537634409\n",
      "       605: # total patients = 381.0; male percentage: 0.9868766404199475; female percentage: 0.013123359580052493\n",
      "    Female codes: \n",
      "       649: # total patients = 4501.0; male percentage: 0.005998666962897134; female percentage: 0.9940013330371029\n",
      "       655: # total patients = 3974.0; male percentage: 0.006542526421741319; female percentage: 0.9934574735782586\n",
      "       646: # total patients = 2322.0; male percentage: 0.00904392764857881; female percentage: 0.9909560723514211\n",
      "\n",
      "Synthetic data 3:\n",
      "    Male codes: \n",
      "       600: # total patients = 5223.0; male percentage: 0.9527091709745357; female percentage: 0.04729082902546429\n",
      "       185: # total patients = 3026.0; male percentage: 0.9464639788499669; female percentage: 0.053536021150033045\n",
      "       605: # total patients = 464.0; male percentage: 0.9827586206896551; female percentage: 0.017241379310344827\n",
      "    Female codes: \n",
      "       649: # total patients = 3660.0; male percentage: 0.000273224043715847; female percentage: 0.9997267759562841\n",
      "       655: # total patients = 3559.0; male percentage: 0.0; female percentage: 1.0\n",
      "       646: # total patients = 1619.0; male percentage: 0.0030883261272390363; female percentage: 0.9969116738727609\n",
      "\n",
      "Synthetic data 4:\n",
      "    Male codes: \n",
      "       600: # total patients = 5009.0; male percentage: 0.9484927131163905; female percentage: 0.051507286883609504\n",
      "       185: # total patients = 2789.0; male percentage: 0.9343850842595912; female percentage: 0.06561491574040874\n",
      "       605: # total patients = 437.0; male percentage: 0.9588100686498856; female percentage: 0.041189931350114416\n",
      "    Female codes: \n",
      "       649: # total patients = 3586.0; male percentage: 0.006413831567205801; female percentage: 0.9935861684327942\n",
      "       655: # total patients = 3277.0; male percentage: 0.0012206286237412267; female percentage: 0.9987793713762587\n",
      "       646: # total patients = 2012.0; male percentage: 0.0044731610337972166; female percentage: 0.9955268389662028\n",
      "\n",
      "Synthetic data 5:\n",
      "    Male codes: \n",
      "       600: # total patients = 4225.0; male percentage: 0.9261538461538461; female percentage: 0.07384615384615385\n",
      "       185: # total patients = 2505.0; male percentage: 0.9153692614770459; female percentage: 0.0846307385229541\n",
      "       605: # total patients = 271.0; male percentage: 0.985239852398524; female percentage: 0.014760147601476014\n",
      "    Female codes: \n",
      "       649: # total patients = 4557.0; male percentage: 0.0032916392363396972; female percentage: 0.9967083607636603\n",
      "       655: # total patients = 3702.0; male percentage: 0.0016207455429497568; female percentage: 0.9983792544570502\n",
      "       646: # total patients = 2387.0; male percentage: 0.012987012987012988; female percentage: 0.987012987012987\n",
      "Clinical knowledge violation: male code violation  [0.038670738866248694, 0.05071031496151701, 0.03935607649528072, 0.05277071132471089, 0.05774567999019465] female code violation  [0.004450864007099758, 0.007195040344405754, 0.0011205167236516278, 0.004035873741581414, 0.005966465922100814]\n",
      "Combined violation:  [0.0431216  0.05790536 0.04047659 0.05680659 0.06371215]\n"
     ]
    }
   ],
   "source": [
    "run = 1\n",
    "male_code_violation = []\n",
    "female_code_violation = []\n",
    "for matrix in syn_data_list:\n",
    "    syn_data_df = pd.DataFrame(data = matrix, columns = list(real_data_df.columns))\n",
    "    print('\\nSynthetic data ' + str(run) + ':')\n",
    "    print('    Male codes: ')\n",
    "    male_viol_sum = 0\n",
    "    for code in ['600', '185', '605']:\n",
    "        disease_column = syn_data_df[code].tolist()\n",
    "        patient_positive = [index for index in range(len(disease_column)) if disease_column[index] == 1]\n",
    "        gender_column = syn_data_df['GENDER'].tolist()\n",
    "        gender_positive_patient = [gender_column[index] for index in patient_positive]\n",
    "        print('       ' + code + ': # total patients = ' + str(np.sum(disease_column)) + '; male percentage: ' + str((len(gender_positive_patient) - np.sum(gender_positive_patient))/len(gender_positive_patient)) + '; female percentage: ' + str(np.sum(gender_positive_patient)/len(gender_positive_patient)))\n",
    "        male_viol_sum += np.sum(gender_positive_patient)/len(gender_positive_patient)\n",
    "    male_code_violation.append(male_viol_sum/3)\n",
    "    \n",
    "    print('    Female codes: ')\n",
    "    female_viol_sum = 0\n",
    "    for code in ['649', '655', '646']:\n",
    "        disease_column = syn_data_df[code].tolist()\n",
    "        patient_positive = [index for index in range(len(disease_column)) if disease_column[index] == 1]\n",
    "        gender_column = syn_data_df['GENDER'].tolist()\n",
    "        gender_positive_patient = [gender_column[index] for index in patient_positive]\n",
    "        print('       ' + code + ': # total patients = ' + str(np.sum(disease_column)) + '; male percentage: ' + str((len(gender_positive_patient) - np.sum(gender_positive_patient))/len(gender_positive_patient)) + '; female percentage: ' + str(np.sum(gender_positive_patient)/len(gender_positive_patient)))\n",
    "        female_viol_sum += (len(gender_positive_patient) - np.sum(gender_positive_patient))/len(gender_positive_patient)\n",
    "    female_code_violation.append(female_viol_sum/3)\n",
    "    \n",
    "    run += 1\n",
    "    \n",
    "utility_score['Clinical knowledge violation'] = np.array(male_code_violation) + np.array(female_code_violation)\n",
    "print('Clinical knowledge violation: male code violation ', male_code_violation, 'female code violation ', female_code_violation)\n",
    "print('Combined violation: ', np.array(male_code_violation) + np.array(female_code_violation))\n"
   ]
  },
  {
   "cell_type": "markdown",
   "id": "3cbc6589",
   "metadata": {},
   "source": [
    "### 1.f TSTR"
   ]
  },
  {
   "cell_type": "code",
   "execution_count": 24,
   "id": "e0873b4f",
   "metadata": {
    "scrolled": true
   },
   "outputs": [
    {
     "name": "stderr",
     "output_type": "stream",
     "text": [
      "`np.float` is a deprecated alias for the builtin `float`. To silence this warning, use `float` by itself. Doing this will not modify any behavior and is safe. If you specifically wanted the numpy scalar type, use `np.float64` here.\n",
      "Deprecated in NumPy 1.20; for more details and guidance: https://numpy.org/devdocs/release/1.20.0-notes.html#deprecations\n",
      "`np.float` is a deprecated alias for the builtin `float`. To silence this warning, use `float` by itself. Doing this will not modify any behavior and is safe. If you specifically wanted the numpy scalar type, use `np.float64` here.\n",
      "Deprecated in NumPy 1.20; for more details and guidance: https://numpy.org/devdocs/release/1.20.0-notes.html#deprecations\n"
     ]
    },
    {
     "name": "stdout",
     "output_type": "stream",
     "text": [
      "The number of records in training (real) data is:  126522\n",
      "The number of features in training (real) data is:  1453\n",
      "Positive vs Negative ratio in training (real) data is: 0.112573\n"
     ]
    },
    {
     "name": "stderr",
     "output_type": "stream",
     "text": [
      "`np.float` is a deprecated alias for the builtin `float`. To silence this warning, use `float` by itself. Doing this will not modify any behavior and is safe. If you specifically wanted the numpy scalar type, use `np.float64` here.\n",
      "Deprecated in NumPy 1.20; for more details and guidance: https://numpy.org/devdocs/release/1.20.0-notes.html#deprecations\n",
      "`np.float` is a deprecated alias for the builtin `float`. To silence this warning, use `float` by itself. Doing this will not modify any behavior and is safe. If you specifically wanted the numpy scalar type, use `np.float64` here.\n",
      "Deprecated in NumPy 1.20; for more details and guidance: https://numpy.org/devdocs/release/1.20.0-notes.html#deprecations\n"
     ]
    },
    {
     "name": "stdout",
     "output_type": "stream",
     "text": [
      "\n",
      "The number of records in evaluation (real) data is: 54224\n",
      "The number of features in training (real) data is: 1453\n",
      "Positive vs Negative ratio in evaluation (real) data is: 0.113806\n",
      "\n",
      " !!!!!!!!!!!!!!!!!!! training is starting !!!!!!!!!!!!!!!!!!! \n"
     ]
    },
    {
     "name": "stderr",
     "output_type": "stream",
     "text": [
      "Found `num_boost_round` in params. Will use it instead of argument\n",
      "categorical_feature keyword has been found in `params` and will be ignored.\n",
      "Please use categorical_feature argument of the Dataset constructor to pass this parameter.\n"
     ]
    },
    {
     "name": "stdout",
     "output_type": "stream",
     "text": [
      "[LightGBM] [Warning] num_iterations is set=2000, num_boost_round=2000 will be ignored. Current value: num_iterations=2000\n"
     ]
    },
    {
     "name": "stderr",
     "output_type": "stream",
     "text": [
      "Found `num_boost_round` in params. Will use it instead of argument\n",
      "categorical_feature keyword has been found in `params` and will be ignored.\n",
      "Please use categorical_feature argument of the Dataset constructor to pass this parameter.\n"
     ]
    },
    {
     "name": "stdout",
     "output_type": "stream",
     "text": [
      "[LightGBM] [Warning] num_iterations is set=2000, num_boost_round=2000 will be ignored. Current value: num_iterations=2000\n"
     ]
    },
    {
     "name": "stderr",
     "output_type": "stream",
     "text": [
      "Found `num_boost_round` in params. Will use it instead of argument\n",
      "categorical_feature keyword has been found in `params` and will be ignored.\n",
      "Please use categorical_feature argument of the Dataset constructor to pass this parameter.\n"
     ]
    },
    {
     "name": "stdout",
     "output_type": "stream",
     "text": [
      "[LightGBM] [Warning] num_iterations is set=2000, num_boost_round=2000 will be ignored. Current value: num_iterations=2000\n"
     ]
    },
    {
     "name": "stderr",
     "output_type": "stream",
     "text": [
      "Found `num_boost_round` in params. Will use it instead of argument\n",
      "categorical_feature keyword has been found in `params` and will be ignored.\n",
      "Please use categorical_feature argument of the Dataset constructor to pass this parameter.\n"
     ]
    },
    {
     "name": "stdout",
     "output_type": "stream",
     "text": [
      "[LightGBM] [Warning] num_iterations is set=2000, num_boost_round=2000 will be ignored. Current value: num_iterations=2000\n"
     ]
    },
    {
     "name": "stderr",
     "output_type": "stream",
     "text": [
      "Found `num_boost_round` in params. Will use it instead of argument\n",
      "categorical_feature keyword has been found in `params` and will be ignored.\n",
      "Please use categorical_feature argument of the Dataset constructor to pass this parameter.\n"
     ]
    },
    {
     "name": "stdout",
     "output_type": "stream",
     "text": [
      "[LightGBM] [Warning] num_iterations is set=2000, num_boost_round=2000 will be ignored. Current value: num_iterations=2000\n"
     ]
    },
    {
     "name": "stderr",
     "output_type": "stream",
     "text": [
      "Found `num_boost_round` in params. Will use it instead of argument\n",
      "categorical_feature keyword has been found in `params` and will be ignored.\n",
      "Please use categorical_feature argument of the Dataset constructor to pass this parameter.\n"
     ]
    },
    {
     "name": "stdout",
     "output_type": "stream",
     "text": [
      "[LightGBM] [Warning] num_iterations is set=2000, num_boost_round=2000 will be ignored. Current value: num_iterations=2000\n",
      "Best parameters:\n",
      "\n",
      "{'colsample_bytree': 0.9, 'max_depth': 15, 'min_split_gain': 0.3, 'n_estimators': 500, 'num_leaves': 50, 'reg_alpha': 1.3, 'subsample': 0.9, 'subsample_freq': 40}\n",
      "Threshold for fixing recall as 0.60 is 0.3743\n",
      "      *** Test on real data AUROC: 0.9227, PRAUC: 0.6366, ACC: 0.9109, PPV: 0.6105, NPV: 0.9488, Sensitivity: 0.6001, Specificity: 0.9508\n"
     ]
    },
    {
     "name": "stderr",
     "output_type": "stream",
     "text": [
      "LightGBM binary classifier with TreeExplainer shap values output has changed to a list of ndarray\n",
      "invalid value encountered in true_divide\n",
      "invalid value encountered in true_divide\n"
     ]
    },
    {
     "name": "stdout",
     "output_type": "stream",
     "text": [
      "TRTR AUROC: 0.9227\n",
      "TRTR AUPRC: 0.6366\n",
      "TRTR ACCURACY: 0.9109\n",
      "TRTR PPV: 0.6105\n",
      "TRTR NPV: 0.9488\n",
      "TRTR RECALL: 0.6001\n",
      "TRTR SPESIFICITY: 0.9508\n"
     ]
    }
   ],
   "source": [
    "## Train on real training dataset and test on real testing data set\n",
    "\n",
    "random.seed(a=2021, version=2)\n",
    "\n",
    "RECALL_THRESHOLD = 0.6  # hold this to compute other threshold related metrics\n",
    "LABEL_INDEX = 6  # label column index in the dataset\n",
    "RACE_COL = [0,1,2,3,4,5]\n",
    "COL_LIST = list(real_data_df.columns)[len(RACE_COL)+1:]\n",
    "CAT_IDX_wo_RACE_label = list(np.linspace(0, len(COL_LIST) - 5, num=len(COL_LIST) - 4).astype(int))\n",
    "\n",
    "## Load the dataset for model training. Here it is real data. 70%\n",
    "train_real_data = pd.read_csv('/data/chao/syn_mimic/preprocessing/original_training_data.csv').values.astype(np.float)\n",
    "train_real_data_index = np.linspace(0,len(train_real_data)-1,len(train_real_data)).astype('int')\n",
    "random.shuffle(train_real_data_index)\n",
    "train_real_data = train_real_data[train_real_data_index]\n",
    "train_real_label = train_real_data[:,LABEL_INDEX].astype(np.float)\n",
    "train_real_data = np.delete(train_real_data, [LABEL_INDEX]+RACE_COL, axis = 1)\n",
    "print('The number of records in training (real) data is:  %d' % len(train_real_data))\n",
    "print('The number of features in training (real) data is:  %d' % len(train_real_data[0]))\n",
    "print('Positive vs Negative ratio in training (real) data is: %f' % (np.sum(train_real_label)/len(train_real_label)))\n",
    "\n",
    "## load the dataset for model evaluation. Here it is real data. 30%\n",
    "eval_real_data = pd.read_csv('/data/chao/syn_mimic/preprocessing/original_testing_data.csv').values.astype(np.float)\n",
    "eval_real_label = eval_real_data[:,LABEL_INDEX].astype(np.float)\n",
    "eval_real_data = np.delete(eval_real_data, [LABEL_INDEX]+RACE_COL, axis=1)\n",
    "print('\\nThe number of records in evaluation (real) data is: %d' % len(eval_real_data))\n",
    "print('The number of features in training (real) data is: %d' % len(eval_real_data[0]))\n",
    "print('Positive vs Negative ratio in evaluation (real) data is: %f' % (np.sum(eval_real_label)/len(eval_real_label)))\n",
    "\n",
    "## model training\n",
    "print('\\n !!!!!!!!!!!!!!!!!!! training is starting !!!!!!!!!!!!!!!!!!! ')\n",
    "\n",
    "gkf = KFold(n_splits=5, shuffle=True, random_state=0).split(X=train_real_data, y=train_real_label)\n",
    "\n",
    "\n",
    "# ############\n",
    "# # try some candidates here\n",
    "\n",
    "# param_grid = {\n",
    "#             'n_estimators': [500,1000],\n",
    "#             'colsample_bytree': [0.8,0.9],\n",
    "#             'max_depth': [15,20],\n",
    "#             'num_leaves': [50,80],\n",
    "#             'reg_alpha': [1.1, 1.3],\n",
    "#             'min_split_gain': [0.3, 0.5],\n",
    "#             'subsample': [0.6, 0.9],\n",
    "#             'subsample_freq': [20, 40]\n",
    "#             }\n",
    "############\n",
    "\n",
    "param_grid = {\n",
    "            'n_estimators': [500],\n",
    "            'colsample_bytree': [0.9],\n",
    "            'max_depth': [15],\n",
    "            'num_leaves': [50],\n",
    "            'reg_alpha': [1.3],\n",
    "            'min_split_gain': [0.3],\n",
    "            'subsample': [0.9],\n",
    "            'subsample_freq': [40]\n",
    "            }\n",
    "\n",
    "lgb_estimator = lgb.LGBMClassifier(boosting_type='gbdt',  objective='binary', num_boost_round=2000, learning_rate=0.01, metric='auc',categorical_feature=CAT_IDX_wo_RACE_label, n_jobs = 20)\n",
    "gsearch = GridSearchCV(estimator=lgb_estimator, param_grid=param_grid, cv=gkf)\n",
    "gbm = gsearch.fit(X=train_real_data, y=train_real_label)\n",
    "print(\"Best parameters:\\n\")\n",
    "print(gbm.best_params_)\n",
    "\n",
    "y_scores = gbm.predict_proba(eval_real_data)\n",
    "y_scores = y_scores[:,1]\n",
    "trtr_7_3_auroc = roc_auc_score(y_score=y_scores, y_true=eval_real_label)\n",
    "trtr_prauc = average_precision_score(eval_real_label, y_scores)\n",
    "fpr, tpr, threshold_candidate = roc_curve(eval_real_label, y_scores)\n",
    "thres_index = (tpr > RECALL_THRESHOLD).tolist().index(True)\n",
    "thres = threshold_candidate[thres_index]\n",
    "print(\"Threshold for fixing recall as %.2f is %.4f\" % (RECALL_THRESHOLD, thres))\n",
    "pred_y = np.array([(value>=thres)*1.0 for value in y_scores])\n",
    "\n",
    "tn, fp, fn, tp = confusion_matrix(eval_real_label, pred_y).ravel()\n",
    "trtr_ppv = tp / (tp + fp)\n",
    "trtr_npv = tn / (tn + fn)\n",
    "trtr_sens = tp / (tp + fn)\n",
    "trtr_spes = tn / (tn + fp)\n",
    "trtr_acc = (tn + tp) / (tn + fp + fn + tp)\n",
    "print(\"      *** Test on real data AUROC: %.4f, PRAUC: %.4f, ACC: %.4f, PPV: %.4f, NPV: %.4f, Sensitivity: %.4f, Specificity: %.4f\" % (\n",
    "trtr_7_3_auroc, trtr_prauc, trtr_acc, trtr_ppv, trtr_npv, trtr_sens, trtr_spes))\n",
    "\n",
    "explainer = shap.TreeExplainer(gbm.best_estimator_)\n",
    "shap_df = pd.DataFrame(explainer.shap_values(eval_real_data)[1], columns = COL_LIST)\n",
    "shap_df_abs = abs(shap_df)\n",
    "\n",
    "feature_importance_mean = shap_df_abs.mean(axis=0).sort_values(ascending=False)\n",
    "feature_importance_value = {}\n",
    "for key, value in feature_importance_mean.items():\n",
    "    if key in feature_importance_value.keys():\n",
    "        feature_importance_value[key].append(value)\n",
    "    else:\n",
    "        feature_importance_value[key] = [value]\n",
    "\n",
    "correlation_coeff_value = {}\n",
    "for key in COL_LIST:\n",
    "    corr_value = np.corrcoef(shap_df[key], eval_real_data[:, COL_LIST.index(key)])[1][0]\n",
    "    if key in correlation_coeff_value.keys():\n",
    "        correlation_coeff_value[key].append(corr_value)\n",
    "    else:\n",
    "        correlation_coeff_value[key] = [corr_value]\n",
    "        \n",
    "np.save('./result/feature_importance_TRTR.npy', feature_importance_value)\n",
    "\n",
    "# np.save('./result/r_70_train_r_30_test_correl_coeff_value.npy', correlation_coeff_value)\n",
    "# shap_df.to_csv('./result/r_70_train_r_30_test_feature_importance.csv')\n",
    "# np.save('./result/r_70_train_r_30_test_y_estimate.npy', y_scores)\n",
    "# np.save('./result/r_70_train_r_30_test_y_label.npy', eval_real_label)\n",
    "# joblib.dump(gbm.best_estimator_, './result/r_70_train_r_30_test.pkl')\n",
    "\n",
    "print('TRTR AUROC: %.4f' % trtr_7_3_auroc)\n",
    "print('TRTR AUPRC: %.4f' % trtr_prauc)\n",
    "print('TRTR ACCURACY: %.4f' % trtr_acc)\n",
    "print('TRTR PPV: %.4f' % trtr_ppv)\n",
    "print('TRTR NPV: %.4f' % trtr_npv)\n",
    "print('TRTR RECALL: %.4f' % trtr_sens)\n",
    "print('TRTR SPESIFICITY: %.4f' % trtr_spes)\n"
   ]
  },
  {
   "cell_type": "code",
   "execution_count": 25,
   "id": "6b0b86b4",
   "metadata": {},
   "outputs": [
    {
     "data": {
      "text/plain": [
       "{'AGE': [0.8599036160698073],\n",
       " 'GENDER': [0.14144107957052665],\n",
       " '198': [0.13944815665546306],\n",
       " '585': [0.120783652571564],\n",
       " '285': [0.08350772652484546],\n",
       " 'BMI': [0.06972117472994824],\n",
       " 'SYSTOLIC': [0.06760910589163174],\n",
       " '428': [0.06641600001741439],\n",
       " '316': [0.06063787304320788],\n",
       " '591': [0.06018638166751106],\n",
       " '496': [0.05957995772543179],\n",
       " '317': [0.05597536126870043],\n",
       " '480': [0.05525453156347566],\n",
       " '272.1': [0.05375843485341222],\n",
       " '272': [0.053397836425737935],\n",
       " '318': [0.04896546034946632],\n",
       " '276': [0.046196632348661934],\n",
       " '401.1': [0.04615567268770498],\n",
       " '411': [0.04547399210645627],\n",
       " '707': [0.043276474107083136],\n",
       " '290': [0.043095985857801354],\n",
       " '260': [0.04179908526528575],\n",
       " '348': [0.03962593439894705],\n",
       " '250': [0.03816640250532292],\n",
       " '345': [0.03815606882810288],\n",
       " 'DIASTOLIC': [0.03393963060835399],\n",
       " '070': [0.031005941521833585],\n",
       " '296': [0.030708625759256904],\n",
       " '428.2': [0.030468739679683558],\n",
       " '290.1': [0.030362407934431943],\n",
       " '300': [0.028687366339990465],\n",
       " '655': [0.02853512684227196],\n",
       " '585.1': [0.027463754831811703],\n",
       " '509': [0.027162125944449136],\n",
       " '418': [0.026934742427802777],\n",
       " '157': [0.026352075913831735],\n",
       " '452': [0.025869237319418332],\n",
       " '165': [0.0240620950652522],\n",
       " '649': [0.023671427834027887],\n",
       " '1002': [0.019472418508761153],\n",
       " '501': [0.019046657146673605],\n",
       " '509.1': [0.017903063114448416],\n",
       " '653': [0.017592435262405733],\n",
       " '290.3': [0.017290953763607824],\n",
       " '198.4': [0.016885243051921923],\n",
       " '427': [0.01661045896313037],\n",
       " '195.1': [0.016502994590769687],\n",
       " '574': [0.01591219672981154],\n",
       " '284': [0.015466300812343011],\n",
       " '276.12': [0.015046134006684374],\n",
       " '292': [0.014949745466098863],\n",
       " '349': [0.014396673186237397],\n",
       " '155': [0.014341393141278058],\n",
       " '386.9': [0.0140460084425189],\n",
       " '198.6': [0.013771860347285517],\n",
       " '272.11': [0.013466650415480593],\n",
       " '572': [0.013336986881036478],\n",
       " '788': [0.01323304261306428],\n",
       " '571': [0.012950417213649071],\n",
       " '532': [0.012904092695254879],\n",
       " '415': [0.012708204278432946],\n",
       " '195': [0.012636814088261693],\n",
       " '080': [0.012621481642128422],\n",
       " '507': [0.012482466520491991],\n",
       " '327.3': [0.011585839777163699],\n",
       " '276.4': [0.011241482043762649],\n",
       " '530.11': [0.011226313317114704],\n",
       " '165.1': [0.010770271483758411],\n",
       " '850': [0.010759559132975044],\n",
       " '740.11': [0.010430929577132724],\n",
       " '457': [0.009327330494919404],\n",
       " '286': [0.00929503376920775],\n",
       " '990': [0.009289734285659197],\n",
       " '530': [0.009248959900881147],\n",
       " '198.2': [0.009243939193432868],\n",
       " '578': [0.009240364445730117],\n",
       " '348.2': [0.009188388455035225],\n",
       " '293': [0.008991349464811962],\n",
       " '191': [0.008986780808611986],\n",
       " '563': [0.00878200389848807],\n",
       " '276.13': [0.00875719238748795],\n",
       " '585.31': [0.008509812314682914],\n",
       " '571.8': [0.008393273922295984],\n",
       " '502': [0.008274456381887304],\n",
       " '665': [0.008043509071081452],\n",
       " '260.1': [0.008027477156346271],\n",
       " '722': [0.008024970913103183],\n",
       " '198.3': [0.008013785217465635],\n",
       " '789': [0.007916082794610263],\n",
       " '707.1': [0.007820648642778458],\n",
       " '433': [0.007675788593442438],\n",
       " '687.4': [0.007496599784166388],\n",
       " '204': [0.007413689915281381],\n",
       " '818': [0.007091105919514611],\n",
       " '411.2': [0.007021229917199683],\n",
       " '339': [0.006814559886245037],\n",
       " '244': [0.00663179571493795],\n",
       " '594': [0.00660102653776782],\n",
       " '278.1': [0.00655091374544156],\n",
       " '342': [0.006301109478723164],\n",
       " '595': [0.006168291617636988],\n",
       " '250.2': [0.006156273564559944],\n",
       " '495': [0.006148671612916809],\n",
       " '573': [0.006077393428156052],\n",
       " '191.11': [0.005905644755075989],\n",
       " '628': [0.0056497813728037674],\n",
       " '401.21': [0.005559821272860945],\n",
       " '716': [0.005546236211828269],\n",
       " '332': [0.00553889634114107],\n",
       " '348.8': [0.005422972727856766],\n",
       " '198.5': [0.005370521237201212],\n",
       " '1004': [0.005341768910162691],\n",
       " '286.2': [0.005314423602929112],\n",
       " '285.22': [0.005284955691675759],\n",
       " '537': [0.005260949236976196],\n",
       " '317.11': [0.005255180084383832],\n",
       " '962': [0.005224144917213132],\n",
       " '202': [0.0051725166131015325],\n",
       " '562.1': [0.005107783710806696],\n",
       " '573.2': [0.004977702550966584],\n",
       " '646': [0.004973790621196709],\n",
       " '348.9': [0.004944359995288454],\n",
       " '150': [0.004904128968446539],\n",
       " '729': [0.004858268473870966],\n",
       " '276.41': [0.004759223541345512],\n",
       " '189': [0.00471908667792636],\n",
       " '558': [0.004671367941294016],\n",
       " '590': [0.0046660976093336635],\n",
       " '600': [0.00465269288684674],\n",
       " '340': [0.004579547817881815],\n",
       " '288': [0.004526845773346747],\n",
       " '334': [0.004492072679779181],\n",
       " '296.22': [0.004483267231411111],\n",
       " '208': [0.004471731921654735],\n",
       " '112': [0.004469887123995057],\n",
       " '250.41': [0.0044086510550144275],\n",
       " '430': [0.004408142859456813],\n",
       " '577.1': [0.0044012250747217955],\n",
       " '198.1': [0.004393209029930681],\n",
       " '071': [0.004334215353387215],\n",
       " '740': [0.004319028127706423],\n",
       " '197': [0.004307661030647508],\n",
       " '1013': [0.004287051431441614],\n",
       " '315': [0.004261965202053192],\n",
       " '443.9': [0.004257223271246915],\n",
       " '960': [0.00423325575274776],\n",
       " '151': [0.004207865063937744],\n",
       " '286.7': [0.004190022333148211],\n",
       " '782.3': [0.004123997126091728],\n",
       " '465': [0.004090318052374419],\n",
       " '561': [0.004030560036410137],\n",
       " '540.11': [0.004027576015963003],\n",
       " '286.4': [0.004016744641945542],\n",
       " '276.11': [0.003923288400949841],\n",
       " '348.7': [0.0039231174173546685],\n",
       " '580': [0.0038752133616224245],\n",
       " '477': [0.0038546160737230268],\n",
       " '038': [0.0037531106480844616],\n",
       " '564': [0.003751497988318028],\n",
       " '429': [0.0037004817785552552],\n",
       " '571.5': [0.0036845246447143906],\n",
       " '567': [0.0036718678096864282],\n",
       " '193': [0.0035539438407257763],\n",
       " '155.1': [0.003528478184082848],\n",
       " '969': [0.003496301792296454],\n",
       " '200': [0.0034551248999499],\n",
       " '496.21': [0.0034511295325668863],\n",
       " '041': [0.0034234721953120247],\n",
       " '430.2': [0.0033923384689882705],\n",
       " '287': [0.0033906833776391615],\n",
       " '425': [0.0032527178722823956],\n",
       " '427.2': [0.003219068676481805],\n",
       " '291': [0.003155824764977578],\n",
       " '510': [0.0031296128192864242],\n",
       " '290.16': [0.003103149892317029],\n",
       " '760': [0.003086867893111446],\n",
       " '289.4': [0.003054461275344331],\n",
       " '568': [0.0030542735986624895],\n",
       " '443': [0.002991248675653884],\n",
       " '807': [0.0029462762659910133],\n",
       " '681.3': [0.002886812473872767],\n",
       " '433.8': [0.002881725162365075],\n",
       " '261.4': [0.00286638894805774],\n",
       " '575.2': [0.002839855102292321],\n",
       " '562': [0.0028328648057761923],\n",
       " '182': [0.002811765422916346],\n",
       " '351': [0.0027866870058262626],\n",
       " '300.1': [0.0027408885642653627],\n",
       " '285.1': [0.0026540192201288883],\n",
       " '281': [0.002647995949661114],\n",
       " '508': [0.0026124362780939265],\n",
       " '509.2': [0.002594630980827039],\n",
       " '564.1': [0.0025414422084020596],\n",
       " '427.12': [0.002519754868249493],\n",
       " '297.2': [0.002497576159619759],\n",
       " '681': [0.002494374026644434],\n",
       " '344': [0.0024692347288490808],\n",
       " '961.1': [0.0023959733480640676],\n",
       " '440': [0.0023939663636367535],\n",
       " '716.9': [0.002375554347265818],\n",
       " '972': [0.0023719300942676076],\n",
       " '857': [0.002319714836264146],\n",
       " '840': [0.0023135326260819364],\n",
       " '425.1': [0.002304460720412005],\n",
       " '443.1': [0.0022780829550458786],\n",
       " '395': [0.002247893329379053],\n",
       " '539': [0.002233388273502068],\n",
       " '575.8': [0.002215054157223686],\n",
       " '244.4': [0.002203200155266447],\n",
       " '797.1': [0.0021518274865257874],\n",
       " '292.1': [0.0021370240870554023],\n",
       " '601': [0.0021331503981389397],\n",
       " '585.3': [0.0021322006984473723],\n",
       " '286.6': [0.0021201721105829035],\n",
       " '504': [0.0020978854445675437],\n",
       " '250.22': [0.002095274484653491],\n",
       " '569': [0.002075662159234927],\n",
       " '279': [0.002046960981559416],\n",
       " '459': [0.0020132643942519313],\n",
       " '710': [0.0019820241167330054],\n",
       " '458': [0.001968407477538266],\n",
       " '337': [0.001944745336644734],\n",
       " '130': [0.0018991191146230386],\n",
       " '459.9': [0.0018855102050545725],\n",
       " '963': [0.0018835301609044562],\n",
       " '303.4': [0.001857289208077423],\n",
       " '320': [0.0018493479647148517],\n",
       " '564.9': [0.0018347425428915072],\n",
       " '745': [0.0018311934972989208],\n",
       " '830': [0.001810475985458175],\n",
       " '573.5': [0.001796576938240881],\n",
       " '296.1': [0.0017847714286728853],\n",
       " '535': [0.0017698049014686875],\n",
       " '750': [0.0017624509149162212],\n",
       " '571.81': [0.0017612291544098129],\n",
       " '136': [0.0017546146042948436],\n",
       " '367': [0.0017514612562945285],\n",
       " '335': [0.001742408071603154],\n",
       " '211': [0.0017220637183964142],\n",
       " '008.52': [0.0017205342891645303],\n",
       " '070.2': [0.0016564812940996075],\n",
       " '275.53': [0.0016394023594919205],\n",
       " '350': [0.0016239775215268117],\n",
       " '288.3': [0.0016154081338780283],\n",
       " '276.42': [0.001612332324981395],\n",
       " '184': [0.001599855623217826],\n",
       " '594.1': [0.0015699571111797714],\n",
       " '1008': [0.0015644617793519487],\n",
       " '420': [0.001562999912418706],\n",
       " '618': [0.0015572283641007616],\n",
       " '008': [0.001537283961717132],\n",
       " '280.1': [0.0015369855221936135],\n",
       " '275': [0.0015201549584606484],\n",
       " '250.3': [0.0015150814027938679],\n",
       " '402': [0.0015065083565558844],\n",
       " '274': [0.001484960299222724],\n",
       " '281.9': [0.0014836628388263154],\n",
       " '451': [0.0014717290500994567],\n",
       " '858': [0.0014702880498451176],\n",
       " '574.2': [0.0014666011446696839],\n",
       " '427.9': [0.0014562664336482474],\n",
       " '615': [0.0014089989911663613],\n",
       " '427.8': [0.0013796460106683887],\n",
       " '1015': [0.0013754749244430208],\n",
       " '568.1': [0.0013562100740933075],\n",
       " '758': [0.0013353363467631658],\n",
       " '874': [0.001333868130035265],\n",
       " '550': [0.001292899076236259],\n",
       " '228': [0.00129230371451064],\n",
       " '159': [0.001288301786802469],\n",
       " '442': [0.0012667194611543236],\n",
       " '275.5': [0.0012604599468205961],\n",
       " '433.21': [0.0012590505466642098],\n",
       " '283': [0.0012538692998783562],\n",
       " '426': [0.0012495987080230985],\n",
       " '395.6': [0.0012476759725174934],\n",
       " '853': [0.001247430494303501],\n",
       " '261': [0.0012379992254982685],\n",
       " '253.3': [0.0012265152893599538],\n",
       " '204.21': [0.0012177265647771195],\n",
       " '783': [0.0012129274637306194],\n",
       " '720': [0.0012084342418096996],\n",
       " '803': [0.0012056750659273456],\n",
       " '714': [0.0011836947976320686],\n",
       " '597.2': [0.0011703689153933661],\n",
       " '586': [0.0011521349701461084],\n",
       " '153': [0.0011513630149061571],\n",
       " '785': [0.001149392061721699],\n",
       " '356': [0.0011446654831416094],\n",
       " '772.4': [0.001140917954476776],\n",
       " '295': [0.0011321832453261111],\n",
       " '442.11': [0.001115489820031966],\n",
       " '338': [0.0011100446701518946],\n",
       " '340.1': [0.0011084709200785158],\n",
       " '521': [0.001102008817917724],\n",
       " '300.3': [0.001100992253192947],\n",
       " '401': [0.0010950803058480728],\n",
       " '427.42': [0.001062350138828142],\n",
       " '598.9': [0.0010570705296140217],\n",
       " '079': [0.0010388293526879696],\n",
       " '054': [0.0010313733104053702],\n",
       " '300.9': [0.0010212520174218268],\n",
       " '575': [0.0010155808457636328],\n",
       " '503': [0.0010143699845101147],\n",
       " '261.2': [0.001014043887220914],\n",
       " '270': [0.001009936533851315],\n",
       " '290.11': [0.0010089616438726946],\n",
       " '519': [0.0010079482474751515],\n",
       " '444': [0.0010032427714019598],\n",
       " '509.8': [0.00100176258866879],\n",
       " '250.24': [0.0010003456365997984],\n",
       " '418.1': [0.0009935155027645595],\n",
       " '270.33': [0.0009813216771807167],\n",
       " '836': [0.0009797552775507386],\n",
       " '758.1': [0.0009768586904872567],\n",
       " '458.1': [0.000976705766832523],\n",
       " '599.2': [0.0009763088126116057],\n",
       " '287.32': [0.0009681806089224757],\n",
       " '334.2': [0.0009532892358497948],\n",
       " '250.42': [0.0009525109849906784],\n",
       " '447': [0.0009477613476375803],\n",
       " '560.1': [0.0009200470561656875],\n",
       " '557.1': [0.0009111228100828752],\n",
       " '514.2': [0.000908999068574135],\n",
       " '292.3': [0.0009076271895545455],\n",
       " '300.12': [0.0008988000812419201],\n",
       " '573.1': [0.0008963153629085258],\n",
       " '331': [0.0008906313704777567],\n",
       " '736': [0.0008901279887674829],\n",
       " '592': [0.0008810254947976981],\n",
       " '282.8': [0.0008805201494284663],\n",
       " '588': [0.0008718060397651614],\n",
       " '573.6': [0.0008711214978231615],\n",
       " '189.21': [0.0008667184794040038],\n",
       " '426.32': [0.0008606721891195521],\n",
       " '587': [0.0008604710045660705],\n",
       " '1011': [0.0008554324126797712],\n",
       " '577.3': [0.000853867042485367],\n",
       " '512.7': [0.0008530917390476923],\n",
       " '242': [0.0008451014686151919],\n",
       " '578.2': [0.0008411595506605565],\n",
       " '535.6': [0.000820100917611476],\n",
       " '958': [0.0008119559091368966],\n",
       " '574.12': [0.0008114054570924021],\n",
       " '158': [0.0008024303023262156],\n",
       " '790': [0.0007953212069660699],\n",
       " '277.4': [0.0007843108164630582],\n",
       " '963.1': [0.0007733823518940017],\n",
       " '159.3': [0.0007698225545085056],\n",
       " '343': [0.0007684103401356001],\n",
       " '401.2': [0.0007680398394631506],\n",
       " '530.7': [0.0007541059597311685],\n",
       " '695.9': [0.0007519562407794439],\n",
       " '333.2': [0.0007437764898494432],\n",
       " '571.51': [0.0007379759032171602],\n",
       " '287.3': [0.0007317995058556998],\n",
       " '560.4': [0.0007270003499054979],\n",
       " '429.2': [0.0007213650601116027],\n",
       " '293.1': [0.0007159765986029643],\n",
       " '686.1': [0.0006924831249115695],\n",
       " '433.5': [0.0006923827447047205],\n",
       " '965': [0.0006895587014085665],\n",
       " '133': [0.0006877519046088965],\n",
       " '800.1': [0.0006867165394572772],\n",
       " '560.3': [0.0006811280983816225],\n",
       " '145': [0.0006758091951485758],\n",
       " '313.1': [0.0006732085837501886],\n",
       " '442.1': [0.0006700266552057756],\n",
       " '801': [0.0006630231242650235],\n",
       " '394': [0.0006499174693472793],\n",
       " '578.1': [0.000643784585334399],\n",
       " '041.4': [0.0006376834938555277],\n",
       " '250.4': [0.0006333696349690476],\n",
       " '531.1': [0.000628311413402992],\n",
       " '512.8': [0.0006280718940254835],\n",
       " '345.12': [0.0006241674808443012],\n",
       " '426.91': [0.000622459043143878],\n",
       " '512.9': [0.0006092059372700341],\n",
       " '149': [0.00059052041061568],\n",
       " '255.21': [0.0005890987216211069],\n",
       " '624.9': [0.0005875838999621148],\n",
       " '559': [0.0005872619436591856],\n",
       " '038.1': [0.0005861141115064164],\n",
       " '710.11': [0.0005759043547728439],\n",
       " '245.21': [0.0005737891184905239],\n",
       " '717': [0.0005719598633165291],\n",
       " '737.3': [0.0005697627747533793],\n",
       " '395.1': [0.000563692153286874],\n",
       " '589': [0.0005611106893543635],\n",
       " '041.1': [0.0005586956583604733],\n",
       " '1100': [0.0005531676407266005],\n",
       " '966': [0.000548525568514969],\n",
       " '250.11': [0.000548517765898894],\n",
       " '579': [0.0005472201545633574],\n",
       " '759': [0.0005395494404530172],\n",
       " '712': [0.0005371633402077914],\n",
       " '975': [0.0005367657317202079],\n",
       " '250.13': [0.0005289288923956395],\n",
       " '974': [0.0005278710413380519],\n",
       " '218': [0.0005234299840591655],\n",
       " '357': [0.0005196402741319514],\n",
       " '740.9': [0.0005176814539188431],\n",
       " '204.4': [0.0005156107086404911],\n",
       " '580.32': [0.0005145864764292802],\n",
       " '522.5': [0.0005118965005748951],\n",
       " '949': [0.0005101276047180978],\n",
       " '411.41': [0.0005094156360483239],\n",
       " '394.7': [0.0005060540382919274],\n",
       " '695.3': [0.0005044649346296982],\n",
       " '427.3': [0.0005001759362560883],\n",
       " '573.9': [0.0004959805532023338],\n",
       " '278': [0.0004942500764546325],\n",
       " '389': [0.0004919207524651336],\n",
       " '184.2': [0.0004887768089060137],\n",
       " '441.1': [0.00048384352023590483],\n",
       " '276.14': [0.0004748630031322887],\n",
       " '800': [0.0004743983945547312],\n",
       " '070.4': [0.000471869391266826],\n",
       " '345.1': [0.0004716638206061066],\n",
       " '443.7': [0.0004603013757687597],\n",
       " '689': [0.00045358501850715637],\n",
       " '172': [0.0004533787386979235],\n",
       " '285.2': [0.0004526493261368369],\n",
       " '556': [0.0004496970942056601],\n",
       " '450': [0.00044744946696383185],\n",
       " '531': [0.0004466357005234811],\n",
       " '540': [0.0004446954239534576],\n",
       " '742': [0.00044267370160675347],\n",
       " '790.6': [0.00044124618714748887],\n",
       " '081': [0.0004371067123496211],\n",
       " '480.1': [0.00042910833107822694],\n",
       " '479': [0.00042879258665422915],\n",
       " '764': [0.00042727604045900727],\n",
       " '295.1': [0.00042342091257326027],\n",
       " '225': [0.00041649540699844354],\n",
       " '433.2': [0.0004089492505712506],\n",
       " '739': [0.0003890566691315555],\n",
       " '747.13': [0.0003881264294901384],\n",
       " '798': [0.00038575118826080336],\n",
       " '276.6': [0.00038505056245117164],\n",
       " '240': [0.0003770139360654247],\n",
       " '291.8': [0.0003755539910585123],\n",
       " '733.8': [0.000356994752867191],\n",
       " '008.6': [0.000353726129085806],\n",
       " '612': [0.00035227643284577084],\n",
       " '596.5': [0.00035095491024894756],\n",
       " '324': [0.00034597589008624087],\n",
       " '305.21': [0.00033602310042722883],\n",
       " '276.8': [0.0003356466811353189],\n",
       " '722.6': [0.0003350780216482533],\n",
       " '819': [0.00032923234240467595],\n",
       " '420.2': [0.00032814915213167436],\n",
       " '253': [0.00032518059310544453],\n",
       " '743': [0.00032238571927774567],\n",
       " '396': [0.0003156778992511782],\n",
       " '251.1': [0.00031225359227375746],\n",
       " '743.2': [0.00031163122788807575],\n",
       " '805': [0.0003103002074407906],\n",
       " '697': [0.00030986148773693204],\n",
       " '260.6': [0.00030935127913281146],\n",
       " '599.4': [0.0003079519790374569],\n",
       " '870': [0.00030385539010103905],\n",
       " '481': [0.00030341238515879556],\n",
       " '070.9': [0.00030077014734825063],\n",
       " '514': [0.0002970009881245889],\n",
       " '256': [0.00029674375636683123],\n",
       " '766': [0.00029671688060259045],\n",
       " '727.1': [0.000296399556250994],\n",
       " '979': [0.0002907420859913421],\n",
       " '871': [0.00028683361254464994],\n",
       " '430.1': [0.0002856706618841469],\n",
       " '907': [0.0002851282919296912],\n",
       " '480.11': [0.0002846941181519738],\n",
       " '569.2': [0.000283896624438792],\n",
       " '973': [0.0002835895513795048],\n",
       " '961': [0.0002818085619139102],\n",
       " '180': [0.00027923076230621587],\n",
       " '220': [0.0002767993473621065],\n",
       " '797': [0.0002667275751243165],\n",
       " '454.1': [0.00026489541551693674],\n",
       " '204.2': [0.00026166684816813867],\n",
       " '185': [0.0002601851914241842],\n",
       " '315.1': [0.0002589908675334776],\n",
       " '269': [0.00025705577394479],\n",
       " '368': [0.0002566064318975971],\n",
       " '395.3': [0.0002555671046944607],\n",
       " '574.1': [0.00024957384762157374],\n",
       " '939': [0.00024914569238940247],\n",
       " '300.4': [0.00024887459394814],\n",
       " '619': [0.0002452884154122332],\n",
       " '427.41': [0.00024404392210460867],\n",
       " '601.8': [0.0002431775278655947],\n",
       " '771': [0.0002407158708911363],\n",
       " '599.9': [0.0002388836845614993],\n",
       " '579.8': [0.00023848533761322324],\n",
       " '345.3': [0.00023704999610166743],\n",
       " '593.2': [0.0002361133772984248],\n",
       " '695.22': [0.00023443088092157458],\n",
       " '721.1': [0.00023195349492224118],\n",
       " '627.1': [0.00023156328899877885],\n",
       " '289.5': [0.00023045032490523877],\n",
       " '964.1': [0.00022937220837645453],\n",
       " '916': [0.00022747787273978855],\n",
       " '781': [0.00022621868285792757],\n",
       " '571.6': [0.00022428014352005013],\n",
       " '851': [0.00022364913136948327],\n",
       " '748': [0.00021917367869587654],\n",
       " '280': [0.00021744775034735636],\n",
       " '386': [0.00021729079249820403],\n",
       " '560': [0.00021024791943990314],\n",
       " '681.2': [0.00021002378820596783],\n",
       " '368.9': [0.00020897206676410214],\n",
       " '599.6': [0.0002085775253736608],\n",
       " '379.9': [0.00020772282875541572],\n",
       " '800.3': [0.00020730696227688863],\n",
       " '941': [0.00020650503362737736],\n",
       " '218.1': [0.00020563661475477823],\n",
       " '429.3': [0.00020551063346198445],\n",
       " '292.4': [0.00020513821833370927],\n",
       " '854': [0.00020118781273826734],\n",
       " '971': [0.0002008431309430875],\n",
       " '1010': [0.00020041828224693397],\n",
       " '550.5': [0.00019997811829654938],\n",
       " '327.41': [0.00019972536018661175],\n",
       " '528.3': [0.00019717052997230848],\n",
       " '414': [0.0001957044122621961],\n",
       " '796': [0.00019238737593866957],\n",
       " '306': [0.00019228187763645327],\n",
       " '374.3': [0.00019200925917311226],\n",
       " '441': [0.00019028347499186447],\n",
       " '528': [0.00018547802502151458],\n",
       " '386.2': [0.00018212925106195237],\n",
       " '506': [0.00018006035552297064],\n",
       " '394.2': [0.0001742972923933368],\n",
       " '297': [0.0001742967505665344],\n",
       " '426.2': [0.00017278963395681588],\n",
       " '596': [0.0001716726630439114],\n",
       " '696': [0.00017118736593632912],\n",
       " '225.1': [0.0001700725163615687],\n",
       " '747': [0.00016918543556705568],\n",
       " '433.11': [0.00016880525448020395],\n",
       " '458.9': [0.00016442964952716017],\n",
       " '175': [0.00016395317284042382],\n",
       " '809': [0.0001623442365906105],\n",
       " '170': [0.00016171233381424738],\n",
       " '250.1': [0.00015882762008628503],\n",
       " '702': [0.0001572129414577888],\n",
       " '710.19': [0.00015529342537048176],\n",
       " '053': [0.00015205150036244383],\n",
       " '771.1': [0.0001504327485320521],\n",
       " '565': [0.00015040786253338743],\n",
       " '516.1': [0.0001482333647383263],\n",
       " '727.5': [0.00014607730325519474],\n",
       " '521.1': [0.0001452434786300751],\n",
       " '751.22': [0.00014444458916034036],\n",
       " '516': [0.00014428550644729208],\n",
       " '513': [0.00014261715251249143],\n",
       " '681.7': [0.00013655714362353062],\n",
       " '705.8': [0.0001363964781194492],\n",
       " '483': [0.00013577608742861217],\n",
       " '586.4': [0.00013422808139337987],\n",
       " '586.3': [0.00013402255955880123],\n",
       " '352.2': [0.00013282045322636192],\n",
       " '426.8': [0.00013122100563202964],\n",
       " '433.1': [0.00013048397279906234],\n",
       " '816': [0.00012937238956719813],\n",
       " '770': [0.00012859061992546384],\n",
       " '244.2': [0.00012760812452639376],\n",
       " '617': [0.0001257558242595467],\n",
       " '204.3': [0.00012563236615380346],\n",
       " '550.4': [0.00012495664870630258],\n",
       " '274.21': [0.00012492392538532212],\n",
       " '577.2': [0.00012446129420252473],\n",
       " '355.1': [0.0001238284288077997],\n",
       " '315.2': [0.00012361807818670308],\n",
       " '411.4': [0.00012329507999520956],\n",
       " '350.2': [0.00012124925202087149],\n",
       " '346.1': [0.00012031650502517827],\n",
       " '573.3': [0.00012017148036050921],\n",
       " '872': [0.0001179626737432753],\n",
       " '394.3': [0.0001136961723565425],\n",
       " '379.2': [0.00011360286710956786],\n",
       " '473': [0.00011106039059020789],\n",
       " '938': [0.00011036044697947539],\n",
       " '359': [0.00011033873174010213],\n",
       " '1001': [0.00010754590845677038],\n",
       " '946': [0.00010619163897916006],\n",
       " '527': [0.0001059038206995042],\n",
       " '401.22': [0.00010566105310737434],\n",
       " '536': [0.00010531796781978394],\n",
       " '174': [0.00010385287898432125],\n",
       " '574.3': [0.00010144148768166622],\n",
       " '411.3': [9.872072090262746e-05],\n",
       " '519.2': [9.646298594245653e-05],\n",
       " '159.4': [9.571974765454899e-05],\n",
       " '379': [9.508960677483332e-05],\n",
       " '366': [9.182806328237221e-05],\n",
       " '695.42': [9.032843087804316e-05],\n",
       " '967': [8.99413789584887e-05],\n",
       " '604': [8.940380839761484e-05],\n",
       " '530.12': [8.836678316580176e-05],\n",
       " '323': [8.764942545100442e-05],\n",
       " '514.1': [8.351159572140947e-05],\n",
       " '721.2': [8.061260714040702e-05],\n",
       " '257.1': [7.985927448066347e-05],\n",
       " '263': [7.843741293043858e-05],\n",
       " '802': [7.708518748045485e-05],\n",
       " '592.11': [7.577895800373608e-05],\n",
       " '530.9': [7.501784204027864e-05],\n",
       " '860': [7.498744450021344e-05],\n",
       " '726': [7.311992018627547e-05],\n",
       " '031': [7.24278427149258e-05],\n",
       " '994': [7.183502705120894e-05],\n",
       " '605': [6.952364156903956e-05],\n",
       " '958.1': [6.865432353077411e-05],\n",
       " '365': [6.821158658696543e-05],\n",
       " '008.5': [6.770524397116673e-05],\n",
       " '695': [6.633634488548684e-05],\n",
       " '698': [6.60337546950146e-05],\n",
       " '350.3': [6.594210452896961e-05],\n",
       " '444.1': [6.512156745406208e-05],\n",
       " '599.3': [6.50962972431079e-05],\n",
       " '608': [6.276675447152795e-05],\n",
       " '599': [6.2698102160329e-05],\n",
       " '577': [6.246683271757996e-05],\n",
       " '446': [6.051950961109896e-05],\n",
       " '252': [5.986744594883557e-05],\n",
       " '198.7': [5.9748589569418816e-05],\n",
       " '733': [5.9703259839154744e-05],\n",
       " '960.2': [5.8903930223482724e-05],\n",
       " '575.1': [5.887779427782417e-05],\n",
       " '241.2': [5.885381735981377e-05],\n",
       " '593': [5.85666007665702e-05],\n",
       " '644': [5.830899381429701e-05],\n",
       " '426.25': [5.7007300120641966e-05],\n",
       " '513.3': [5.676488166860966e-05],\n",
       " '772.6': [5.672943861654573e-05],\n",
       " '703.1': [5.492261566952519e-05],\n",
       " '738': [5.4732363062927884e-05],\n",
       " '430.3': [5.33674774845842e-05],\n",
       " '456': [5.17689832240304e-05],\n",
       " '761': [5.145998234071467e-05],\n",
       " '292.12': [5.127956567258897e-05],\n",
       " '695.8': [5.0997241555971114e-05],\n",
       " '295.3': [5.02568857251484e-05],\n",
       " '573.4': [4.89664065156952e-05],\n",
       " '464': [4.871628860054342e-05],\n",
       " '149.4': [4.821311611808294e-05],\n",
       " '465.2': [4.800025028833905e-05],\n",
       " '597.1': [4.653157211943958e-05],\n",
       " '362.29': [4.6257831342517174e-05],\n",
       " '275.1': [4.603101318672186e-05],\n",
       " '455': [4.566696465900163e-05],\n",
       " '134': [4.543466992803419e-05],\n",
       " '369': [4.4756960519345874e-05],\n",
       " '578.9': [4.458689420071582e-05],\n",
       " '255': [4.386796314766193e-05],\n",
       " '159.2': [4.216956240926619e-05],\n",
       " '856': [4.1623737773055814e-05],\n",
       " '603.1': [4.129311305938503e-05],\n",
       " '368.4': [4.0454383582175344e-05],\n",
       " '473.3': [4.0423692854327916e-05],\n",
       " '741': [4.02458636707279e-05],\n",
       " '859': [3.824475096647483e-05],\n",
       " '440.2': [3.647672351253497e-05],\n",
       " '275.3': [3.643245575046957e-05],\n",
       " '964': [3.629764737463142e-05],\n",
       " '747.2': [3.579818580331166e-05],\n",
       " '303': [3.565178918175191e-05],\n",
       " '174.11': [3.4871320870055093e-05],\n",
       " '474': [3.476863702848932e-05],\n",
       " '965.3': [3.356260312193668e-05],\n",
       " '110': [3.311474720148625e-05],\n",
       " '444.2': [3.311319700184602e-05],\n",
       " '252.2': [3.144642827539153e-05],\n",
       " '529': [3.104632591467984e-05],\n",
       " '513.8': [3.075466828554249e-05],\n",
       " '702.1': [3.024033490408887e-05],\n",
       " '090': [2.8390112063592327e-05],\n",
       " '714.1': [2.8382943809640915e-05],\n",
       " '427.11': [2.828276254240386e-05],\n",
       " '772': [2.768601917452707e-05],\n",
       " '701': [2.733095674398826e-05],\n",
       " '214': [2.7146673414346032e-05],\n",
       " '555': [2.570666878681692e-05],\n",
       " '555.2': [2.5452844237964916e-05],\n",
       " '731': [2.539845135473659e-05],\n",
       " '586.2': [2.538362553734826e-05],\n",
       " '480.3': [2.520080207852442e-05],\n",
       " '426.23': [2.5000839962878092e-05],\n",
       " '710.12': [2.4978807407379227e-05],\n",
       " '791': [2.495868257219629e-05],\n",
       " '626': [2.419796477318442e-05],\n",
       " '721': [2.3924003298210192e-05],\n",
       " '411.8': [2.3898676514087796e-05],\n",
       " '681.1': [2.3571507795028142e-05],\n",
       " '800.2': [2.3138312787314053e-05],\n",
       " '244.1': [2.30501146631397e-05],\n",
       " '709': [2.2736725684419535e-05],\n",
       " '550.1': [2.2197299252123774e-05],\n",
       " '364': [2.185655326155862e-05],\n",
       " '627': [2.1492398319043625e-05],\n",
       " '803.3': [2.1282945868803153e-05],\n",
       " '1009': [2.1241513738063926e-05],\n",
       " '496.1': [2.0344712634211638e-05],\n",
       " '427.7': [2.0061053496595205e-05],\n",
       " '738.4': [1.9843587798684143e-05],\n",
       " '427.61': [1.8938440412503833e-05],\n",
       " '277': [1.8838840819035648e-05],\n",
       " '804': [1.846575687783135e-05],\n",
       " '288.1': [1.8263719512160177e-05],\n",
       " '763': [1.792949668917533e-05],\n",
       " '977': [1.770735542619041e-05],\n",
       " '561.1': [1.7133375308769055e-05],\n",
       " '519.1': [1.710178811379059e-05],\n",
       " '564.8': [1.704761596919278e-05],\n",
       " '362': [1.69682762255946e-05],\n",
       " '550.3': [1.6927381500840297e-05],\n",
       " '737.1': [1.597329459774406e-05],\n",
       " '270.32': [1.5899210839180324e-05],\n",
       " '250.23': [1.5848316257597972e-05],\n",
       " '535.8': [1.5469133215764595e-05],\n",
       " '478': [1.4306977620646161e-05],\n",
       " '291.1': [1.2379779434625547e-05],\n",
       " '204.12': [1.237731819763904e-05],\n",
       " '369.5': [1.217363610206467e-05],\n",
       " '754': [1.209465121774264e-05],\n",
       " '475': [1.1940343231310402e-05],\n",
       " '172.2': [1.1734417465493682e-05],\n",
       " '367.9': [1.1553651325519124e-05],\n",
       " '772.2': [1.1513806108616146e-05],\n",
       " '709.3': [1.1358036723368241e-05],\n",
       " '274.1': [1.0667858883813667e-05],\n",
       " '315.3': [1.044758407026268e-05],\n",
       " '733.4': [1.0173816925669925e-05],\n",
       " '728': [1.008610408974186e-05],\n",
       " '227': [1.0078696141407075e-05],\n",
       " '480.5': [9.736561441767493e-06],\n",
       " '429.1': [9.308127535646111e-06],\n",
       " '597': [9.131926532898498e-06],\n",
       " '531.2': [9.01728096609015e-06],\n",
       " '327.4': [8.352895368983616e-06],\n",
       " '327': [8.037729258535256e-06],\n",
       " '687': [7.891071663655793e-06],\n",
       " '512': [7.843004603796136e-06],\n",
       " '686.2': [7.560327239381842e-06],\n",
       " '041.2': [7.340808394224819e-06],\n",
       " '580.12': [7.047740724185137e-06],\n",
       " '132': [6.2626416970075334e-06],\n",
       " '117': [6.044114393739415e-06],\n",
       " '733.6': [5.946187067726144e-06],\n",
       " '496.2': [5.471746906281525e-06],\n",
       " '458.2': [5.0737024359788735e-06],\n",
       " '253.7': [5.010687741983271e-06],\n",
       " '446.5': [4.468743797155964e-06],\n",
       " '773': [4.375157227718893e-06],\n",
       " '476': [4.165989737385849e-06],\n",
       " '214.1': [3.6502825815930834e-06],\n",
       " '426.31': [3.5539072794915648e-06],\n",
       " '362.4': [3.3244820219669525e-06],\n",
       " '726.1': [3.237457126352484e-06],\n",
       " '249': [3.2015024410078474e-06],\n",
       " '728.7': [2.5661645865591868e-06],\n",
       " '270.35': [0.0],\n",
       " '671': [0.0],\n",
       " '728.1': [0.0],\n",
       " '669': [0.0],\n",
       " '668': [0.0],\n",
       " '276.1': [0.0],\n",
       " '271': [0.0],\n",
       " '728.2': [0.0],\n",
       " '696.41': [0.0],\n",
       " '727.7': [0.0],\n",
       " '251': [0.0],\n",
       " '252.1': [0.0],\n",
       " '274.2': [0.0],\n",
       " '271.9': [0.0],\n",
       " '275.2': [0.0],\n",
       " '726.2': [0.0],\n",
       " '726.3': [0.0],\n",
       " '726.4': [0.0],\n",
       " '727': [0.0],\n",
       " '690': [0.0],\n",
       " '695.41': [0.0],\n",
       " '676': [0.0],\n",
       " '674': [0.0],\n",
       " '728.71': [0.0],\n",
       " '727.2': [0.0],\n",
       " '727.4': [0.0],\n",
       " '251.8': [0.0],\n",
       " '271.3': [0.0],\n",
       " '250.5': [0.0],\n",
       " '729.3': [0.0],\n",
       " '737': [0.0],\n",
       " '694.1': [0.0],\n",
       " '246.7': [0.0],\n",
       " '656': [0.0],\n",
       " '246': [0.0],\n",
       " '245': [0.0],\n",
       " '740.1': [0.0],\n",
       " '244.5': [0.0],\n",
       " '740.12': [0.0],\n",
       " '694': [0.0],\n",
       " '242.3': [0.0],\n",
       " '741.1': [0.0],\n",
       " '741.2': [0.0],\n",
       " '741.3': [0.0],\n",
       " '741.4': [0.0],\n",
       " '736.2': [0.0],\n",
       " '250.12': [0.0],\n",
       " '735.3': [0.0],\n",
       " '732': [0.0],\n",
       " '729.7': [0.0],\n",
       " '695.1': [0.0],\n",
       " '724.9': [0.0],\n",
       " '663': [0.0],\n",
       " '694.3': [0.0],\n",
       " '731.1': [0.0],\n",
       " '661': [0.0],\n",
       " '735.21': [0.0],\n",
       " '694.2': [0.0],\n",
       " '733.2': [0.0],\n",
       " '250.21': [0.0],\n",
       " '735': [0.0],\n",
       " '735.1': [0.0],\n",
       " '735.2': [0.0],\n",
       " '695.7': [0.0],\n",
       " '270.31': [0.0],\n",
       " '724.8': [0.0],\n",
       " '706.2': [0.0],\n",
       " '704.8': [0.0],\n",
       " '705': [0.0],\n",
       " '705.3': [0.0],\n",
       " '261.41': [0.0],\n",
       " '706': [0.0],\n",
       " '270.2': [0.0],\n",
       " '706.1': [0.0],\n",
       " '706.8': [0.0],\n",
       " '709.7': [0.0],\n",
       " '261.1': [0.0],\n",
       " '260.7': [0.0],\n",
       " '709.2': [0.0],\n",
       " '270.21': [0.0],\n",
       " '709.4': [0.0],\n",
       " '709.5': [0.0],\n",
       " '709.6': [0.0],\n",
       " '704.2': [0.0],\n",
       " '704.11': [0.0],\n",
       " '704.1': [0.0],\n",
       " '704': [0.0],\n",
       " '696.4': [0.0],\n",
       " '696.42': [0.0],\n",
       " '270.11': [0.0],\n",
       " '270.1': [0.0],\n",
       " '700': [0.0],\n",
       " '687.3': [0.0],\n",
       " '687.2': [0.0],\n",
       " '701.2': [0.0],\n",
       " '701.4': [0.0],\n",
       " '701.5': [0.0],\n",
       " '701.6': [0.0],\n",
       " '264': [0.0],\n",
       " '687.1': [0.0],\n",
       " '703': [0.0],\n",
       " '262': [0.0],\n",
       " '686.5': [0.0],\n",
       " '259.2': [0.0],\n",
       " '724': [0.0],\n",
       " '722.1': [0.0],\n",
       " '254': [0.0],\n",
       " '686': [0.0],\n",
       " '691': [0.0],\n",
       " '253.2': [0.0],\n",
       " '253.11': [0.0],\n",
       " '721.8': [0.0],\n",
       " '253.1': [0.0],\n",
       " '274.11': [0.0],\n",
       " '259': [0.0],\n",
       " '695.81': [0.0],\n",
       " '722.7': [0.0],\n",
       " '722.8': [0.0],\n",
       " '722.9': [0.0],\n",
       " '723': [0.0],\n",
       " '272.12': [0.0],\n",
       " '723.1': [0.0],\n",
       " '255.11': [0.0],\n",
       " '716.2': [0.0],\n",
       " '255.12': [0.0],\n",
       " '715.1': [0.0],\n",
       " '686.4': [0.0],\n",
       " '741.5': [0.0],\n",
       " '686.3': [0.0],\n",
       " '258': [0.0],\n",
       " '711': [0.0],\n",
       " '711.1': [0.0],\n",
       " '711.2': [0.0],\n",
       " '711.3': [0.0],\n",
       " '257': [0.0],\n",
       " '713': [0.0],\n",
       " '713.5': [0.0],\n",
       " '256.4': [0.0],\n",
       " '272.13': [0.0],\n",
       " '714.2': [0.0],\n",
       " '715': [0.0],\n",
       " '690.1': [0.0],\n",
       " '440.1': [0.0],\n",
       " '242.2': [0.0],\n",
       " '915': [0.0],\n",
       " '149.9': [0.0],\n",
       " '149.3': [0.0],\n",
       " '870.1': [0.0],\n",
       " '870.2': [0.0],\n",
       " '870.3': [0.0],\n",
       " '870.4': [0.0],\n",
       " '870.6': [0.0],\n",
       " '870.8': [0.0],\n",
       " '149.2': [0.0],\n",
       " '871.3': [0.0],\n",
       " '871.4': [0.0],\n",
       " '149.1': [0.0],\n",
       " '145.3': [0.0],\n",
       " '875': [0.0],\n",
       " '876': [0.0],\n",
       " '145.2': [0.0],\n",
       " '910': [0.0],\n",
       " '911': [0.0],\n",
       " '912': [0.0],\n",
       " '153.2': [0.0],\n",
       " '153.3': [0.0],\n",
       " '164': [0.0],\n",
       " '180.3': [0.0],\n",
       " '803.2': [0.0],\n",
       " '190': [0.0],\n",
       " '189.4': [0.0],\n",
       " '189.2': [0.0],\n",
       " '187.2': [0.0],\n",
       " '817': [0.0],\n",
       " '187': [0.0],\n",
       " '184.1': [0.0],\n",
       " '835': [0.0],\n",
       " '170.1': [0.0],\n",
       " '180.1': [0.0],\n",
       " '174.1': [0.0],\n",
       " '841': [0.0],\n",
       " '842': [0.0],\n",
       " '172.3': [0.0],\n",
       " '172.11': [0.0],\n",
       " '170.2': [0.0],\n",
       " '855': [0.0],\n",
       " '913': [0.0],\n",
       " '134.1': [0.0],\n",
       " '742.1': [0.0],\n",
       " '930': [0.0],\n",
       " '1005': [0.0],\n",
       " '1000': [0.0],\n",
       " '090.3': [0.0],\n",
       " '090.2': [0.0],\n",
       " '079.2': [0.0],\n",
       " '079.1': [0.0],\n",
       " '976': [0.0],\n",
       " '078': [0.0],\n",
       " '980': [0.0],\n",
       " '981': [0.0],\n",
       " '983': [0.0],\n",
       " '985': [0.0],\n",
       " '987': [0.0],\n",
       " '988': [0.0],\n",
       " '989': [0.0],\n",
       " '070.3': [0.0],\n",
       " '070.1': [0.0],\n",
       " '053.1': [0.0],\n",
       " '038.2': [0.0],\n",
       " '1006': [0.0],\n",
       " '965.1': [0.0],\n",
       " '1007': [0.0],\n",
       " '952': [0.0],\n",
       " '931': [0.0],\n",
       " '132.1': [0.0],\n",
       " '938.1': [0.0],\n",
       " '131': [0.0],\n",
       " '942': [0.0],\n",
       " '130.1': [0.0],\n",
       " '947': [0.0],\n",
       " '117.4': [0.0],\n",
       " '112.3': [0.0],\n",
       " '1014': [0.0],\n",
       " '958.2': [0.0],\n",
       " '110.2': [0.0],\n",
       " '110.13': [0.0],\n",
       " '110.12': [0.0],\n",
       " '110.11': [0.0],\n",
       " '110.1': [0.0],\n",
       " '962.3': [0.0],\n",
       " '1019': [0.0],\n",
       " '803.1': [0.0],\n",
       " '191.1': [0.0],\n",
       " '194': [0.0],\n",
       " '195.3': [0.0],\n",
       " '751.11': [0.0],\n",
       " '751.12': [0.0],\n",
       " ...}"
      ]
     },
     "execution_count": 25,
     "metadata": {},
     "output_type": "execute_result"
    }
   ],
   "source": [
    "feature_importance_value\n"
   ]
  },
  {
   "cell_type": "code",
   "execution_count": 26,
   "id": "a4506526",
   "metadata": {},
   "outputs": [
    {
     "name": "stdout",
     "output_type": "stream",
     "text": [
      "['655', '300', '290.1', '428.2', '296', '070', 'DIASTOLIC', '345', '250', '348', '260', '290', '707', '411', '401.1', '276', '318', '272', '272.1', '480', '317', '496', '591', '316', '428', 'SYSTOLIC', 'BMI', '285', '585', '198', 'GENDER', 'AGE']\n"
     ]
    },
    {
     "data": {
      "text/html": [
       "<div>\n",
       "<style scoped>\n",
       "    .dataframe tbody tr th:only-of-type {\n",
       "        vertical-align: middle;\n",
       "    }\n",
       "\n",
       "    .dataframe tbody tr th {\n",
       "        vertical-align: top;\n",
       "    }\n",
       "\n",
       "    .dataframe thead th {\n",
       "        text-align: right;\n",
       "    }\n",
       "</style>\n",
       "<table border=\"1\" class=\"dataframe\">\n",
       "  <thead>\n",
       "    <tr style=\"text-align: right;\">\n",
       "      <th></th>\n",
       "      <th>Variable</th>\n",
       "      <th>SHAP_abs</th>\n",
       "      <th>SHAP_std</th>\n",
       "      <th>Corr</th>\n",
       "      <th>Sign</th>\n",
       "    </tr>\n",
       "  </thead>\n",
       "  <tbody>\n",
       "    <tr>\n",
       "      <th>31</th>\n",
       "      <td>655</td>\n",
       "      <td>0.028535</td>\n",
       "      <td>0.0</td>\n",
       "      <td>-0.998197</td>\n",
       "      <td>[0.4980392156862745, 0.15294117647058825, 0.01...</td>\n",
       "    </tr>\n",
       "    <tr>\n",
       "      <th>30</th>\n",
       "      <td>300</td>\n",
       "      <td>0.028687</td>\n",
       "      <td>0.0</td>\n",
       "      <td>0.918778</td>\n",
       "      <td>[0.03137254901960784, 0.2697545159796202, 0.54...</td>\n",
       "    </tr>\n",
       "    <tr>\n",
       "      <th>29</th>\n",
       "      <td>290.1</td>\n",
       "      <td>0.030362</td>\n",
       "      <td>0.0</td>\n",
       "      <td>0.947005</td>\n",
       "      <td>[0.03137254901960784, 0.23714682723483094, 0.4...</td>\n",
       "    </tr>\n",
       "    <tr>\n",
       "      <th>28</th>\n",
       "      <td>428.2</td>\n",
       "      <td>0.030469</td>\n",
       "      <td>0.0</td>\n",
       "      <td>0.954179</td>\n",
       "      <td>[0.03137254901960784, 0.22899490504863362, 0.4...</td>\n",
       "    </tr>\n",
       "    <tr>\n",
       "      <th>27</th>\n",
       "      <td>296</td>\n",
       "      <td>0.030709</td>\n",
       "      <td>0.0</td>\n",
       "      <td>0.930281</td>\n",
       "      <td>[0.03137254901960784, 0.25345067160722556, 0.5...</td>\n",
       "    </tr>\n",
       "    <tr>\n",
       "      <th>26</th>\n",
       "      <td>070</td>\n",
       "      <td>0.031006</td>\n",
       "      <td>0.0</td>\n",
       "      <td>0.923273</td>\n",
       "      <td>[0.03137254901960784, 0.2616025937934229, 0.52...</td>\n",
       "    </tr>\n",
       "    <tr>\n",
       "      <th>25</th>\n",
       "      <td>DIASTOLIC</td>\n",
       "      <td>0.033940</td>\n",
       "      <td>0.0</td>\n",
       "      <td>-0.320834</td>\n",
       "      <td>[0.9921568627450981, 0.7379959857958932, 0.509...</td>\n",
       "    </tr>\n",
       "    <tr>\n",
       "      <th>24</th>\n",
       "      <td>345</td>\n",
       "      <td>0.038156</td>\n",
       "      <td>0.0</td>\n",
       "      <td>0.953905</td>\n",
       "      <td>[0.03137254901960784, 0.22899490504863362, 0.4...</td>\n",
       "    </tr>\n",
       "    <tr>\n",
       "      <th>23</th>\n",
       "      <td>250</td>\n",
       "      <td>0.038166</td>\n",
       "      <td>0.0</td>\n",
       "      <td>0.944496</td>\n",
       "      <td>[0.03137254901960784, 0.24529874942102825, 0.5...</td>\n",
       "    </tr>\n",
       "    <tr>\n",
       "      <th>22</th>\n",
       "      <td>348</td>\n",
       "      <td>0.039626</td>\n",
       "      <td>0.0</td>\n",
       "      <td>0.947120</td>\n",
       "      <td>[0.03137254901960784, 0.23714682723483094, 0.4...</td>\n",
       "    </tr>\n",
       "    <tr>\n",
       "      <th>21</th>\n",
       "      <td>260</td>\n",
       "      <td>0.041799</td>\n",
       "      <td>0.0</td>\n",
       "      <td>0.928147</td>\n",
       "      <td>[0.03137254901960784, 0.2616025937934229, 0.52...</td>\n",
       "    </tr>\n",
       "    <tr>\n",
       "      <th>20</th>\n",
       "      <td>290</td>\n",
       "      <td>0.043096</td>\n",
       "      <td>0.0</td>\n",
       "      <td>0.943882</td>\n",
       "      <td>[0.03137254901960784, 0.24529874942102825, 0.5...</td>\n",
       "    </tr>\n",
       "    <tr>\n",
       "      <th>19</th>\n",
       "      <td>707</td>\n",
       "      <td>0.043276</td>\n",
       "      <td>0.0</td>\n",
       "      <td>0.965172</td>\n",
       "      <td>[0.03137254901960784, 0.2208429828624363, 0.46...</td>\n",
       "    </tr>\n",
       "    <tr>\n",
       "      <th>18</th>\n",
       "      <td>411</td>\n",
       "      <td>0.045474</td>\n",
       "      <td>0.0</td>\n",
       "      <td>0.908084</td>\n",
       "      <td>[0.03137254901960784, 0.2779064381658176, 0.55...</td>\n",
       "    </tr>\n",
       "    <tr>\n",
       "      <th>17</th>\n",
       "      <td>401.1</td>\n",
       "      <td>0.046156</td>\n",
       "      <td>0.0</td>\n",
       "      <td>-0.904151</td>\n",
       "      <td>[0.6136482939632546, 0.19740620657711905, 0.01...</td>\n",
       "    </tr>\n",
       "    <tr>\n",
       "      <th>16</th>\n",
       "      <td>276</td>\n",
       "      <td>0.046197</td>\n",
       "      <td>0.0</td>\n",
       "      <td>0.959908</td>\n",
       "      <td>[0.03137254901960784, 0.22899490504863362, 0.4...</td>\n",
       "    </tr>\n",
       "    <tr>\n",
       "      <th>15</th>\n",
       "      <td>318</td>\n",
       "      <td>0.048965</td>\n",
       "      <td>0.0</td>\n",
       "      <td>0.947881</td>\n",
       "      <td>[0.03137254901960784, 0.23714682723483094, 0.4...</td>\n",
       "    </tr>\n",
       "    <tr>\n",
       "      <th>14</th>\n",
       "      <td>272</td>\n",
       "      <td>0.053398</td>\n",
       "      <td>0.0</td>\n",
       "      <td>-0.937028</td>\n",
       "      <td>[0.5751119345375946, 0.18258452987494211, 0.01...</td>\n",
       "    </tr>\n",
       "    <tr>\n",
       "      <th>13</th>\n",
       "      <td>272.1</td>\n",
       "      <td>0.053758</td>\n",
       "      <td>0.0</td>\n",
       "      <td>-0.949789</td>\n",
       "      <td>[0.5558437548247646, 0.17517369152385365, 0.01...</td>\n",
       "    </tr>\n",
       "    <tr>\n",
       "      <th>12</th>\n",
       "      <td>480</td>\n",
       "      <td>0.055255</td>\n",
       "      <td>0.0</td>\n",
       "      <td>0.962359</td>\n",
       "      <td>[0.03137254901960784, 0.2208429828624363, 0.46...</td>\n",
       "    </tr>\n",
       "    <tr>\n",
       "      <th>11</th>\n",
       "      <td>317</td>\n",
       "      <td>0.055975</td>\n",
       "      <td>0.0</td>\n",
       "      <td>0.895747</td>\n",
       "      <td>[0.03137254901960784, 0.29421028253821213, 0.5...</td>\n",
       "    </tr>\n",
       "    <tr>\n",
       "      <th>10</th>\n",
       "      <td>496</td>\n",
       "      <td>0.059580</td>\n",
       "      <td>0.0</td>\n",
       "      <td>0.933902</td>\n",
       "      <td>[0.03137254901960784, 0.25345067160722556, 0.5...</td>\n",
       "    </tr>\n",
       "    <tr>\n",
       "      <th>9</th>\n",
       "      <td>591</td>\n",
       "      <td>0.060186</td>\n",
       "      <td>0.0</td>\n",
       "      <td>0.939927</td>\n",
       "      <td>[0.03137254901960784, 0.24529874942102825, 0.5...</td>\n",
       "    </tr>\n",
       "    <tr>\n",
       "      <th>8</th>\n",
       "      <td>316</td>\n",
       "      <td>0.060638</td>\n",
       "      <td>0.0</td>\n",
       "      <td>0.892472</td>\n",
       "      <td>[0.03137254901960784, 0.29421028253821213, 0.5...</td>\n",
       "    </tr>\n",
       "    <tr>\n",
       "      <th>7</th>\n",
       "      <td>428</td>\n",
       "      <td>0.066416</td>\n",
       "      <td>0.0</td>\n",
       "      <td>0.949083</td>\n",
       "      <td>[0.03137254901960784, 0.23714682723483094, 0.4...</td>\n",
       "    </tr>\n",
       "    <tr>\n",
       "      <th>6</th>\n",
       "      <td>SYSTOLIC</td>\n",
       "      <td>0.067609</td>\n",
       "      <td>0.0</td>\n",
       "      <td>-0.537075</td>\n",
       "      <td>[0.9788173537131388, 0.5129226493747105, 0.189...</td>\n",
       "    </tr>\n",
       "    <tr>\n",
       "      <th>5</th>\n",
       "      <td>BMI</td>\n",
       "      <td>0.069721</td>\n",
       "      <td>0.0</td>\n",
       "      <td>-0.385580</td>\n",
       "      <td>[0.9921568627450981, 0.6711440481704493, 0.403...</td>\n",
       "    </tr>\n",
       "    <tr>\n",
       "      <th>4</th>\n",
       "      <td>285</td>\n",
       "      <td>0.083508</td>\n",
       "      <td>0.0</td>\n",
       "      <td>0.960401</td>\n",
       "      <td>[0.03137254901960784, 0.22899490504863362, 0.4...</td>\n",
       "    </tr>\n",
       "    <tr>\n",
       "      <th>3</th>\n",
       "      <td>585</td>\n",
       "      <td>0.120784</td>\n",
       "      <td>0.0</td>\n",
       "      <td>0.963740</td>\n",
       "      <td>[0.03137254901960784, 0.2208429828624363, 0.46...</td>\n",
       "    </tr>\n",
       "    <tr>\n",
       "      <th>2</th>\n",
       "      <td>198</td>\n",
       "      <td>0.139448</td>\n",
       "      <td>0.0</td>\n",
       "      <td>0.976546</td>\n",
       "      <td>[0.03137254901960784, 0.212691060676239, 0.455...</td>\n",
       "    </tr>\n",
       "    <tr>\n",
       "      <th>1</th>\n",
       "      <td>GENDER</td>\n",
       "      <td>0.141441</td>\n",
       "      <td>0.0</td>\n",
       "      <td>-0.950229</td>\n",
       "      <td>[0.5558437548247646, 0.17517369152385365, 0.01...</td>\n",
       "    </tr>\n",
       "    <tr>\n",
       "      <th>0</th>\n",
       "      <td>AGE</td>\n",
       "      <td>0.859904</td>\n",
       "      <td>0.0</td>\n",
       "      <td>0.970001</td>\n",
       "      <td>[0.03137254901960784, 0.212691060676239, 0.455...</td>\n",
       "    </tr>\n",
       "  </tbody>\n",
       "</table>\n",
       "</div>"
      ],
      "text/plain": [
       "     Variable  SHAP_abs  SHAP_std      Corr  \\\n",
       "31        655  0.028535       0.0 -0.998197   \n",
       "30        300  0.028687       0.0  0.918778   \n",
       "29      290.1  0.030362       0.0  0.947005   \n",
       "28      428.2  0.030469       0.0  0.954179   \n",
       "27        296  0.030709       0.0  0.930281   \n",
       "26        070  0.031006       0.0  0.923273   \n",
       "25  DIASTOLIC  0.033940       0.0 -0.320834   \n",
       "24        345  0.038156       0.0  0.953905   \n",
       "23        250  0.038166       0.0  0.944496   \n",
       "22        348  0.039626       0.0  0.947120   \n",
       "21        260  0.041799       0.0  0.928147   \n",
       "20        290  0.043096       0.0  0.943882   \n",
       "19        707  0.043276       0.0  0.965172   \n",
       "18        411  0.045474       0.0  0.908084   \n",
       "17      401.1  0.046156       0.0 -0.904151   \n",
       "16        276  0.046197       0.0  0.959908   \n",
       "15        318  0.048965       0.0  0.947881   \n",
       "14        272  0.053398       0.0 -0.937028   \n",
       "13      272.1  0.053758       0.0 -0.949789   \n",
       "12        480  0.055255       0.0  0.962359   \n",
       "11        317  0.055975       0.0  0.895747   \n",
       "10        496  0.059580       0.0  0.933902   \n",
       "9         591  0.060186       0.0  0.939927   \n",
       "8         316  0.060638       0.0  0.892472   \n",
       "7         428  0.066416       0.0  0.949083   \n",
       "6    SYSTOLIC  0.067609       0.0 -0.537075   \n",
       "5         BMI  0.069721       0.0 -0.385580   \n",
       "4         285  0.083508       0.0  0.960401   \n",
       "3         585  0.120784       0.0  0.963740   \n",
       "2         198  0.139448       0.0  0.976546   \n",
       "1      GENDER  0.141441       0.0 -0.950229   \n",
       "0         AGE  0.859904       0.0  0.970001   \n",
       "\n",
       "                                                 Sign  \n",
       "31  [0.4980392156862745, 0.15294117647058825, 0.01...  \n",
       "30  [0.03137254901960784, 0.2697545159796202, 0.54...  \n",
       "29  [0.03137254901960784, 0.23714682723483094, 0.4...  \n",
       "28  [0.03137254901960784, 0.22899490504863362, 0.4...  \n",
       "27  [0.03137254901960784, 0.25345067160722556, 0.5...  \n",
       "26  [0.03137254901960784, 0.2616025937934229, 0.52...  \n",
       "25  [0.9921568627450981, 0.7379959857958932, 0.509...  \n",
       "24  [0.03137254901960784, 0.22899490504863362, 0.4...  \n",
       "23  [0.03137254901960784, 0.24529874942102825, 0.5...  \n",
       "22  [0.03137254901960784, 0.23714682723483094, 0.4...  \n",
       "21  [0.03137254901960784, 0.2616025937934229, 0.52...  \n",
       "20  [0.03137254901960784, 0.24529874942102825, 0.5...  \n",
       "19  [0.03137254901960784, 0.2208429828624363, 0.46...  \n",
       "18  [0.03137254901960784, 0.2779064381658176, 0.55...  \n",
       "17  [0.6136482939632546, 0.19740620657711905, 0.01...  \n",
       "16  [0.03137254901960784, 0.22899490504863362, 0.4...  \n",
       "15  [0.03137254901960784, 0.23714682723483094, 0.4...  \n",
       "14  [0.5751119345375946, 0.18258452987494211, 0.01...  \n",
       "13  [0.5558437548247646, 0.17517369152385365, 0.01...  \n",
       "12  [0.03137254901960784, 0.2208429828624363, 0.46...  \n",
       "11  [0.03137254901960784, 0.29421028253821213, 0.5...  \n",
       "10  [0.03137254901960784, 0.25345067160722556, 0.5...  \n",
       "9   [0.03137254901960784, 0.24529874942102825, 0.5...  \n",
       "8   [0.03137254901960784, 0.29421028253821213, 0.5...  \n",
       "7   [0.03137254901960784, 0.23714682723483094, 0.4...  \n",
       "6   [0.9788173537131388, 0.5129226493747105, 0.189...  \n",
       "5   [0.9921568627450981, 0.6711440481704493, 0.403...  \n",
       "4   [0.03137254901960784, 0.22899490504863362, 0.4...  \n",
       "3   [0.03137254901960784, 0.2208429828624363, 0.46...  \n",
       "2   [0.03137254901960784, 0.212691060676239, 0.455...  \n",
       "1   [0.5558437548247646, 0.17517369152385365, 0.01...  \n",
       "0   [0.03137254901960784, 0.212691060676239, 0.455...  "
      ]
     },
     "execution_count": 26,
     "metadata": {},
     "output_type": "execute_result"
    },
    {
     "data": {
      "image/png": "[encoded data removed]",
      "text/plain": [
       "<Figure size 800x1000 with 1 Axes>"
      ]
     },
     "metadata": {},
     "output_type": "display_data"
    },
    {
     "data": {
      "image/png": "[encoded data removed]",
      "text/plain": [
       "<Figure size 20x1500 with 1 Axes>"
      ]
     },
     "metadata": {},
     "output_type": "display_data"
    }
   ],
   "source": [
    "## feature importance plot\n",
    "\n",
    "viridis = cm.get_cmap('viridis', 256)\n",
    "top = cm.get_cmap('Oranges_r', 128)\n",
    "bottom = cm.get_cmap('Blues', 128)\n",
    "newcolors = np.vstack((top(np.linspace(0, 1, 128)), bottom(np.linspace(0, 1, 128))))\n",
    "newcmp = ListedColormap(newcolors, name='OrangeBlue')\n",
    "\n",
    "def ABS_SHAP(feature_importance_value, correlation_coeff_value, top, colors):\n",
    "\n",
    "    correlation_coeff_value_ = {}\n",
    "    for key, value in correlation_coeff_value.items():\n",
    "        correlation_coeff_value_[key] = np.mean(value)\n",
    "    corr_df = pd.DataFrame.from_dict(correlation_coeff_value_, orient='index').fillna(0)\n",
    "    corr_df.reset_index(inplace=True)\n",
    "    corr_df.columns  = ['Variable','Corr']\n",
    "    color_assigned = []\n",
    "    for corr in list(corr_df['Corr']):\n",
    "        if not np.isnan(corr):\n",
    "            color_assigned.append(colors[int((corr+1)/2 * len(colors))])\n",
    "        else:\n",
    "            color_assigned.append([1,1,1,1])\n",
    "    corr_df['Sign'] = color_assigned\n",
    "\n",
    "    feature_importance_value_ = {}\n",
    "    feature_importance_value_std = {}\n",
    "    for key, value in feature_importance_value.items():\n",
    "        feature_importance_value_[key] = np.mean(value)\n",
    "        feature_importance_value_std[key] = np.std(value)\n",
    "\n",
    "    feature_importance_std_df = pd.DataFrame.from_dict(feature_importance_value_std, orient='index').fillna(0)\n",
    "    feature_importance_std_df.reset_index(inplace=True)\n",
    "    feature_importance_std_df.columns = ['Variable','SHAP_std']\n",
    "\n",
    "    feature_importance_df = pd.DataFrame.from_dict(feature_importance_value_, orient='index').fillna(0)\n",
    "    feature_importance_df.reset_index(inplace=True)\n",
    "    feature_importance_df.columns = ['Variable','SHAP_abs']\n",
    "\n",
    "    feature_importance_df = feature_importance_df.merge(feature_importance_std_df, left_on='Variable',right_on='Variable',how='inner')\n",
    "\n",
    "    k2 = feature_importance_df.merge(corr_df,left_on = 'Variable',right_on='Variable',how='inner')\n",
    "    k2 = k2.sort_values(by='SHAP_abs',ascending = False).head(top).iloc[::-1]\n",
    "    print(list(k2['Variable']))\n",
    "    colorlist = k2['Sign']\n",
    "    ax = k2.plot.barh(x='Variable',y='SHAP_abs',color = colorlist, figsize=(8,10),legend=False, xerr='SHAP_std', edgecolor='black')\n",
    "    ax.set_xlabel(\"Feature contribution [SHAP Values].\")\n",
    "    ax.set_ylabel(\"Factors\")\n",
    "    \n",
    "    ax.spines['top'].set_visible(False)\n",
    "    ax.spines['right'].set_visible(False)\n",
    "    ax.spines['bottom'].set_visible(False)\n",
    "    ax.spines['left'].set_visible(False)\n",
    "    ax.xaxis.grid(color='gray', linestyle='-.', linewidth=0.5)\n",
    "#     plt.savefig('feature_imp_0.png', dpi=300) \n",
    "#     plt.savefig('feature_imp_0.png', dpi=300, bbox_inches='tight')\n",
    "\n",
    "    fig, aaxx = plt.subplots(figsize=(0.2, 15))\n",
    "    fig.subplots_adjust(bottom=0.5)\n",
    "    cmap = matplotlib.colors.ListedColormap(colors)\n",
    "    norm = matplotlib.colors.Normalize(vmin=-1, vmax=1)\n",
    "    cb1 = matplotlib.colorbar.ColorbarBase(aaxx, cmap=cmap,\n",
    "                                norm=norm, orientation='vertical')\n",
    "#     plt.savefig('feature_imp_1.png', dpi=300, bbox_inches='tight')\n",
    "    \n",
    "    return k2\n",
    "\n",
    "ABS_SHAP(feature_importance_value, correlation_coeff_value, 32, newcolors) "
   ]
  },
  {
   "cell_type": "code",
   "execution_count": 27,
   "id": "1b24034b",
   "metadata": {},
   "outputs": [
    {
     "data": {
      "text/html": [
       "<div>\n",
       "<style scoped>\n",
       "    .dataframe tbody tr th:only-of-type {\n",
       "        vertical-align: middle;\n",
       "    }\n",
       "\n",
       "    .dataframe tbody tr th {\n",
       "        vertical-align: top;\n",
       "    }\n",
       "\n",
       "    .dataframe thead th {\n",
       "        text-align: right;\n",
       "    }\n",
       "</style>\n",
       "<table border=\"1\" class=\"dataframe\">\n",
       "  <thead>\n",
       "    <tr style=\"text-align: right;\">\n",
       "      <th></th>\n",
       "      <th>WHITE</th>\n",
       "      <th>BLACK</th>\n",
       "      <th>ASIAN</th>\n",
       "      <th>HISPANIC</th>\n",
       "      <th>UN</th>\n",
       "      <th>OTHER</th>\n",
       "      <th>DIE_1y</th>\n",
       "      <th>GENDER</th>\n",
       "      <th>008</th>\n",
       "      <th>008.5</th>\n",
       "      <th>...</th>\n",
       "      <th>985</th>\n",
       "      <th>987</th>\n",
       "      <th>988</th>\n",
       "      <th>989</th>\n",
       "      <th>990</th>\n",
       "      <th>994</th>\n",
       "      <th>AGE</th>\n",
       "      <th>BMI</th>\n",
       "      <th>DIASTOLIC</th>\n",
       "      <th>SYSTOLIC</th>\n",
       "    </tr>\n",
       "  </thead>\n",
       "  <tbody>\n",
       "    <tr>\n",
       "      <th>0</th>\n",
       "      <td>1.0</td>\n",
       "      <td>0.0</td>\n",
       "      <td>0.0</td>\n",
       "      <td>0.0</td>\n",
       "      <td>0.0</td>\n",
       "      <td>0.0</td>\n",
       "      <td>1.0</td>\n",
       "      <td>1.0</td>\n",
       "      <td>0.0</td>\n",
       "      <td>0.0</td>\n",
       "      <td>...</td>\n",
       "      <td>0.0</td>\n",
       "      <td>0.0</td>\n",
       "      <td>0.0</td>\n",
       "      <td>0.0</td>\n",
       "      <td>0.0</td>\n",
       "      <td>0.0</td>\n",
       "      <td>53.0</td>\n",
       "      <td>24.7</td>\n",
       "      <td>78.0</td>\n",
       "      <td>114.0</td>\n",
       "    </tr>\n",
       "    <tr>\n",
       "      <th>1</th>\n",
       "      <td>0.0</td>\n",
       "      <td>1.0</td>\n",
       "      <td>0.0</td>\n",
       "      <td>0.0</td>\n",
       "      <td>0.0</td>\n",
       "      <td>0.0</td>\n",
       "      <td>0.0</td>\n",
       "      <td>1.0</td>\n",
       "      <td>0.0</td>\n",
       "      <td>0.0</td>\n",
       "      <td>...</td>\n",
       "      <td>0.0</td>\n",
       "      <td>0.0</td>\n",
       "      <td>0.0</td>\n",
       "      <td>0.0</td>\n",
       "      <td>0.0</td>\n",
       "      <td>0.0</td>\n",
       "      <td>50.0</td>\n",
       "      <td>33.5</td>\n",
       "      <td>85.0</td>\n",
       "      <td>118.0</td>\n",
       "    </tr>\n",
       "    <tr>\n",
       "      <th>2</th>\n",
       "      <td>1.0</td>\n",
       "      <td>0.0</td>\n",
       "      <td>0.0</td>\n",
       "      <td>0.0</td>\n",
       "      <td>0.0</td>\n",
       "      <td>0.0</td>\n",
       "      <td>0.0</td>\n",
       "      <td>0.0</td>\n",
       "      <td>0.0</td>\n",
       "      <td>0.0</td>\n",
       "      <td>...</td>\n",
       "      <td>0.0</td>\n",
       "      <td>0.0</td>\n",
       "      <td>0.0</td>\n",
       "      <td>0.0</td>\n",
       "      <td>0.0</td>\n",
       "      <td>0.0</td>\n",
       "      <td>62.0</td>\n",
       "      <td>25.1</td>\n",
       "      <td>66.0</td>\n",
       "      <td>138.0</td>\n",
       "    </tr>\n",
       "    <tr>\n",
       "      <th>3</th>\n",
       "      <td>1.0</td>\n",
       "      <td>0.0</td>\n",
       "      <td>0.0</td>\n",
       "      <td>0.0</td>\n",
       "      <td>0.0</td>\n",
       "      <td>0.0</td>\n",
       "      <td>1.0</td>\n",
       "      <td>0.0</td>\n",
       "      <td>1.0</td>\n",
       "      <td>0.0</td>\n",
       "      <td>...</td>\n",
       "      <td>0.0</td>\n",
       "      <td>0.0</td>\n",
       "      <td>0.0</td>\n",
       "      <td>0.0</td>\n",
       "      <td>0.0</td>\n",
       "      <td>0.0</td>\n",
       "      <td>64.0</td>\n",
       "      <td>26.5</td>\n",
       "      <td>81.0</td>\n",
       "      <td>158.0</td>\n",
       "    </tr>\n",
       "    <tr>\n",
       "      <th>4</th>\n",
       "      <td>1.0</td>\n",
       "      <td>0.0</td>\n",
       "      <td>0.0</td>\n",
       "      <td>0.0</td>\n",
       "      <td>0.0</td>\n",
       "      <td>0.0</td>\n",
       "      <td>0.0</td>\n",
       "      <td>1.0</td>\n",
       "      <td>0.0</td>\n",
       "      <td>0.0</td>\n",
       "      <td>...</td>\n",
       "      <td>0.0</td>\n",
       "      <td>0.0</td>\n",
       "      <td>0.0</td>\n",
       "      <td>0.0</td>\n",
       "      <td>0.0</td>\n",
       "      <td>0.0</td>\n",
       "      <td>21.0</td>\n",
       "      <td>26.1</td>\n",
       "      <td>70.0</td>\n",
       "      <td>106.0</td>\n",
       "    </tr>\n",
       "    <tr>\n",
       "      <th>...</th>\n",
       "      <td>...</td>\n",
       "      <td>...</td>\n",
       "      <td>...</td>\n",
       "      <td>...</td>\n",
       "      <td>...</td>\n",
       "      <td>...</td>\n",
       "      <td>...</td>\n",
       "      <td>...</td>\n",
       "      <td>...</td>\n",
       "      <td>...</td>\n",
       "      <td>...</td>\n",
       "      <td>...</td>\n",
       "      <td>...</td>\n",
       "      <td>...</td>\n",
       "      <td>...</td>\n",
       "      <td>...</td>\n",
       "      <td>...</td>\n",
       "      <td>...</td>\n",
       "      <td>...</td>\n",
       "      <td>...</td>\n",
       "      <td>...</td>\n",
       "    </tr>\n",
       "    <tr>\n",
       "      <th>54219</th>\n",
       "      <td>1.0</td>\n",
       "      <td>0.0</td>\n",
       "      <td>0.0</td>\n",
       "      <td>0.0</td>\n",
       "      <td>0.0</td>\n",
       "      <td>0.0</td>\n",
       "      <td>0.0</td>\n",
       "      <td>1.0</td>\n",
       "      <td>0.0</td>\n",
       "      <td>0.0</td>\n",
       "      <td>...</td>\n",
       "      <td>0.0</td>\n",
       "      <td>0.0</td>\n",
       "      <td>0.0</td>\n",
       "      <td>0.0</td>\n",
       "      <td>0.0</td>\n",
       "      <td>0.0</td>\n",
       "      <td>46.0</td>\n",
       "      <td>20.5</td>\n",
       "      <td>84.0</td>\n",
       "      <td>132.0</td>\n",
       "    </tr>\n",
       "    <tr>\n",
       "      <th>54220</th>\n",
       "      <td>0.0</td>\n",
       "      <td>0.0</td>\n",
       "      <td>0.0</td>\n",
       "      <td>0.0</td>\n",
       "      <td>0.0</td>\n",
       "      <td>1.0</td>\n",
       "      <td>0.0</td>\n",
       "      <td>1.0</td>\n",
       "      <td>0.0</td>\n",
       "      <td>0.0</td>\n",
       "      <td>...</td>\n",
       "      <td>0.0</td>\n",
       "      <td>0.0</td>\n",
       "      <td>0.0</td>\n",
       "      <td>0.0</td>\n",
       "      <td>0.0</td>\n",
       "      <td>0.0</td>\n",
       "      <td>28.0</td>\n",
       "      <td>23.3</td>\n",
       "      <td>63.0</td>\n",
       "      <td>110.0</td>\n",
       "    </tr>\n",
       "    <tr>\n",
       "      <th>54221</th>\n",
       "      <td>1.0</td>\n",
       "      <td>0.0</td>\n",
       "      <td>0.0</td>\n",
       "      <td>0.0</td>\n",
       "      <td>0.0</td>\n",
       "      <td>0.0</td>\n",
       "      <td>0.0</td>\n",
       "      <td>0.0</td>\n",
       "      <td>0.0</td>\n",
       "      <td>0.0</td>\n",
       "      <td>...</td>\n",
       "      <td>0.0</td>\n",
       "      <td>0.0</td>\n",
       "      <td>0.0</td>\n",
       "      <td>0.0</td>\n",
       "      <td>0.0</td>\n",
       "      <td>0.0</td>\n",
       "      <td>86.0</td>\n",
       "      <td>23.5</td>\n",
       "      <td>74.0</td>\n",
       "      <td>126.0</td>\n",
       "    </tr>\n",
       "    <tr>\n",
       "      <th>54222</th>\n",
       "      <td>0.0</td>\n",
       "      <td>0.0</td>\n",
       "      <td>0.0</td>\n",
       "      <td>0.0</td>\n",
       "      <td>1.0</td>\n",
       "      <td>0.0</td>\n",
       "      <td>0.0</td>\n",
       "      <td>1.0</td>\n",
       "      <td>1.0</td>\n",
       "      <td>0.0</td>\n",
       "      <td>...</td>\n",
       "      <td>0.0</td>\n",
       "      <td>0.0</td>\n",
       "      <td>0.0</td>\n",
       "      <td>0.0</td>\n",
       "      <td>0.0</td>\n",
       "      <td>0.0</td>\n",
       "      <td>67.0</td>\n",
       "      <td>27.7</td>\n",
       "      <td>79.0</td>\n",
       "      <td>120.0</td>\n",
       "    </tr>\n",
       "    <tr>\n",
       "      <th>54223</th>\n",
       "      <td>1.0</td>\n",
       "      <td>0.0</td>\n",
       "      <td>0.0</td>\n",
       "      <td>0.0</td>\n",
       "      <td>0.0</td>\n",
       "      <td>0.0</td>\n",
       "      <td>0.0</td>\n",
       "      <td>1.0</td>\n",
       "      <td>0.0</td>\n",
       "      <td>0.0</td>\n",
       "      <td>...</td>\n",
       "      <td>0.0</td>\n",
       "      <td>0.0</td>\n",
       "      <td>0.0</td>\n",
       "      <td>0.0</td>\n",
       "      <td>0.0</td>\n",
       "      <td>0.0</td>\n",
       "      <td>83.0</td>\n",
       "      <td>38.0</td>\n",
       "      <td>64.0</td>\n",
       "      <td>138.0</td>\n",
       "    </tr>\n",
       "  </tbody>\n",
       "</table>\n",
       "<p>54224 rows × 1460 columns</p>\n",
       "</div>"
      ],
      "text/plain": [
       "       WHITE  BLACK  ASIAN  HISPANIC   UN  OTHER  DIE_1y  GENDER  008  008.5  \\\n",
       "0        1.0    0.0    0.0       0.0  0.0    0.0     1.0     1.0  0.0    0.0   \n",
       "1        0.0    1.0    0.0       0.0  0.0    0.0     0.0     1.0  0.0    0.0   \n",
       "2        1.0    0.0    0.0       0.0  0.0    0.0     0.0     0.0  0.0    0.0   \n",
       "3        1.0    0.0    0.0       0.0  0.0    0.0     1.0     0.0  1.0    0.0   \n",
       "4        1.0    0.0    0.0       0.0  0.0    0.0     0.0     1.0  0.0    0.0   \n",
       "...      ...    ...    ...       ...  ...    ...     ...     ...  ...    ...   \n",
       "54219    1.0    0.0    0.0       0.0  0.0    0.0     0.0     1.0  0.0    0.0   \n",
       "54220    0.0    0.0    0.0       0.0  0.0    1.0     0.0     1.0  0.0    0.0   \n",
       "54221    1.0    0.0    0.0       0.0  0.0    0.0     0.0     0.0  0.0    0.0   \n",
       "54222    0.0    0.0    0.0       0.0  1.0    0.0     0.0     1.0  1.0    0.0   \n",
       "54223    1.0    0.0    0.0       0.0  0.0    0.0     0.0     1.0  0.0    0.0   \n",
       "\n",
       "       ...  985  987  988  989  990  994   AGE   BMI  DIASTOLIC  SYSTOLIC  \n",
       "0      ...  0.0  0.0  0.0  0.0  0.0  0.0  53.0  24.7       78.0     114.0  \n",
       "1      ...  0.0  0.0  0.0  0.0  0.0  0.0  50.0  33.5       85.0     118.0  \n",
       "2      ...  0.0  0.0  0.0  0.0  0.0  0.0  62.0  25.1       66.0     138.0  \n",
       "3      ...  0.0  0.0  0.0  0.0  0.0  0.0  64.0  26.5       81.0     158.0  \n",
       "4      ...  0.0  0.0  0.0  0.0  0.0  0.0  21.0  26.1       70.0     106.0  \n",
       "...    ...  ...  ...  ...  ...  ...  ...   ...   ...        ...       ...  \n",
       "54219  ...  0.0  0.0  0.0  0.0  0.0  0.0  46.0  20.5       84.0     132.0  \n",
       "54220  ...  0.0  0.0  0.0  0.0  0.0  0.0  28.0  23.3       63.0     110.0  \n",
       "54221  ...  0.0  0.0  0.0  0.0  0.0  0.0  86.0  23.5       74.0     126.0  \n",
       "54222  ...  0.0  0.0  0.0  0.0  0.0  0.0  67.0  27.7       79.0     120.0  \n",
       "54223  ...  0.0  0.0  0.0  0.0  0.0  0.0  83.0  38.0       64.0     138.0  \n",
       "\n",
       "[54224 rows x 1460 columns]"
      ]
     },
     "execution_count": 27,
     "metadata": {},
     "output_type": "execute_result"
    }
   ],
   "source": [
    "pd.read_csv('/data/chao/syn_mimic/preprocessing/original_testing_data.csv')"
   ]
  },
  {
   "cell_type": "code",
   "execution_count": 28,
   "id": "33d47ccd",
   "metadata": {
    "scrolled": true
   },
   "outputs": [
    {
     "name": "stderr",
     "output_type": "stream",
     "text": [
      "`np.float` is a deprecated alias for the builtin `float`. To silence this warning, use `float` by itself. Doing this will not modify any behavior and is safe. If you specifically wanted the numpy scalar type, use `np.float64` here.\n",
      "Deprecated in NumPy 1.20; for more details and guidance: https://numpy.org/devdocs/release/1.20.0-notes.html#deprecations\n",
      "`np.float` is a deprecated alias for the builtin `float`. To silence this warning, use `float` by itself. Doing this will not modify any behavior and is safe. If you specifically wanted the numpy scalar type, use `np.float64` here.\n",
      "Deprecated in NumPy 1.20; for more details and guidance: https://numpy.org/devdocs/release/1.20.0-notes.html#deprecations\n"
     ]
    },
    {
     "name": "stdout",
     "output_type": "stream",
     "text": [
      "\n",
      "The number of records in evaluation (real) data is: 54224\n",
      "The number of features in training (real) data is: 1453\n",
      "Positive vs Negative ratio in evaluation (real) data is: 0.113806\n",
      "\n",
      "   !!!!!!!!!!!!!!!!!!! training is starting !!!!!!!!!!!!!!!!!!! \n",
      "\n",
      " ######## Syn dataset 1 ######## \n"
     ]
    },
    {
     "name": "stderr",
     "output_type": "stream",
     "text": [
      "`np.float` is a deprecated alias for the builtin `float`. To silence this warning, use `float` by itself. Doing this will not modify any behavior and is safe. If you specifically wanted the numpy scalar type, use `np.float64` here.\n",
      "Deprecated in NumPy 1.20; for more details and guidance: https://numpy.org/devdocs/release/1.20.0-notes.html#deprecations\n",
      "Found `num_boost_round` in params. Will use it instead of argument\n",
      "categorical_feature keyword has been found in `params` and will be ignored.\n",
      "Please use categorical_feature argument of the Dataset constructor to pass this parameter.\n"
     ]
    },
    {
     "name": "stdout",
     "output_type": "stream",
     "text": [
      "[LightGBM] [Warning] num_iterations is set=2000, num_boost_round=2000 will be ignored. Current value: num_iterations=2000\n"
     ]
    },
    {
     "name": "stderr",
     "output_type": "stream",
     "text": [
      "Found `num_boost_round` in params. Will use it instead of argument\n",
      "categorical_feature keyword has been found in `params` and will be ignored.\n",
      "Please use categorical_feature argument of the Dataset constructor to pass this parameter.\n"
     ]
    },
    {
     "name": "stdout",
     "output_type": "stream",
     "text": [
      "[LightGBM] [Warning] num_iterations is set=2000, num_boost_round=2000 will be ignored. Current value: num_iterations=2000\n"
     ]
    },
    {
     "name": "stderr",
     "output_type": "stream",
     "text": [
      "Found `num_boost_round` in params. Will use it instead of argument\n",
      "categorical_feature keyword has been found in `params` and will be ignored.\n",
      "Please use categorical_feature argument of the Dataset constructor to pass this parameter.\n"
     ]
    },
    {
     "name": "stdout",
     "output_type": "stream",
     "text": [
      "[LightGBM] [Warning] num_iterations is set=2000, num_boost_round=2000 will be ignored. Current value: num_iterations=2000\n"
     ]
    },
    {
     "name": "stderr",
     "output_type": "stream",
     "text": [
      "Found `num_boost_round` in params. Will use it instead of argument\n",
      "categorical_feature keyword has been found in `params` and will be ignored.\n",
      "Please use categorical_feature argument of the Dataset constructor to pass this parameter.\n"
     ]
    },
    {
     "name": "stdout",
     "output_type": "stream",
     "text": [
      "[LightGBM] [Warning] num_iterations is set=2000, num_boost_round=2000 will be ignored. Current value: num_iterations=2000\n"
     ]
    },
    {
     "name": "stderr",
     "output_type": "stream",
     "text": [
      "Found `num_boost_round` in params. Will use it instead of argument\n",
      "categorical_feature keyword has been found in `params` and will be ignored.\n",
      "Please use categorical_feature argument of the Dataset constructor to pass this parameter.\n"
     ]
    },
    {
     "name": "stdout",
     "output_type": "stream",
     "text": [
      "[LightGBM] [Warning] num_iterations is set=2000, num_boost_round=2000 will be ignored. Current value: num_iterations=2000\n"
     ]
    },
    {
     "name": "stderr",
     "output_type": "stream",
     "text": [
      "Found `num_boost_round` in params. Will use it instead of argument\n",
      "categorical_feature keyword has been found in `params` and will be ignored.\n",
      "Please use categorical_feature argument of the Dataset constructor to pass this parameter.\n"
     ]
    },
    {
     "name": "stdout",
     "output_type": "stream",
     "text": [
      "[LightGBM] [Warning] num_iterations is set=2000, num_boost_round=2000 will be ignored. Current value: num_iterations=2000\n",
      "Best parameters:\n",
      "\n",
      "{'colsample_bytree': 0.9, 'max_depth': 15, 'min_split_gain': 0.3, 'n_estimators': 500, 'num_leaves': 50, 'reg_alpha': 1.3, 'subsample': 0.9, 'subsample_freq': 40}\n",
      "Threshold for fixing recall as 0.60 is 0.3291\n",
      "      *** Test on real data AUROC: 0.9088, PRAUC: 0.5900, ACC: 0.8988, PPV: 0.5508, NPV: 0.9480, Sensitivity: 0.6001, Specificity: 0.9372\n"
     ]
    },
    {
     "name": "stderr",
     "output_type": "stream",
     "text": [
      "LightGBM binary classifier with TreeExplainer shap values output has changed to a list of ndarray\n"
     ]
    },
    {
     "name": "stdout",
     "output_type": "stream",
     "text": [
      "\n",
      " ######## Syn dataset 2 ######## \n"
     ]
    },
    {
     "name": "stderr",
     "output_type": "stream",
     "text": [
      "`np.float` is a deprecated alias for the builtin `float`. To silence this warning, use `float` by itself. Doing this will not modify any behavior and is safe. If you specifically wanted the numpy scalar type, use `np.float64` here.\n",
      "Deprecated in NumPy 1.20; for more details and guidance: https://numpy.org/devdocs/release/1.20.0-notes.html#deprecations\n",
      "Found `num_boost_round` in params. Will use it instead of argument\n",
      "categorical_feature keyword has been found in `params` and will be ignored.\n",
      "Please use categorical_feature argument of the Dataset constructor to pass this parameter.\n"
     ]
    },
    {
     "name": "stdout",
     "output_type": "stream",
     "text": [
      "[LightGBM] [Warning] num_iterations is set=2000, num_boost_round=2000 will be ignored. Current value: num_iterations=2000\n"
     ]
    },
    {
     "name": "stderr",
     "output_type": "stream",
     "text": [
      "Found `num_boost_round` in params. Will use it instead of argument\n",
      "categorical_feature keyword has been found in `params` and will be ignored.\n",
      "Please use categorical_feature argument of the Dataset constructor to pass this parameter.\n"
     ]
    },
    {
     "name": "stdout",
     "output_type": "stream",
     "text": [
      "[LightGBM] [Warning] num_iterations is set=2000, num_boost_round=2000 will be ignored. Current value: num_iterations=2000\n"
     ]
    },
    {
     "name": "stderr",
     "output_type": "stream",
     "text": [
      "Found `num_boost_round` in params. Will use it instead of argument\n",
      "categorical_feature keyword has been found in `params` and will be ignored.\n",
      "Please use categorical_feature argument of the Dataset constructor to pass this parameter.\n"
     ]
    },
    {
     "name": "stdout",
     "output_type": "stream",
     "text": [
      "[LightGBM] [Warning] num_iterations is set=2000, num_boost_round=2000 will be ignored. Current value: num_iterations=2000\n"
     ]
    },
    {
     "name": "stderr",
     "output_type": "stream",
     "text": [
      "Found `num_boost_round` in params. Will use it instead of argument\n",
      "categorical_feature keyword has been found in `params` and will be ignored.\n",
      "Please use categorical_feature argument of the Dataset constructor to pass this parameter.\n"
     ]
    },
    {
     "name": "stdout",
     "output_type": "stream",
     "text": [
      "[LightGBM] [Warning] num_iterations is set=2000, num_boost_round=2000 will be ignored. Current value: num_iterations=2000\n"
     ]
    },
    {
     "name": "stderr",
     "output_type": "stream",
     "text": [
      "Found `num_boost_round` in params. Will use it instead of argument\n",
      "categorical_feature keyword has been found in `params` and will be ignored.\n",
      "Please use categorical_feature argument of the Dataset constructor to pass this parameter.\n"
     ]
    },
    {
     "name": "stdout",
     "output_type": "stream",
     "text": [
      "[LightGBM] [Warning] num_iterations is set=2000, num_boost_round=2000 will be ignored. Current value: num_iterations=2000\n"
     ]
    },
    {
     "name": "stderr",
     "output_type": "stream",
     "text": [
      "Found `num_boost_round` in params. Will use it instead of argument\n",
      "categorical_feature keyword has been found in `params` and will be ignored.\n",
      "Please use categorical_feature argument of the Dataset constructor to pass this parameter.\n"
     ]
    },
    {
     "name": "stdout",
     "output_type": "stream",
     "text": [
      "[LightGBM] [Warning] num_iterations is set=2000, num_boost_round=2000 will be ignored. Current value: num_iterations=2000\n",
      "Best parameters:\n",
      "\n",
      "{'colsample_bytree': 0.9, 'max_depth': 15, 'min_split_gain': 0.3, 'n_estimators': 500, 'num_leaves': 50, 'reg_alpha': 1.3, 'subsample': 0.9, 'subsample_freq': 40}\n",
      "Threshold for fixing recall as 0.60 is 0.3605\n",
      "      *** Test on real data AUROC: 0.9112, PRAUC: 0.6003, ACC: 0.9023, PPV: 0.5670, NPV: 0.9483, Sensitivity: 0.6002, Specificity: 0.9411\n"
     ]
    },
    {
     "name": "stderr",
     "output_type": "stream",
     "text": [
      "LightGBM binary classifier with TreeExplainer shap values output has changed to a list of ndarray\n"
     ]
    },
    {
     "name": "stdout",
     "output_type": "stream",
     "text": [
      "\n",
      " ######## Syn dataset 3 ######## \n"
     ]
    },
    {
     "name": "stderr",
     "output_type": "stream",
     "text": [
      "`np.float` is a deprecated alias for the builtin `float`. To silence this warning, use `float` by itself. Doing this will not modify any behavior and is safe. If you specifically wanted the numpy scalar type, use `np.float64` here.\n",
      "Deprecated in NumPy 1.20; for more details and guidance: https://numpy.org/devdocs/release/1.20.0-notes.html#deprecations\n",
      "Found `num_boost_round` in params. Will use it instead of argument\n",
      "categorical_feature keyword has been found in `params` and will be ignored.\n",
      "Please use categorical_feature argument of the Dataset constructor to pass this parameter.\n"
     ]
    },
    {
     "name": "stdout",
     "output_type": "stream",
     "text": [
      "[LightGBM] [Warning] num_iterations is set=2000, num_boost_round=2000 will be ignored. Current value: num_iterations=2000\n"
     ]
    },
    {
     "name": "stderr",
     "output_type": "stream",
     "text": [
      "Found `num_boost_round` in params. Will use it instead of argument\n",
      "categorical_feature keyword has been found in `params` and will be ignored.\n",
      "Please use categorical_feature argument of the Dataset constructor to pass this parameter.\n"
     ]
    },
    {
     "name": "stdout",
     "output_type": "stream",
     "text": [
      "[LightGBM] [Warning] num_iterations is set=2000, num_boost_round=2000 will be ignored. Current value: num_iterations=2000\n"
     ]
    },
    {
     "name": "stderr",
     "output_type": "stream",
     "text": [
      "Found `num_boost_round` in params. Will use it instead of argument\n",
      "categorical_feature keyword has been found in `params` and will be ignored.\n",
      "Please use categorical_feature argument of the Dataset constructor to pass this parameter.\n"
     ]
    },
    {
     "name": "stdout",
     "output_type": "stream",
     "text": [
      "[LightGBM] [Warning] num_iterations is set=2000, num_boost_round=2000 will be ignored. Current value: num_iterations=2000\n"
     ]
    },
    {
     "name": "stderr",
     "output_type": "stream",
     "text": [
      "Found `num_boost_round` in params. Will use it instead of argument\n",
      "categorical_feature keyword has been found in `params` and will be ignored.\n",
      "Please use categorical_feature argument of the Dataset constructor to pass this parameter.\n"
     ]
    },
    {
     "name": "stdout",
     "output_type": "stream",
     "text": [
      "[LightGBM] [Warning] num_iterations is set=2000, num_boost_round=2000 will be ignored. Current value: num_iterations=2000\n"
     ]
    },
    {
     "name": "stderr",
     "output_type": "stream",
     "text": [
      "Found `num_boost_round` in params. Will use it instead of argument\n",
      "categorical_feature keyword has been found in `params` and will be ignored.\n",
      "Please use categorical_feature argument of the Dataset constructor to pass this parameter.\n"
     ]
    },
    {
     "name": "stdout",
     "output_type": "stream",
     "text": [
      "[LightGBM] [Warning] num_iterations is set=2000, num_boost_round=2000 will be ignored. Current value: num_iterations=2000\n"
     ]
    },
    {
     "name": "stderr",
     "output_type": "stream",
     "text": [
      "Found `num_boost_round` in params. Will use it instead of argument\n",
      "categorical_feature keyword has been found in `params` and will be ignored.\n",
      "Please use categorical_feature argument of the Dataset constructor to pass this parameter.\n"
     ]
    },
    {
     "name": "stdout",
     "output_type": "stream",
     "text": [
      "[LightGBM] [Warning] num_iterations is set=2000, num_boost_round=2000 will be ignored. Current value: num_iterations=2000\n",
      "Best parameters:\n",
      "\n",
      "{'colsample_bytree': 0.9, 'max_depth': 15, 'min_split_gain': 0.3, 'n_estimators': 500, 'num_leaves': 50, 'reg_alpha': 1.3, 'subsample': 0.9, 'subsample_freq': 40}\n",
      "Threshold for fixing recall as 0.60 is 0.3318\n",
      "      *** Test on real data AUROC: 0.9087, PRAUC: 0.5909, ACC: 0.8999, PPV: 0.5557, NPV: 0.9481, Sensitivity: 0.6002, Specificity: 0.9384\n"
     ]
    },
    {
     "name": "stderr",
     "output_type": "stream",
     "text": [
      "LightGBM binary classifier with TreeExplainer shap values output has changed to a list of ndarray\n"
     ]
    },
    {
     "name": "stdout",
     "output_type": "stream",
     "text": [
      "\n",
      " ######## Syn dataset 4 ######## \n"
     ]
    },
    {
     "name": "stderr",
     "output_type": "stream",
     "text": [
      "`np.float` is a deprecated alias for the builtin `float`. To silence this warning, use `float` by itself. Doing this will not modify any behavior and is safe. If you specifically wanted the numpy scalar type, use `np.float64` here.\n",
      "Deprecated in NumPy 1.20; for more details and guidance: https://numpy.org/devdocs/release/1.20.0-notes.html#deprecations\n",
      "Found `num_boost_round` in params. Will use it instead of argument\n",
      "categorical_feature keyword has been found in `params` and will be ignored.\n",
      "Please use categorical_feature argument of the Dataset constructor to pass this parameter.\n"
     ]
    },
    {
     "name": "stdout",
     "output_type": "stream",
     "text": [
      "[LightGBM] [Warning] num_iterations is set=2000, num_boost_round=2000 will be ignored. Current value: num_iterations=2000\n"
     ]
    },
    {
     "name": "stderr",
     "output_type": "stream",
     "text": [
      "Found `num_boost_round` in params. Will use it instead of argument\n",
      "categorical_feature keyword has been found in `params` and will be ignored.\n",
      "Please use categorical_feature argument of the Dataset constructor to pass this parameter.\n"
     ]
    },
    {
     "name": "stdout",
     "output_type": "stream",
     "text": [
      "[LightGBM] [Warning] num_iterations is set=2000, num_boost_round=2000 will be ignored. Current value: num_iterations=2000\n"
     ]
    },
    {
     "name": "stderr",
     "output_type": "stream",
     "text": [
      "Found `num_boost_round` in params. Will use it instead of argument\n",
      "categorical_feature keyword has been found in `params` and will be ignored.\n",
      "Please use categorical_feature argument of the Dataset constructor to pass this parameter.\n"
     ]
    },
    {
     "name": "stdout",
     "output_type": "stream",
     "text": [
      "[LightGBM] [Warning] num_iterations is set=2000, num_boost_round=2000 will be ignored. Current value: num_iterations=2000\n"
     ]
    },
    {
     "name": "stderr",
     "output_type": "stream",
     "text": [
      "Found `num_boost_round` in params. Will use it instead of argument\n",
      "categorical_feature keyword has been found in `params` and will be ignored.\n",
      "Please use categorical_feature argument of the Dataset constructor to pass this parameter.\n"
     ]
    },
    {
     "name": "stdout",
     "output_type": "stream",
     "text": [
      "[LightGBM] [Warning] num_iterations is set=2000, num_boost_round=2000 will be ignored. Current value: num_iterations=2000\n"
     ]
    },
    {
     "name": "stderr",
     "output_type": "stream",
     "text": [
      "Found `num_boost_round` in params. Will use it instead of argument\n",
      "categorical_feature keyword has been found in `params` and will be ignored.\n",
      "Please use categorical_feature argument of the Dataset constructor to pass this parameter.\n"
     ]
    },
    {
     "name": "stdout",
     "output_type": "stream",
     "text": [
      "[LightGBM] [Warning] num_iterations is set=2000, num_boost_round=2000 will be ignored. Current value: num_iterations=2000\n"
     ]
    },
    {
     "name": "stderr",
     "output_type": "stream",
     "text": [
      "Found `num_boost_round` in params. Will use it instead of argument\n",
      "categorical_feature keyword has been found in `params` and will be ignored.\n",
      "Please use categorical_feature argument of the Dataset constructor to pass this parameter.\n"
     ]
    },
    {
     "name": "stdout",
     "output_type": "stream",
     "text": [
      "[LightGBM] [Warning] num_iterations is set=2000, num_boost_round=2000 will be ignored. Current value: num_iterations=2000\n",
      "Best parameters:\n",
      "\n",
      "{'colsample_bytree': 0.9, 'max_depth': 15, 'min_split_gain': 0.3, 'n_estimators': 500, 'num_leaves': 50, 'reg_alpha': 1.3, 'subsample': 0.9, 'subsample_freq': 40}\n",
      "Threshold for fixing recall as 0.60 is 0.2881\n",
      "      *** Test on real data AUROC: 0.9019, PRAUC: 0.5774, ACC: 0.8964, PPV: 0.5402, NPV: 0.9479, Sensitivity: 0.6002, Specificity: 0.9344\n"
     ]
    },
    {
     "name": "stderr",
     "output_type": "stream",
     "text": [
      "LightGBM binary classifier with TreeExplainer shap values output has changed to a list of ndarray\n"
     ]
    },
    {
     "name": "stdout",
     "output_type": "stream",
     "text": [
      "\n",
      " ######## Syn dataset 5 ######## \n"
     ]
    },
    {
     "name": "stderr",
     "output_type": "stream",
     "text": [
      "`np.float` is a deprecated alias for the builtin `float`. To silence this warning, use `float` by itself. Doing this will not modify any behavior and is safe. If you specifically wanted the numpy scalar type, use `np.float64` here.\n",
      "Deprecated in NumPy 1.20; for more details and guidance: https://numpy.org/devdocs/release/1.20.0-notes.html#deprecations\n",
      "Found `num_boost_round` in params. Will use it instead of argument\n",
      "categorical_feature keyword has been found in `params` and will be ignored.\n",
      "Please use categorical_feature argument of the Dataset constructor to pass this parameter.\n"
     ]
    },
    {
     "name": "stdout",
     "output_type": "stream",
     "text": [
      "[LightGBM] [Warning] num_iterations is set=2000, num_boost_round=2000 will be ignored. Current value: num_iterations=2000\n"
     ]
    },
    {
     "name": "stderr",
     "output_type": "stream",
     "text": [
      "Found `num_boost_round` in params. Will use it instead of argument\n",
      "categorical_feature keyword has been found in `params` and will be ignored.\n",
      "Please use categorical_feature argument of the Dataset constructor to pass this parameter.\n"
     ]
    },
    {
     "name": "stdout",
     "output_type": "stream",
     "text": [
      "[LightGBM] [Warning] num_iterations is set=2000, num_boost_round=2000 will be ignored. Current value: num_iterations=2000\n"
     ]
    },
    {
     "name": "stderr",
     "output_type": "stream",
     "text": [
      "Found `num_boost_round` in params. Will use it instead of argument\n",
      "categorical_feature keyword has been found in `params` and will be ignored.\n",
      "Please use categorical_feature argument of the Dataset constructor to pass this parameter.\n"
     ]
    },
    {
     "name": "stdout",
     "output_type": "stream",
     "text": [
      "[LightGBM] [Warning] num_iterations is set=2000, num_boost_round=2000 will be ignored. Current value: num_iterations=2000\n"
     ]
    },
    {
     "name": "stderr",
     "output_type": "stream",
     "text": [
      "Found `num_boost_round` in params. Will use it instead of argument\n",
      "categorical_feature keyword has been found in `params` and will be ignored.\n",
      "Please use categorical_feature argument of the Dataset constructor to pass this parameter.\n"
     ]
    },
    {
     "name": "stdout",
     "output_type": "stream",
     "text": [
      "[LightGBM] [Warning] num_iterations is set=2000, num_boost_round=2000 will be ignored. Current value: num_iterations=2000\n"
     ]
    },
    {
     "name": "stderr",
     "output_type": "stream",
     "text": [
      "Found `num_boost_round` in params. Will use it instead of argument\n",
      "categorical_feature keyword has been found in `params` and will be ignored.\n",
      "Please use categorical_feature argument of the Dataset constructor to pass this parameter.\n"
     ]
    },
    {
     "name": "stdout",
     "output_type": "stream",
     "text": [
      "[LightGBM] [Warning] num_iterations is set=2000, num_boost_round=2000 will be ignored. Current value: num_iterations=2000\n"
     ]
    },
    {
     "name": "stderr",
     "output_type": "stream",
     "text": [
      "Found `num_boost_round` in params. Will use it instead of argument\n",
      "categorical_feature keyword has been found in `params` and will be ignored.\n",
      "Please use categorical_feature argument of the Dataset constructor to pass this parameter.\n"
     ]
    },
    {
     "name": "stdout",
     "output_type": "stream",
     "text": [
      "[LightGBM] [Warning] num_iterations is set=2000, num_boost_round=2000 will be ignored. Current value: num_iterations=2000\n",
      "Best parameters:\n",
      "\n",
      "{'colsample_bytree': 0.9, 'max_depth': 15, 'min_split_gain': 0.3, 'n_estimators': 500, 'num_leaves': 50, 'reg_alpha': 1.3, 'subsample': 0.9, 'subsample_freq': 40}\n",
      "Threshold for fixing recall as 0.60 is 0.3396\n",
      "      *** Test on real data AUROC: 0.9070, PRAUC: 0.5884, ACC: 0.8980, PPV: 0.5475, NPV: 0.9480, Sensitivity: 0.6001, Specificity: 0.9363\n"
     ]
    },
    {
     "name": "stderr",
     "output_type": "stream",
     "text": [
      "LightGBM binary classifier with TreeExplainer shap values output has changed to a list of ndarray\n"
     ]
    },
    {
     "name": "stdout",
     "output_type": "stream",
     "text": [
      "TSTR AUROC:  [0.9088399775509852, 0.9112225676327526, 0.9087195499710603, 0.9018799136073833, 0.9070287617218474]\n"
     ]
    }
   ],
   "source": [
    "## Train on synthetic dataset and test on real testing data set\n",
    "\n",
    "random.seed(a=2021, version=2)\n",
    "\n",
    "RECALL_THRESHOLD = 0.6  # hold this to compute other threshold related metrics\n",
    "LABEL_INDEX = 6  # label column index in the dataset\n",
    "RACE_COL = [0,1,2,3,4,5]\n",
    "COL_LIST = list(real_data_df.columns)[len(RACE_COL)+1:]\n",
    "CAT_IDX_wo_RACE_label = list(np.linspace(0, len(COL_LIST) - 5, num=len(COL_LIST) - 4).astype(int))\n",
    "## load the dataset for model evaluation. Here it is real data. 30%\n",
    "eval_real_data = pd.read_csv('/data/chao/syn_mimic/preprocessing/original_testing_data.csv').values.astype(np.float)\n",
    "eval_real_label = eval_real_data[:,LABEL_INDEX].astype(np.float)\n",
    "eval_real_data = np.delete(eval_real_data, RACE_COL + [LABEL_INDEX], axis=1)\n",
    "print('\\nThe number of records in evaluation (real) data is: %d' % len(eval_real_data))\n",
    "print('The number of features in training (real) data is: %d' % len(eval_real_data[0]))\n",
    "print('Positive vs Negative ratio in evaluation (real) data is: %f' % (np.sum(eval_real_label)/len(eval_real_label)))\n",
    "\n",
    "\n",
    "pred_result = []\n",
    "correlation_result = []\n",
    "\n",
    "real_auroc_result = []\n",
    "real_prauc_result = []\n",
    "real_acc_result = []\n",
    "real_ppv_result = []\n",
    "real_npv_result = []\n",
    "real_sens_result = []\n",
    "real_spes_result = []\n",
    "\n",
    "print('\\n   !!!!!!!!!!!!!!!!!!! training is starting !!!!!!!!!!!!!!!!!!! ')\n",
    "\n",
    "for run_ in range(len(model_id_list)):\n",
    "\n",
    "    run = run_ + 1\n",
    "    print('\\n ######## Syn dataset %d ######## ' % run)\n",
    "    syn_training_data = syn_data_list[run_]\n",
    "    random.seed(a=2021, version=2)\n",
    "    syn_training_data_index = np.linspace(0,len(syn_training_data)-1,len(syn_training_data)).astype('int')\n",
    "    random.shuffle(syn_training_data_index)\n",
    "    syn_training_data = syn_training_data[syn_training_data_index]\n",
    "    syn_training_data_label = syn_training_data[:,LABEL_INDEX].astype(np.float)\n",
    "    syn_training_data = np.delete(syn_training_data, [LABEL_INDEX]+RACE_COL, axis = 1)\n",
    "    \n",
    "    gkf = KFold(n_splits=5, shuffle=True, random_state=0).split(X=syn_training_data, y=syn_training_data_label)\n",
    "\n",
    "    param_grid = {\n",
    "            'n_estimators': [500],\n",
    "            'colsample_bytree': [0.9],\n",
    "            'max_depth': [15],\n",
    "            'num_leaves': [50],\n",
    "            'reg_alpha': [1.3],\n",
    "            'min_split_gain': [0.3],\n",
    "            'subsample': [0.9],\n",
    "            'subsample_freq': [40]\n",
    "            }\n",
    "\n",
    "    lgb_estimator = lgb.LGBMClassifier(boosting_type='gbdt',  objective='binary', num_boost_round=2000, learning_rate=0.01, metric='auc',categorical_feature=CAT_IDX_wo_RACE_label, n_jobs = 20)\n",
    "    gsearch = GridSearchCV(estimator=lgb_estimator, param_grid=param_grid, cv=gkf)\n",
    "    gbm = gsearch.fit(X=syn_training_data, y=syn_training_data_label)\n",
    "    print(\"Best parameters:\\n\")\n",
    "    print(gbm.best_params_)\n",
    "\n",
    "    y_scores = gbm.predict_proba(eval_real_data)\n",
    "    y_scores = y_scores[:,1]\n",
    "    tstr_auroc = roc_auc_score(y_score=y_scores, y_true=eval_real_label)\n",
    "    tstr_prauc = average_precision_score(eval_real_label, y_scores)\n",
    "    fpr, tpr, threshold_candidate = roc_curve(eval_real_label, y_scores)\n",
    "    thres_index = (tpr > RECALL_THRESHOLD).tolist().index(True)\n",
    "    thres = threshold_candidate[thres_index]\n",
    "    print(\"Threshold for fixing recall as %.2f is %.4f\" % (RECALL_THRESHOLD, thres))\n",
    "    pred_y = np.array([(value>=thres)*1.0 for value in y_scores])\n",
    "\n",
    "    tn, fp, fn, tp = confusion_matrix(eval_real_label, pred_y).ravel()\n",
    "    tstr_ppv = tp / (tp + fp)\n",
    "    tstr_npv = tn / (tn + fn)\n",
    "    tstr_sens = tp / (tp + fn)\n",
    "    tstr_spes = tn / (tn + fp)\n",
    "    tstr_acc = (tn + tp) / (tn + fp + fn + tp)\n",
    "    print(\"      *** Test on real data AUROC: %.4f, PRAUC: %.4f, ACC: %.4f, PPV: %.4f, NPV: %.4f, Sensitivity: %.4f, Specificity: %.4f\" % (\n",
    "    tstr_auroc, tstr_prauc, tstr_acc, tstr_ppv, tstr_npv, tstr_sens, tstr_spes))\n",
    "\n",
    "    real_auroc_result.append(tstr_auroc)\n",
    "    real_prauc_result.append(tstr_prauc)\n",
    "    real_acc_result.append(tstr_acc)\n",
    "    real_ppv_result.append(tstr_ppv)\n",
    "    real_npv_result.append(tstr_npv)\n",
    "    real_sens_result.append(tstr_sens)\n",
    "    real_spes_result.append(tstr_spes)\n",
    "\n",
    "    explainer = shap.TreeExplainer(gbm.best_estimator_)\n",
    "#         shap_value_list.extend(explainer.shap_values(eval_real_data)[1])\n",
    "    shap_df = pd.DataFrame(explainer.shap_values(eval_real_data)[1], columns = COL_LIST)\n",
    "    shap_df_abs = abs(shap_df)\n",
    "\n",
    "    feature_importance_mean = shap_df_abs.mean(axis=0).sort_values(ascending=False)\n",
    "    feature_importance_value = {}\n",
    "    for key, value in feature_importance_mean.items():\n",
    "        if key in feature_importance_value.keys():\n",
    "            feature_importance_value[key].append(value)\n",
    "        else:\n",
    "            feature_importance_value[key] = [value]\n",
    "            \n",
    "    np.save(f'./result/TSTR_feature_importance_run_{run}.npy', feature_importance_value)\n",
    "\n",
    "\n",
    "print('TSTR AUROC: ', real_auroc_result)\n",
    "utility_score['TSTR_auroc'] = real_auroc_result\n",
    "        \n"
   ]
  },
  {
   "cell_type": "code",
   "execution_count": 29,
   "id": "b0819102",
   "metadata": {},
   "outputs": [
    {
     "data": {
      "text/plain": [
       "{'AGE': [0.7898584848158935],\n",
       " '198': [0.12765535721165167],\n",
       " 'GENDER': [0.11572255899786049],\n",
       " '285': [0.11391160295629499],\n",
       " '585': [0.10934835762970473],\n",
       " '649': [0.0961225400232341],\n",
       " '428': [0.07658341201831274],\n",
       " '401.1': [0.07022735778694185],\n",
       " '272': [0.06779697756089471],\n",
       " '655': [0.06686195615753952],\n",
       " '496': [0.06226784440881796],\n",
       " '418': [0.055959132520212465],\n",
       " '272.1': [0.049419131914214084],\n",
       " '300': [0.04677147822427735],\n",
       " '480': [0.0441623469925429],\n",
       " 'DIASTOLIC': [0.04299587813792407],\n",
       " '707': [0.04274603939763557],\n",
       " '591': [0.04059909436112668],\n",
       " '348': [0.03720309180932708],\n",
       " '290': [0.03719343701393887],\n",
       " '509': [0.03548922892528432],\n",
       " '316': [0.03527110237700622],\n",
       " '290.1': [0.03524047547232238],\n",
       " '260': [0.03456582453164053],\n",
       " '278.1': [0.034217163862751004],\n",
       " '340': [0.034091913076503624],\n",
       " '1002': [0.0337487181328694],\n",
       " '296': [0.03238948131225675],\n",
       " 'SYSTOLIC': [0.03234363194733314],\n",
       " '276': [0.032271017008907874],\n",
       " '427': [0.031159931397379763],\n",
       " '428.2': [0.02817038300811238],\n",
       " '165': [0.027156127332970268],\n",
       " '681': [0.027045375478136128],\n",
       " '788': [0.026321384449193293],\n",
       " '747': [0.025610385302454786],\n",
       " '415': [0.024979585328378507],\n",
       " '646': [0.024458421526135157],\n",
       " '157': [0.024272496315151427],\n",
       " '317': [0.02388723359647611],\n",
       " 'BMI': [0.023576690528432056],\n",
       " '433': [0.023130999892425473],\n",
       " '411': [0.022802943768690125],\n",
       " '457': [0.022549134175341316],\n",
       " '339': [0.02221990698068124],\n",
       " '585.1': [0.022199465118339038],\n",
       " '278': [0.021892367247961002],\n",
       " '665': [0.021787038463395397],\n",
       " '292': [0.02166181375014242],\n",
       " '722': [0.021636225378253892],\n",
       " '349': [0.02155353695730307],\n",
       " '495': [0.021510438862152446],\n",
       " '563': [0.02135236187432992],\n",
       " '070': [0.021151909719579073],\n",
       " '594': [0.019021223484286382],\n",
       " '555': [0.018993685744668646],\n",
       " '532': [0.018499534125247904],\n",
       " '501': [0.01846319669782684],\n",
       " '195': [0.018448031479574255],\n",
       " '572': [0.018184864229540975],\n",
       " '574': [0.017944312318383372],\n",
       " '260.1': [0.017005476241823542],\n",
       " '290.3': [0.01676351903432868],\n",
       " '293': [0.016732489841289246],\n",
       " '198.4': [0.01589861114228129],\n",
       " '284': [0.015761093366172704],\n",
       " '202': [0.015415816888335782],\n",
       " '540': [0.015354589712688476],\n",
       " '327.3': [0.015282890621789513],\n",
       " '452': [0.015144993943526084],\n",
       " '509.1': [0.015101151187581076],\n",
       " '165.1': [0.015008740675189996],\n",
       " '770': [0.014753562448462423],\n",
       " '080': [0.01425596478126886],\n",
       " '079': [0.014093723686049782],\n",
       " '038': [0.014041058336883247],\n",
       " '850': [0.01378710602081305],\n",
       " '386.9': [0.01375022006168732],\n",
       " '871': [0.0133698285432957],\n",
       " '740.11': [0.013351874183339326],\n",
       " '537': [0.012973214916840836],\n",
       " '272.11': [0.0129097574836532],\n",
       " '306': [0.012273775506343508],\n",
       " '818': [0.011791188129644112],\n",
       " '564': [0.011720260982804242],\n",
       " '916': [0.011433256966145165],\n",
       " '653': [0.011329877694762985],\n",
       " '1004': [0.011243469925079198],\n",
       " '764': [0.011010007073688485],\n",
       " '250': [0.010872719703150787],\n",
       " '859': [0.01052568893256672],\n",
       " '963': [0.01033245852356197],\n",
       " '745': [0.010024973978245727],\n",
       " '291': [0.00994090165752618],\n",
       " '345': [0.009746380762392384],\n",
       " '348.2': [0.009713237768193302],\n",
       " '218': [0.009608127821284972],\n",
       " '785': [0.009446998884889474],\n",
       " '560.1': [0.009056737342682638],\n",
       " '565': [0.009052325630063661],\n",
       " '626': [0.009041191211996107],\n",
       " '198.6': [0.008998104942654975],\n",
       " '401': [0.008881838056027876],\n",
       " '198.3': [0.008782147021281403],\n",
       " '459': [0.008773791017487544],\n",
       " '155': [0.008747060596707075],\n",
       " '475': [0.008729703698968418],\n",
       " '318': [0.008673771538995081],\n",
       " '280': [0.008586262403576569],\n",
       " '559': [0.008566494106992817],\n",
       " '426': [0.00852114212842392],\n",
       " '447': [0.008504074540033558],\n",
       " '198.2': [0.008393123911806468],\n",
       " '313.1': [0.008180148259133083],\n",
       " '443': [0.008156340248401688],\n",
       " '562.1': [0.008133502664886763],\n",
       " '740': [0.00790159469724695],\n",
       " '766': [0.007801494532799391],\n",
       " '573.6': [0.007618775435815855],\n",
       " '571.5': [0.007591622844493091],\n",
       " '433.5': [0.007587064860556864],\n",
       " '443.9': [0.007523057994404146],\n",
       " '707.1': [0.007517694044223898],\n",
       " '276.12': [0.0074821401868157495],\n",
       " '348.9': [0.0074013117677546635],\n",
       " '295': [0.007381418595724807],\n",
       " '070.9': [0.0073110724633469485],\n",
       " '465': [0.00720844078516703],\n",
       " '696': [0.007162236472558543],\n",
       " '280.1': [0.007119194037324654],\n",
       " '575.2': [0.0068957385259465495],\n",
       " '198.1': [0.006764497388985591],\n",
       " '990': [0.006549642595153487],\n",
       " '136': [0.00647895962935108],\n",
       " '961.1': [0.006204418148143068],\n",
       " '578': [0.006186894692099213],\n",
       " '507': [0.006157111431151003],\n",
       " '429': [0.006129263101109995],\n",
       " '401.2': [0.006038088490920375],\n",
       " '577': [0.0059884684776041995],\n",
       " '191': [0.005925316125492026],\n",
       " '747.13': [0.005868521777763027],\n",
       " '958': [0.005866234956071081],\n",
       " '840': [0.005857450024335897],\n",
       " '276.11': [0.005807019084865584],\n",
       " '733': [0.005800270465210189],\n",
       " '580': [0.005766997546160208],\n",
       " '427.2': [0.005732062327810898],\n",
       " '800.3': [0.005724686988573471],\n",
       " '512': [0.0057138292831029214],\n",
       " '218.1': [0.005602710806040258],\n",
       " '595': [0.005557661097161624],\n",
       " '189': [0.005531079719054237],\n",
       " '260.6': [0.005509376738944211],\n",
       " '008': [0.0054885662307497685],\n",
       " '687.1': [0.005469347741577684],\n",
       " '315': [0.005436938081304374],\n",
       " '041.1': [0.0054307994760106355],\n",
       " '738': [0.005419043071784512],\n",
       " '427.3': [0.005418613732989576],\n",
       " '367': [0.005398530200843913],\n",
       " '276.13': [0.005393016578802716],\n",
       " '204': [0.005376063566210393],\n",
       " '851': [0.005371035695520521],\n",
       " '972': [0.0053238188358228815],\n",
       " '054': [0.0053039457218380095],\n",
       " '348.8': [0.005230423703026185],\n",
       " '530.11': [0.005223054146952852],\n",
       " '805': [0.0052149170904431785],\n",
       " '426.31': [0.005211904010685609],\n",
       " '297.2': [0.005159674051820988],\n",
       " '320': [0.005011680156946714],\n",
       " '477': [0.0049091024982314355],\n",
       " '286': [0.0048877373248064635],\n",
       " '535': [0.004881481882868018],\n",
       " '287': [0.004853241955102209],\n",
       " '539': [0.004835719164700001],\n",
       " '686.1': [0.004796252913885596],\n",
       " '502': [0.004785563034295906],\n",
       " '573': [0.004738455465057998],\n",
       " '261.4': [0.004734323271890191],\n",
       " '687.4': [0.004710088695283105],\n",
       " '729': [0.0046699732131519536],\n",
       " '573.5': [0.004617888062817206],\n",
       " '292.1': [0.004404311826156508],\n",
       " '389': [0.0043918635088115955],\n",
       " '817': [0.0043415453249310235],\n",
       " '802': [0.004325139703847025],\n",
       " '288': [0.004271765164243927],\n",
       " '281': [0.004248680965944138],\n",
       " '751': [0.004247813057307107],\n",
       " '596': [0.004135662355910072],\n",
       " '368': [0.0041057399881015075],\n",
       " '579': [0.0040971090869190265],\n",
       " '348.7': [0.004092657231521138],\n",
       " '295.1': [0.00407579900041919],\n",
       " '244': [0.00406691202658896],\n",
       " '275': [0.004056013590093411],\n",
       " '285.22': [0.004046342644696854],\n",
       " '555.1': [0.00400598153641847],\n",
       " '200': [0.004005971548121562],\n",
       " '289.4': [0.00396575477325994],\n",
       " '564.1': [0.003948180398566534],\n",
       " '969': [0.003935826672850258],\n",
       " '426.8': [0.003922719253067432],\n",
       " '450': [0.003875765725769467],\n",
       " '721.1': [0.003852417846970127],\n",
       " '327': [0.0038432688346989366],\n",
       " '590': [0.0038262636762681807],\n",
       " '366': [0.0038094745368837156],\n",
       " '425.1': [0.0037551829903970783],\n",
       " '555.2': [0.003699226463193048],\n",
       " '276.41': [0.003634975505946667],\n",
       " '195.1': [0.0035632120509614747],\n",
       " '433.21': [0.003549289696776646],\n",
       " '350': [0.003513096383678631],\n",
       " '386.2': [0.003453012879662486],\n",
       " '198.5': [0.0034471798457353874],\n",
       " '573.9': [0.0033536360327802205],\n",
       " '332': [0.003331957254797656],\n",
       " '800.2': [0.003321873323617804],\n",
       " '567': [0.0033175457101613645],\n",
       " '510': [0.003303483658403567],\n",
       " '830': [0.003267574403156415],\n",
       " '174': [0.00321712685582856],\n",
       " '962': [0.003204683722714864],\n",
       " '287.3': [0.0031896397053080864],\n",
       " '250.23': [0.0031511584147390025],\n",
       " '430.2': [0.003086578761049852],\n",
       " '577.2': [0.0030782845621045744],\n",
       " '789': [0.003044667020450204],\n",
       " '197': [0.002979722691863983],\n",
       " '726.1': [0.002932071013965585],\n",
       " '575.8': [0.002905939919783989],\n",
       " '696.4': [0.002904010968099809],\n",
       " '557.1': [0.0028790055328699648],\n",
       " '334': [0.002869392017611987],\n",
       " '915': [0.002798054350393426],\n",
       " '458.1': [0.00278460037034764],\n",
       " '512.9': [0.002783118163533279],\n",
       " '562': [0.002773662616916293],\n",
       " '427.8': [0.0027410169714334634],\n",
       " '627': [0.0027359292555180267],\n",
       " '795': [0.00271449086391087],\n",
       " '858': [0.0026834165652206443],\n",
       " '613': [0.002681727185993362],\n",
       " '291.8': [0.002672503840470556],\n",
       " '967': [0.002670397595833998],\n",
       " '870': [0.002664745526848233],\n",
       " '644': [0.0026269754019980513],\n",
       " '172': [0.002596131681247832],\n",
       " '112': [0.002595856810143672],\n",
       " '516': [0.002576488019238493],\n",
       " '573.2': [0.002567498692520529],\n",
       " '401.22': [0.0025363548724419397],\n",
       " '452.1': [0.002524025460412089],\n",
       " '783': [0.0025060325117585787],\n",
       " '286.4': [0.0024944613995547572],\n",
       " '1015': [0.0023894337823197652],\n",
       " '211': [0.0023138275953700207],\n",
       " '342': [0.0022982433416126108],\n",
       " '530': [0.002293152052573379],\n",
       " '506': [0.0022865244838550956],\n",
       " '579.8': [0.0022641187950395805],\n",
       " '274.1': [0.0022492923452266415],\n",
       " '800.1': [0.002245892670936138],\n",
       " '150': [0.0022184848807022682],\n",
       " '041.4': [0.0021578625956428627],\n",
       " '571.81': [0.0021295329667597967],\n",
       " '571.8': [0.002113435542001689],\n",
       " '151': [0.0020681305986007077],\n",
       " '282': [0.002067406343274331],\n",
       " '303': [0.002026690228258496],\n",
       " '281.9': [0.0020264161658941618],\n",
       " '801': [0.0019960110813574345],\n",
       " '781': [0.0019744677517486682],\n",
       " '1013': [0.0019657173230217535],\n",
       " '716.9': [0.0019542238531797956],\n",
       " '856': [0.0019468545029258314],\n",
       " '369': [0.001942331318117383],\n",
       " '241': [0.0019397158593895257],\n",
       " '440': [0.0019371559429154164],\n",
       " '442.1': [0.001915892400709976],\n",
       " '569': [0.0018791874662046244],\n",
       " '182': [0.0018664102983404513],\n",
       " '253.7': [0.0018440294080206445],\n",
       " '295.3': [0.001840781683296887],\n",
       " '351': [0.001827964532237953],\n",
       " '345.3': [0.001823494691691589],\n",
       " '974': [0.0018178445088356994],\n",
       " '368.4': [0.001804454394446237],\n",
       " '429.1': [0.0018016467900546403],\n",
       " '737.3': [0.0017928349071982418],\n",
       " '440.2': [0.0017148260519103428],\n",
       " '458': [0.0017090635713115573],\n",
       " '282.8': [0.0017060478093871285],\n",
       " '459.9': [0.0016810024492783949],\n",
       " '721': [0.001650947792658439],\n",
       " '356': [0.0016500054614024197],\n",
       " '250.24': [0.001644202360680621],\n",
       " '994': [0.0016374275441338266],\n",
       " '860': [0.0016306304946148355],\n",
       " '571': [0.00157815626847345],\n",
       " '589': [0.001562396167672651],\n",
       " '270.33': [0.0015593816506151873],\n",
       " '689': [0.0015534978874734823],\n",
       " '427.11': [0.0015157573192741125],\n",
       " '772.4': [0.0015134176272092572],\n",
       " '427.41': [0.001487981266391112],\n",
       " '443.1': [0.0014594906751285897],\n",
       " '425': [0.0014574550311879256],\n",
       " '496.21': [0.0014492996980784811],\n",
       " '503': [0.0013903845220710992],\n",
       " '411.4': [0.0013886000636018285],\n",
       " '350.2': [0.0013830585973091064],\n",
       " '750': [0.0013519988585081859],\n",
       " '857': [0.0013415102883501619],\n",
       " '155.1': [0.0013336421003119338],\n",
       " '420': [0.0013238456862728195],\n",
       " '427.9': [0.001322625402872544],\n",
       " '464': [0.0013122036430415456],\n",
       " '760': [0.0013027652686856638],\n",
       " '290.11': [0.0012921725549996435],\n",
       " '426.32': [0.0012816959580879768],\n",
       " '191.11': [0.0012745345989863374],\n",
       " '323': [0.0012744592172009438],\n",
       " '041.2': [0.0012508946058837238],\n",
       " '199': [0.0012422543720882044],\n",
       " '618': [0.001232476243298281],\n",
       " '939': [0.0012322408358536366],\n",
       " '711': [0.0012079086456510187],\n",
       " '433.2': [0.0012005459477676865],\n",
       " '480.1': [0.0011885178415546136],\n",
       " '483': [0.0011771490462751614],\n",
       " '743': [0.00116840199540671],\n",
       " '479': [0.0011650481460027137],\n",
       " '782.3': [0.0011318023347306313],\n",
       " '395': [0.001108441661176139],\n",
       " '695.42': [0.0010935225296582168],\n",
       " '443.7': [0.00109004468789916],\n",
       " '250.41': [0.0010811463379718186],\n",
       " '324': [0.0010785364011391765],\n",
       " '960': [0.0010712963421212432],\n",
       " '771': [0.001065398578893701],\n",
       " '979': [0.0010599185406715307],\n",
       " '244.4': [0.0010513737771084219],\n",
       " '797.1': [0.0010471291684725223],\n",
       " '276.4': [0.00103709105446559],\n",
       " '312': [0.0010361855121880745],\n",
       " '697': [0.0010327829793248837],\n",
       " '735': [0.00102078032265872],\n",
       " '395.3': [0.0010197511641458037],\n",
       " '416': [0.0010167771630611255],\n",
       " '716': [0.001011526865713436],\n",
       " '514.2': [0.000992714734939486],\n",
       " '526': [0.0009875339790157247],\n",
       " '587': [0.000986449289708806],\n",
       " '442.2': [0.000967887380471071],\n",
       " '270': [0.0009625790442613822],\n",
       " '573.4': [0.0009537702888734812],\n",
       " '575': [0.0009519714138532477],\n",
       " '598': [0.0009500450534384153],\n",
       " '579.2': [0.000947378439537243],\n",
       " '185': [0.0009464167223219222],\n",
       " '250.21': [0.0009395824822669499],\n",
       " '153.3': [0.0009254013458481558],\n",
       " '286.2': [0.0009133978676126741],\n",
       " '275.3': [0.0008832000282809784],\n",
       " '041': [0.0008828473598080515],\n",
       " '276.14': [0.000881505113405702],\n",
       " '514': [0.0008743111432941296],\n",
       " '426.23': [0.0008577829368711749],\n",
       " '504': [0.0008482139979250334],\n",
       " '288.1': [0.0008475154467094338],\n",
       " '290.16': [0.0008364111684452765],\n",
       " '628': [0.0008312890836945177],\n",
       " '803.2': [0.0008310536380572623],\n",
       " '344': [0.0008303095420071537],\n",
       " '574.1': [0.0008290585639721338],\n",
       " '292.4': [0.0008290550300315091],\n",
       " '798': [0.0008253575531673098],\n",
       " '250.2': [0.0008220541128578708],\n",
       " '281.12': [0.0008146075903465351],\n",
       " '426.21': [0.0007948356990037954],\n",
       " '433.11': [0.0007948183674547331],\n",
       " '374': [0.0007896066104042101],\n",
       " '615': [0.0007886414139711791],\n",
       " '714.1': [0.0007771096881513503],\n",
       " '184': [0.0007560073637364716],\n",
       " '274': [0.0007425986722845527],\n",
       " '350.3': [0.0007351111620361487],\n",
       " '961': [0.0007266470745989639],\n",
       " '081': [0.0007230990505868889],\n",
       " '008.52': [0.0007150328177388409],\n",
       " '710.19': [0.0007123106274153621],\n",
       " '159': [0.0007017339799307463],\n",
       " '575.1': [0.0007005978898974812],\n",
       " '447.1': [0.0006899149966766717],\n",
       " '803': [0.0006866034266605707],\n",
       " '619': [0.0006794091699775568],\n",
       " '705.8': [0.0006788386377138855],\n",
       " '250.1': [0.0006767837187037453],\n",
       " '965.1': [0.0006741604537970975],\n",
       " '286.5': [0.0006637170391701844],\n",
       " '227.3': [0.0006594565108691795],\n",
       " '337': [0.0006572759537272571],\n",
       " '952': [0.0006554657268153356],\n",
       " '578.8': [0.0006524750855753497],\n",
       " '743.21': [0.0006458759198839386],\n",
       " '1008': [0.0006424937618442981],\n",
       " '379.2': [0.00063658295538753],\n",
       " '297': [0.0006350578447588736],\n",
       " '272.12': [0.000633645629558617],\n",
       " '580.32': [0.0006311548530378551],\n",
       " '573.1': [0.00061131155110288],\n",
       " '964': [0.0006028874492272367],\n",
       " '964.1': [0.0006015476175671513],\n",
       " '225': [0.0005921528861032941],\n",
       " '286.7': [0.0005897924417085387],\n",
       " '965': [0.0005871417709779835],\n",
       " '454': [0.0005865339581382624],\n",
       " '427.12': [0.0005741931398704349],\n",
       " '285.2': [0.0005676667213014924],\n",
       " '803.3': [0.0005674476597295247],\n",
       " '172.11': [0.0005666733155038602],\n",
       " '599.2': [0.0005630001038544627],\n",
       " '550': [0.0005627353718758616],\n",
       " '614': [0.0005617235903492529],\n",
       " '704': [0.0005615030587659491],\n",
       " '573.7': [0.000557614971889096],\n",
       " '709.3': [0.000555167520703479],\n",
       " '942': [0.000555091657628856],\n",
       " '300.12': [0.0005530850770649289],\n",
       " '379': [0.0005511691387600373],\n",
       " '386': [0.0005475424350228167],\n",
       " '569.2': [0.0005448004880457099],\n",
       " '714': [0.0005350153596272463],\n",
       " '681.1': [0.0005331761075057299],\n",
       " '586': [0.0005130706946351217],\n",
       " '947': [0.0005095550947039046],\n",
       " '521': [0.0005043510047653134],\n",
       " '1009': [0.00048808240941852126],\n",
       " '1007': [0.00048331718470234845],\n",
       " '214': [0.0004783901733879748],\n",
       " '204.12': [0.00047199806570310534],\n",
       " '975': [0.0004667810919755581],\n",
       " '338': [0.0004652179948524282],\n",
       " '358.1': [0.00045684130773216184],\n",
       " '153': [0.0004560427821061309],\n",
       " '292.6': [0.0004547441671965388],\n",
       " '288.3': [0.00044466117532474794],\n",
       " '257': [0.00043984866742795064],\n",
       " '790': [0.00043045195065401367],\n",
       " '070.2': [0.0004289286856868849],\n",
       " '736': [0.00042829178621761366],\n",
       " '365': [0.00042811718211450603],\n",
       " '963.1': [0.00042750875127510127],\n",
       " '601': [0.0004176098835112441],\n",
       " '300.3': [0.00041242081196342394],\n",
       " '180': [0.00041192062583746743],\n",
       " '531.2': [0.0004052819471323641],\n",
       " '758.1': [0.0003973348812985751],\n",
       " '429.3': [0.0003929508423509522],\n",
       " '358': [0.00039023473550264836],\n",
       " '427.42': [0.00039022852646877754],\n",
       " '593': [0.0003896516816411327],\n",
       " '599': [0.0003812739800031592],\n",
       " '458.9': [0.0003777005974033971],\n",
       " '793.2': [0.00036819918126274943],\n",
       " '599.4': [0.00036314586101069204],\n",
       " '446': [0.00035180041683221353],\n",
       " '743.9': [0.00034514888039627225],\n",
       " '291.1': [0.00034423155509151785],\n",
       " '571.51': [0.00034330450331006084],\n",
       " '599.9': [0.0003319718259078692],\n",
       " '790.6': [0.0003231322488132121],\n",
       " '560': [0.00031804768760449186],\n",
       " '564.9': [0.00031784588410824346],\n",
       " '720': [0.00031524706417983874],\n",
       " '008.6': [0.00031188112140760165],\n",
       " '225.1': [0.0003071490815193436],\n",
       " '250.42': [0.0003018675588120288],\n",
       " '426.91': [0.00029120750589923215],\n",
       " '508': [0.00028771444119511636],\n",
       " '717': [0.0002839611943312609],\n",
       " '276.42': [0.00028116251071574655],\n",
       " '701': [0.00027972525200179767],\n",
       " '765': [0.0002789937614398908],\n",
       " '585.3': [0.00027817414230431765],\n",
       " '497': [0.0002737862377774047],\n",
       " '780': [0.0002669415350320707],\n",
       " '624.9': [0.00026675906120885904],\n",
       " '574.12': [0.00025243568451479626],\n",
       " '759': [0.0002486901952373361],\n",
       " '946': [0.0002464670844992598],\n",
       " '331': [0.0002451035073994371],\n",
       " '433.8': [0.00023876586747082897],\n",
       " '594.1': [0.00023767171783151294],\n",
       " '747.2': [0.00023710333994241564],\n",
       " '854': [0.00023359142261043962],\n",
       " '695': [0.00023314615497254816],\n",
       " '276.8': [0.00023250908877422974],\n",
       " '201': [0.00023136856698877846],\n",
       " '401.21': [0.00022868121869306697],\n",
       " '605': [0.00022622088243446094],\n",
       " '275.53': [0.0002260095203163171],\n",
       " '874': [0.00022511308188383246],\n",
       " '292.12': [0.00022510057068636258],\n",
       " '500.2': [0.0002145777581912217],\n",
       " '442.11': [0.00021430703200416696],\n",
       " '277.4': [0.00021380429827192468],\n",
       " '530.12': [0.00021267674857497167],\n",
       " '733.4': [0.00021031039335335874],\n",
       " '333': [0.00020929039286702922],\n",
       " '600': [0.0002056911022644618],\n",
       " '174.11': [0.0002045787695383065],\n",
       " '578.2': [0.0002035407832259504],\n",
       " '394.7': [0.00020156173492151292],\n",
       " '569.1': [0.00019081149263772772],\n",
       " '807': [0.00018686536212441583],\n",
       " '414': [0.00018585032903294736],\n",
       " '411.8': [0.00018384076697244346],\n",
       " '289': [0.00018288072486714353],\n",
       " '456': [0.0001810211717297261],\n",
       " '800': [0.00017744601062719234],\n",
       " '250.22': [0.0001738498090498964],\n",
       " '681.7': [0.00016567724569741438],\n",
       " '159.3': [0.0001641314856864422],\n",
       " '426.24': [0.00016374598140476987],\n",
       " '841': [0.00016232296499088254],\n",
       " '250.11': [0.00016048167591328243],\n",
       " '315.3': [0.0001596530982310624],\n",
       " '282.5': [0.00015672961532326804],\n",
       " '306.9': [0.00015569178102498932],\n",
       " '295.2': [0.00015314110787359],\n",
       " '255': [0.00015145125890567013],\n",
       " '343': [0.00015042131932552693],\n",
       " '395.1': [0.00014855092814894592],\n",
       " '550.1': [0.00014182624912318544],\n",
       " '577.1': [0.00014126984640983672],\n",
       " '509.2': [0.0001400164795998298],\n",
       " '253': [0.000135597758809378],\n",
       " '743.2': [0.000130444931375396],\n",
       " '698': [0.00012559512378782728],\n",
       " '038.2': [0.00012369834105118883],\n",
       " '149': [0.0001230125854951911],\n",
       " '473.4': [0.00012283905805365332],\n",
       " '255.21': [0.00011988414558766304],\n",
       " '442': [0.00011651496363109914],\n",
       " '261': [0.00011465517197677725],\n",
       " '695.3': [0.00011440809323073947],\n",
       " '132': [0.00011380986403903771],\n",
       " '741': [0.00011356184110143514],\n",
       " '966': [0.00011270520339386398],\n",
       " '742': [0.00011058920608666712],\n",
       " '430.1': [0.00011037793290612014],\n",
       " '276.6': [0.00011025060315552984],\n",
       " '411.2': [0.00010955989801200188],\n",
       " '189.21': [0.00010949672652639933],\n",
       " '250.12': [0.00010876982885573668],\n",
       " '558': [0.000107293171804971],\n",
       " '599.6': [0.0001031525518072754],\n",
       " '458.2': [9.818074780164053e-05],\n",
       " '500': [9.537049712934182e-05],\n",
       " '316.1': [9.498468733230455e-05],\n",
       " '1001': [9.452074667100468e-05],\n",
       " '427.7': [9.394508532090644e-05],\n",
       " '411.41': [9.319617755341336e-05],\n",
       " '512.7': [9.246192276085688e-05],\n",
       " '819': [9.041598268497814e-05],\n",
       " '249': [8.701665958138516e-05],\n",
       " '771.1': [8.564618283415033e-05],\n",
       " '519': [8.3429777978163e-05],\n",
       " '252': [8.196146048471351e-05],\n",
       " '333.1': [7.956227920271816e-05],\n",
       " '110': [7.638145070078804e-05],\n",
       " '296.1': [7.547527190988827e-05],\n",
       " '519.8': [7.347003660628055e-05],\n",
       " '202.24': [7.204820435858028e-05],\n",
       " '394': [7.063459309794886e-05],\n",
       " '1011': [7.019579782192513e-05],\n",
       " '158': [6.889081686047917e-05],\n",
       " '473': [6.885674944126968e-05],\n",
       " '252.1': [6.863490936478041e-05],\n",
       " '958.1': [6.575372593321627e-05],\n",
       " '772': [6.469842174433082e-05],\n",
       " '731': [6.194484246692134e-05],\n",
       " '455': [6.139840098737011e-05],\n",
       " '433.31': [6.10099698640175e-05],\n",
       " '441.2': [5.952269724413161e-05],\n",
       " '357': [5.8757233623620144e-05],\n",
       " '071': [5.8645734570373284e-05],\n",
       " '286.6': [5.655424198415802e-05],\n",
       " '371': [5.651173698841099e-05],\n",
       " '971': [5.616727659356573e-05],\n",
       " '585.31': [5.4430593695267175e-05],\n",
       " '317.11': [5.4383629491792443e-05],\n",
       " '575.7': [5.218908848979505e-05],\n",
       " '300.1': [5.14935007015148e-05],\n",
       " '359.2': [4.98162921944613e-05],\n",
       " '430': [4.926011670410976e-05],\n",
       " '411.9': [4.87043316919119e-05],\n",
       " '804': [4.682889866666351e-05],\n",
       " '280.2': [4.553452041160752e-05],\n",
       " '193': [4.5251749840452883e-05],\n",
       " '522': [4.440760274343045e-05],\n",
       " '513.3': [4.434149401492896e-05],\n",
       " '368.9': [4.421731975282392e-05],\n",
       " '240': [4.343625156076222e-05],\n",
       " '930': [4.3002626579837385e-05],\n",
       " '797': [4.0604649944991496e-05],\n",
       " '574.2': [3.903334670347582e-05],\n",
       " '327.41': [3.80497044157776e-05],\n",
       " '367.9': [3.706531614782351e-05],\n",
       " '250.4': [3.631257310306452e-05],\n",
       " '481': [3.63100569806063e-05],\n",
       " '451': [3.600213866094089e-05],\n",
       " '568': [3.540581632735585e-05],\n",
       " '333.2': [3.3161137987389815e-05],\n",
       " '509.8': [3.1336374872546294e-05],\n",
       " '740.9': [3.0825140340308226e-05],\n",
       " '287.32': [3.0365285458989872e-05],\n",
       " '603.1': [2.9361456800554646e-05],\n",
       " '429.2': [2.8994407218276962e-05],\n",
       " '531': [2.839000565825414e-05],\n",
       " '578.9': [2.7808361340787548e-05],\n",
       " '604': [2.754208864650611e-05],\n",
       " '446.5': [2.7312236196823183e-05],\n",
       " '561': [2.711267964535434e-05],\n",
       " '331.1': [2.6751915444867336e-05],\n",
       " '1010': [2.553796951928234e-05],\n",
       " '476': [2.5143038316879823e-05],\n",
       " '394.3': [2.4920722327425363e-05],\n",
       " '516.1': [2.460341415610275e-05],\n",
       " '855': [2.2852518551937044e-05],\n",
       " '568.1': [2.263825866503484e-05],\n",
       " '586.4': [2.251513764007813e-05],\n",
       " '505': [2.051948161239746e-05],\n",
       " '747.12': [1.990308796492005e-05],\n",
       " '202.2': [1.9133058462510638e-05],\n",
       " '530.5': [1.7585100626316313e-05],\n",
       " '560.4': [1.7131838706561998e-05],\n",
       " '530.9': [1.5736974292656715e-05],\n",
       " '420.3': [1.4960193040588218e-05],\n",
       " '800.4': [1.4621637473488919e-05],\n",
       " '285.1': [1.4615641394071996e-05],\n",
       " '530.2': [1.4582644554580747e-05],\n",
       " '433.12': [1.413792635091287e-05],\n",
       " '761': [1.4135021216642771e-05],\n",
       " '250.13': [1.3070421773273218e-05],\n",
       " '536': [1.2790380201144852e-05],\n",
       " '588': [1.2068394211760839e-05],\n",
       " '433.1': [1.1690175553372471e-05],\n",
       " '170.2': [1.1428922656798406e-05],\n",
       " '441.1': [1.1391588451748715e-05],\n",
       " '053': [1.1064299113208216e-05],\n",
       " '153.2': [1.067137866987787e-05],\n",
       " '258': [1.0506010921404881e-05],\n",
       " '208': [1.0192929188543127e-05],\n",
       " '300.9': [8.723769965955438e-06],\n",
       " '241.1': [8.404754962144788e-06],\n",
       " '772.3': [8.181498988284211e-06],\n",
       " '597.2': [8.14487059394443e-06],\n",
       " '592': [7.751523417964306e-06],\n",
       " '261.2': [6.634816539925454e-06],\n",
       " '441': [6.572467678054602e-06],\n",
       " '870.3': [6.455844626079459e-06],\n",
       " '418.1': [6.386079687452631e-06],\n",
       " '519.2': [6.3089636263480535e-06],\n",
       " '816': [6.203919002888832e-06],\n",
       " '550.2': [5.565408917441566e-06],\n",
       " '619.1': [4.494553936731916e-06],\n",
       " '681.3': [3.7740557347823693e-06],\n",
       " '737': [3.4278624020651314e-06],\n",
       " '713': [3.322110856959548e-06],\n",
       " '608': [3.2608683205574847e-06],\n",
       " '702': [2.9842325616177636e-06],\n",
       " '317.1': [2.783895405271433e-06],\n",
       " '803.1': [2.7779425412859932e-06],\n",
       " '362': [2.7538875975259696e-06],\n",
       " '304': [2.600571714708021e-06],\n",
       " '574.3': [2.4922735668671054e-06],\n",
       " '710': [2.3417072125739274e-06],\n",
       " '335': [1.6866718507344153e-06],\n",
       " '530.3': [1.538921938366782e-06],\n",
       " '618.1': [0.0],\n",
       " '721.2': [0.0],\n",
       " '741.1': [0.0],\n",
       " '721.8': [0.0],\n",
       " '938.1': [0.0],\n",
       " '614.54': [0.0],\n",
       " '741.3': [0.0],\n",
       " '741.2': [0.0],\n",
       " '872': [0.0],\n",
       " '741.4': [0.0],\n",
       " '875': [0.0],\n",
       " '871.4': [0.0],\n",
       " '723': [0.0],\n",
       " '938': [0.0],\n",
       " '617': [0.0],\n",
       " '876': [0.0],\n",
       " '722.1': [0.0],\n",
       " '722.6': [0.0],\n",
       " '907': [0.0],\n",
       " '722.7': [0.0],\n",
       " '910': [0.0],\n",
       " '618.2': [0.0],\n",
       " '911': [0.0],\n",
       " '912': [0.0],\n",
       " '722.8': [0.0],\n",
       " '913': [0.0],\n",
       " '931': [0.0],\n",
       " '722.9': [0.0],\n",
       " '716.2': [0.0],\n",
       " '694.3': [0.0],\n",
       " '618.5': [0.0],\n",
       " '712': [0.0],\n",
       " '713.5': [0.0],\n",
       " '853': [0.0],\n",
       " '622': [0.0],\n",
       " '622.1': [0.0],\n",
       " '622.2': [0.0],\n",
       " '623': [0.0],\n",
       " '842': [0.0],\n",
       " '621': [0.0],\n",
       " '624': [0.0],\n",
       " '624.1': [0.0],\n",
       " '624.2': [0.0],\n",
       " '711.3': [0.0],\n",
       " '711.2': [0.0],\n",
       " '742.2': [0.0],\n",
       " '742.1': [0.0],\n",
       " '620': [0.0],\n",
       " '871.3': [0.0],\n",
       " '870.4': [0.0],\n",
       " '741.5': [0.0],\n",
       " '870.8': [0.0],\n",
       " '715.1': [0.0],\n",
       " '723.1': [0.0],\n",
       " '870.6': [0.0],\n",
       " '618.6': [0.0],\n",
       " '619.2': [0.0],\n",
       " '870.1': [0.0],\n",
       " '715': [0.0],\n",
       " '870.2': [0.0],\n",
       " '619.3': [0.0],\n",
       " '619.4': [0.0],\n",
       " '619.5': [0.0],\n",
       " '714.2': [0.0],\n",
       " '941': [0.0],\n",
       " '601.11': [0.0],\n",
       " '724': [0.0],\n",
       " '612.2': [0.0],\n",
       " '737.1': [0.0],\n",
       " '610.1': [0.0],\n",
       " '738.4': [0.0],\n",
       " '610.8': [0.0],\n",
       " '611': [0.0],\n",
       " '611.3': [0.0],\n",
       " '612': [0.0],\n",
       " '729.7': [0.0],\n",
       " '613.7': [0.0],\n",
       " '729.3': [0.0],\n",
       " '987': [0.0],\n",
       " '985': [0.0],\n",
       " '613.1': [0.0],\n",
       " '739': [0.0],\n",
       " '728.71': [0.0],\n",
       " '728.7': [0.0],\n",
       " '610': [0.0],\n",
       " '731.1': [0.0],\n",
       " '988': [0.0],\n",
       " '989': [0.0],\n",
       " '735.1': [0.0],\n",
       " '735.21': [0.0],\n",
       " '601.12': [0.0],\n",
       " '733.8': [0.0],\n",
       " '735.3': [0.0],\n",
       " '601.4': [0.0],\n",
       " '008.5': [0.0],\n",
       " '601.8': [0.0],\n",
       " '733.6': [0.0],\n",
       " '602': [0.0],\n",
       " '733.2': [0.0],\n",
       " '603': [0.0],\n",
       " '732': [0.0],\n",
       " '736.2': [0.0],\n",
       " '604.1': [0.0],\n",
       " '613.5': [0.0],\n",
       " '613.8': [0.0],\n",
       " '724.8': [0.0],\n",
       " '726.3': [0.0],\n",
       " '614.4': [0.0],\n",
       " '962.3': [0.0],\n",
       " '727.1': [0.0],\n",
       " '727': [0.0],\n",
       " '614.5': [0.0],\n",
       " '726.4': [0.0],\n",
       " '614.52': [0.0],\n",
       " '960.2': [0.0],\n",
       " '983': [0.0],\n",
       " '958.2': [0.0],\n",
       " '726.2': [0.0],\n",
       " '740.12': [0.0],\n",
       " '614.53': [0.0],\n",
       " '625.1': [0.0],\n",
       " '724.9': [0.0],\n",
       " '949': [0.0],\n",
       " '727.2': [0.0],\n",
       " '614.33': [0.0],\n",
       " '727.4': [0.0],\n",
       " '965.3': [0.0],\n",
       " '728.2': [0.0],\n",
       " '728.1': [0.0],\n",
       " '981': [0.0],\n",
       " '980': [0.0],\n",
       " '977': [0.0],\n",
       " '976': [0.0],\n",
       " '614.1': [0.0],\n",
       " '614.3': [0.0],\n",
       " '614.31': [0.0],\n",
       " '614.32': [0.0],\n",
       " '973': [0.0],\n",
       " '728': [0.0],\n",
       " '727.7': [0.0],\n",
       " '727.5': [0.0],\n",
       " '740.1': [0.0],\n",
       " '625': [0.0],\n",
       " '710.11': [0.0],\n",
       " '711.1': [0.0],\n",
       " '751.22': [0.0],\n",
       " '751.2': [0.0],\n",
       " '790.8': [0.0],\n",
       " '735.2': [0.0],\n",
       " '751.21': [0.0],\n",
       " '681.2': [0.0],\n",
       " '790.1': [0.0],\n",
       " '695.9': [0.0],\n",
       " '782.6': [0.0],\n",
       " '654.2': [0.0],\n",
       " '782': [0.0],\n",
       " '751.3': [0.0],\n",
       " '695.81': [0.0],\n",
       " '695.8': [0.0],\n",
       " '752': [0.0],\n",
       " '773': [0.0],\n",
       " '686': [0.0],\n",
       " '790.9': [0.0],\n",
       " '676': [0.0],\n",
       " '674': [0.0],\n",
       " '791': [0.0],\n",
       " '656': [0.0],\n",
       " '795.8': [0.0],\n",
       " '661': [0.0],\n",
       " '794': [0.0],\n",
       " '700': [0.0],\n",
       " '663': [0.0],\n",
       " '793': [0.0],\n",
       " '751.11': [0.0],\n",
       " '751.12': [0.0],\n",
       " '792': [0.0],\n",
       " '668': [0.0],\n",
       " '669': [0.0],\n",
       " '696.42': [0.0],\n",
       " '671': [0.0],\n",
       " '696.41': [0.0],\n",
       " '772.6': [0.0],\n",
       " '752.11': [0.0],\n",
       " '695.7': [0.0],\n",
       " '755.6': [0.0],\n",
       " '695.1': [0.0],\n",
       " '690.1': [0.0],\n",
       " '691': [0.0],\n",
       " '755.61': [0.0],\n",
       " '756': [0.0],\n",
       " '763': [0.0],\n",
       " '756.1': [0.0],\n",
       " '756.21': [0.0],\n",
       " '756.3': [0.0],\n",
       " '694': [0.0],\n",
       " '756.5': [0.0],\n",
       " '694.1': [0.0],\n",
       " '759.1': [0.0],\n",
       " '757': [0.0],\n",
       " '758': [0.0],\n",
       " '695.22': [0.0],\n",
       " '690': [0.0],\n",
       " '752.2': [0.0],\n",
       " '755.4': [0.0],\n",
       " '772.2': [0.0],\n",
       " '686.2': [0.0],\n",
       " '772.1': [0.0],\n",
       " '753': [0.0],\n",
       " '686.3': [0.0],\n",
       " '686.4': [0.0],\n",
       " '686.5': [0.0],\n",
       " '687': [0.0],\n",
       " '695.41': [0.0],\n",
       " '771.2': [0.0],\n",
       " '687.2': [0.0],\n",
       " '754': [0.0],\n",
       " '687.3': [0.0],\n",
       " '755': [0.0],\n",
       " '755.1': [0.0],\n",
       " '008.7': [0.0],\n",
       " '750.22': [0.0],\n",
       " '742.9': [0.0],\n",
       " '709.5': [0.0],\n",
       " '634.1': [0.0],\n",
       " '634.3': [0.0],\n",
       " '635': [0.0],\n",
       " '635.2': [0.0],\n",
       " '635.3': [0.0],\n",
       " '636': [0.0],\n",
       " '636.2': [0.0],\n",
       " '636.3': [0.0],\n",
       " '750.21': [0.0],\n",
       " '636.8': [0.0],\n",
       " '639': [0.0],\n",
       " '642': [0.0],\n",
       " '709.4': [0.0],\n",
       " '642.1': [0.0],\n",
       " '709.2': [0.0],\n",
       " '709': [0.0],\n",
       " '634': [0.0],\n",
       " '709.6': [0.0],\n",
       " '709.7': [0.0],\n",
       " '627.5': [0.0],\n",
       " '710.12': [0.0],\n",
       " '694.2': [0.0],\n",
       " '836': [0.0],\n",
       " '835': [0.0],\n",
       " '626.1': [0.0],\n",
       " '626.11': [0.0],\n",
       " '626.12': [0.0],\n",
       " '626.13': [0.0],\n",
       " '626.14': [0.0],\n",
       " '626.2': [0.0],\n",
       " '626.8': [0.0],\n",
       " '627.1': [0.0],\n",
       " '627.2': [0.0],\n",
       " '627.3': [0.0],\n",
       " '627.4': [0.0],\n",
       " '809': [0.0],\n",
       " '747.1': [0.0],\n",
       " '643': [0.0],\n",
       " '703.1': [0.0],\n",
       " '749': [0.0],\n",
       " '749.2': [0.0],\n",
       " '703': [0.0],\n",
       " '702.1': [0.0],\n",
       " '701.6': [0.0],\n",
       " '651': [0.0],\n",
       " '750.11': [0.0],\n",
       " '652': [0.0],\n",
       " '750.14': [0.0],\n",
       " '701.5': [0.0],\n",
       " '701.4': [0.0],\n",
       " '654': [0.0],\n",
       " '654.1': [0.0],\n",
       " '701.2': [0.0],\n",
       " '796': [0.0],\n",
       " '748': [0.0],\n",
       " '704.1': [0.0],\n",
       " '706.8': [0.0],\n",
       " '649.1': [0.0],\n",
       " '643.1': [0.0],\n",
       " '706.2': [0.0],\n",
       " '645': [0.0],\n",
       " '747.11': [0.0],\n",
       " '706.1': [0.0],\n",
       " '706': [0.0],\n",
       " '647': [0.0],\n",
       " '647.1': [0.0],\n",
       " '705.3': [0.0],\n",
       " '647.3': [0.0],\n",
       " '705': [0.0],\n",
       " '704.8': [0.0],\n",
       " '010': [0.0],\n",
       " '704.2': [0.0],\n",
       " '704.11': [0.0],\n",
       " '726': [0.0],\n",
       " '480.12': [0.0],\n",
       " '601.1': [0.0],\n",
       " '282.9': [0.0],\n",
       " '277.6': [0.0],\n",
       " '277.7': [0.0],\n",
       " '278.3': [0.0],\n",
       " '278.4': [0.0],\n",
       " '279': [0.0],\n",
       " '279.1': [0.0],\n",
       " '279.11': [0.0],\n",
       " '279.7': [0.0],\n",
       " '279.8': [0.0],\n",
       " '281.1': [0.0],\n",
       " '281.11': [0.0],\n",
       " '281.13': [0.0],\n",
       " '283': [0.0],\n",
       " '287.4': [0.0],\n",
       " '283.1': [0.0],\n",
       " ...}"
      ]
     },
     "execution_count": 29,
     "metadata": {},
     "output_type": "execute_result"
    }
   ],
   "source": [
    "feature_importance_value"
   ]
  },
  {
   "cell_type": "markdown",
   "id": "e916dcd5",
   "metadata": {},
   "source": [
    "## 1.g TRTS"
   ]
  },
  {
   "cell_type": "code",
   "execution_count": 30,
   "id": "176c4fcc",
   "metadata": {},
   "outputs": [
    {
     "name": "stderr",
     "output_type": "stream",
     "text": [
      "`np.float` is a deprecated alias for the builtin `float`. To silence this warning, use `float` by itself. Doing this will not modify any behavior and is safe. If you specifically wanted the numpy scalar type, use `np.float64` here.\n",
      "Deprecated in NumPy 1.20; for more details and guidance: https://numpy.org/devdocs/release/1.20.0-notes.html#deprecations\n",
      "`np.float` is a deprecated alias for the builtin `float`. To silence this warning, use `float` by itself. Doing this will not modify any behavior and is safe. If you specifically wanted the numpy scalar type, use `np.float64` here.\n",
      "Deprecated in NumPy 1.20; for more details and guidance: https://numpy.org/devdocs/release/1.20.0-notes.html#deprecations\n"
     ]
    },
    {
     "name": "stdout",
     "output_type": "stream",
     "text": [
      "The number of records in training (real) data is:  54224\n",
      "The number of features in training (real) data is:  1453\n",
      "Positive vs Negative ratio in training (real) data is: 0.113806\n"
     ]
    },
    {
     "name": "stderr",
     "output_type": "stream",
     "text": [
      "`np.float` is a deprecated alias for the builtin `float`. To silence this warning, use `float` by itself. Doing this will not modify any behavior and is safe. If you specifically wanted the numpy scalar type, use `np.float64` here.\n",
      "Deprecated in NumPy 1.20; for more details and guidance: https://numpy.org/devdocs/release/1.20.0-notes.html#deprecations\n",
      "`np.float` is a deprecated alias for the builtin `float`. To silence this warning, use `float` by itself. Doing this will not modify any behavior and is safe. If you specifically wanted the numpy scalar type, use `np.float64` here.\n",
      "Deprecated in NumPy 1.20; for more details and guidance: https://numpy.org/devdocs/release/1.20.0-notes.html#deprecations\n"
     ]
    },
    {
     "name": "stdout",
     "output_type": "stream",
     "text": [
      "\n",
      "The number of records in evaluation (real) data is: 126522\n",
      "The number of features in training (real) data is: 1453\n",
      "Positive vs Negative ratio in evaluation (real) data is: 0.112573\n",
      "\n",
      " !!!!!!!!!!!!!!!!!!! training is starting !!!!!!!!!!!!!!!!!!! \n"
     ]
    },
    {
     "name": "stderr",
     "output_type": "stream",
     "text": [
      "Found `num_boost_round` in params. Will use it instead of argument\n",
      "categorical_feature keyword has been found in `params` and will be ignored.\n",
      "Please use categorical_feature argument of the Dataset constructor to pass this parameter.\n"
     ]
    },
    {
     "name": "stdout",
     "output_type": "stream",
     "text": [
      "[LightGBM] [Warning] num_iterations is set=2000, num_boost_round=2000 will be ignored. Current value: num_iterations=2000\n"
     ]
    },
    {
     "name": "stderr",
     "output_type": "stream",
     "text": [
      "Found `num_boost_round` in params. Will use it instead of argument\n",
      "categorical_feature keyword has been found in `params` and will be ignored.\n",
      "Please use categorical_feature argument of the Dataset constructor to pass this parameter.\n"
     ]
    },
    {
     "name": "stdout",
     "output_type": "stream",
     "text": [
      "[LightGBM] [Warning] num_iterations is set=2000, num_boost_round=2000 will be ignored. Current value: num_iterations=2000\n"
     ]
    },
    {
     "name": "stderr",
     "output_type": "stream",
     "text": [
      "Found `num_boost_round` in params. Will use it instead of argument\n",
      "categorical_feature keyword has been found in `params` and will be ignored.\n",
      "Please use categorical_feature argument of the Dataset constructor to pass this parameter.\n"
     ]
    },
    {
     "name": "stdout",
     "output_type": "stream",
     "text": [
      "[LightGBM] [Warning] num_iterations is set=2000, num_boost_round=2000 will be ignored. Current value: num_iterations=2000\n"
     ]
    },
    {
     "name": "stderr",
     "output_type": "stream",
     "text": [
      "Found `num_boost_round` in params. Will use it instead of argument\n",
      "categorical_feature keyword has been found in `params` and will be ignored.\n",
      "Please use categorical_feature argument of the Dataset constructor to pass this parameter.\n"
     ]
    },
    {
     "name": "stdout",
     "output_type": "stream",
     "text": [
      "[LightGBM] [Warning] num_iterations is set=2000, num_boost_round=2000 will be ignored. Current value: num_iterations=2000\n"
     ]
    },
    {
     "name": "stderr",
     "output_type": "stream",
     "text": [
      "Found `num_boost_round` in params. Will use it instead of argument\n",
      "categorical_feature keyword has been found in `params` and will be ignored.\n",
      "Please use categorical_feature argument of the Dataset constructor to pass this parameter.\n"
     ]
    },
    {
     "name": "stdout",
     "output_type": "stream",
     "text": [
      "[LightGBM] [Warning] num_iterations is set=2000, num_boost_round=2000 will be ignored. Current value: num_iterations=2000\n"
     ]
    },
    {
     "name": "stderr",
     "output_type": "stream",
     "text": [
      "Found `num_boost_round` in params. Will use it instead of argument\n",
      "categorical_feature keyword has been found in `params` and will be ignored.\n",
      "Please use categorical_feature argument of the Dataset constructor to pass this parameter.\n"
     ]
    },
    {
     "name": "stdout",
     "output_type": "stream",
     "text": [
      "[LightGBM] [Warning] num_iterations is set=2000, num_boost_round=2000 will be ignored. Current value: num_iterations=2000\n",
      "Best parameters:\n",
      "\n",
      "{'colsample_bytree': 0.9, 'max_depth': 15, 'min_split_gain': 0.3, 'n_estimators': 500, 'num_leaves': 50, 'reg_alpha': 1.3, 'subsample': 0.9, 'subsample_freq': 40}\n",
      "Threshold for fixing recall as 0.60 is 0.3525\n",
      "      *** Test on real data AUROC: 0.9183, PRAUC: 0.6251, ACC: 0.9089, PPV: 0.5943, NPV: 0.9492, Sensitivity: 0.6000, Specificity: 0.9480\n"
     ]
    },
    {
     "name": "stderr",
     "output_type": "stream",
     "text": [
      "LightGBM binary classifier with TreeExplainer shap values output has changed to a list of ndarray\n",
      "invalid value encountered in true_divide\n",
      "invalid value encountered in true_divide\n"
     ]
    },
    {
     "name": "stdout",
     "output_type": "stream",
     "text": [
      "TRTR AUROC: 0.9183\n",
      "TRTR AUPRC: 0.6251\n",
      "TRTR ACCURACY: 0.9089\n",
      "TRTR PPV: 0.5943\n",
      "TRTR NPV: 0.9492\n",
      "TRTR RECALL: 0.6000\n",
      "TRTR SPESIFICITY: 0.9480\n"
     ]
    }
   ],
   "source": [
    "## Train on real testing dataset and test on real training data set\n",
    "\n",
    "random.seed(a=2021, version=2)\n",
    "\n",
    "RECALL_THRESHOLD = 0.6  # hold this to compute other threshold related metrics\n",
    "LABEL_INDEX = 6  # label column index in the dataset\n",
    "RACE_COL = [0,1,2,3,4,5]\n",
    "COL_LIST = list(real_data_df.columns)[len(RACE_COL)+1:]\n",
    "CAT_IDX_wo_RACE_label = list(np.linspace(0, len(COL_LIST) - 5, num=len(COL_LIST) - 4).astype(int))\n",
    "\n",
    "## Load the dataset for model training. Here it is real data. 70%\n",
    "train_real_data = pd.read_csv('/data/chao/syn_mimic/preprocessing/original_testing_data.csv').values.astype(np.float)\n",
    "train_real_data_index = np.linspace(0,len(train_real_data)-1,len(train_real_data)).astype('int')\n",
    "random.shuffle(train_real_data_index)\n",
    "train_real_data = train_real_data[train_real_data_index]\n",
    "train_real_label = train_real_data[:,LABEL_INDEX].astype(np.float)\n",
    "train_real_data = np.delete(train_real_data, [LABEL_INDEX]+RACE_COL, axis = 1)\n",
    "print('The number of records in training (real) data is:  %d' % len(train_real_data))\n",
    "print('The number of features in training (real) data is:  %d' % len(train_real_data[0]))\n",
    "print('Positive vs Negative ratio in training (real) data is: %f' % (np.sum(train_real_label)/len(train_real_label)))\n",
    "\n",
    "## load the dataset for model evaluation. Here it is real data. 30%\n",
    "eval_real_data = pd.read_csv('/data/chao/syn_mimic/preprocessing/original_training_data.csv').values.astype(np.float)\n",
    "eval_real_label = eval_real_data[:,LABEL_INDEX].astype(np.float)\n",
    "eval_real_data = np.delete(eval_real_data, [LABEL_INDEX]+RACE_COL, axis=1)\n",
    "print('\\nThe number of records in evaluation (real) data is: %d' % len(eval_real_data))\n",
    "print('The number of features in training (real) data is: %d' % len(eval_real_data[0]))\n",
    "print('Positive vs Negative ratio in evaluation (real) data is: %f' % (np.sum(eval_real_label)/len(eval_real_label)))\n",
    "\n",
    "## model training\n",
    "print('\\n !!!!!!!!!!!!!!!!!!! training is starting !!!!!!!!!!!!!!!!!!! ')\n",
    "\n",
    "gkf = KFold(n_splits=5, shuffle=True, random_state=0).split(X=train_real_data, y=train_real_label)\n",
    "\n",
    "\n",
    "# ############\n",
    "# # try some candidates here\n",
    "\n",
    "# param_grid = {\n",
    "#     'n_estimators': [500, 1000],\n",
    "#     'colsample_bytree': [0.7, 0.8],\n",
    "#     'max_depth': [15, 25],\n",
    "#     'num_leaves': [20, 50],\n",
    "#     'reg_alpha': [1.1, 1.3],\n",
    "# #     'reg_lambda': [1.1, 1.3],\n",
    "#     'min_split_gain': [0.3, 0.5],\n",
    "#     'subsample': [0.8, 0.9],\n",
    "#     'subsample_freq': [20]\n",
    "#     }\n",
    "############\n",
    "\n",
    "param_grid = {\n",
    "            'n_estimators': [500],\n",
    "            'colsample_bytree': [0.9],\n",
    "            'max_depth': [15],\n",
    "            'num_leaves': [50],\n",
    "            'reg_alpha': [1.3],\n",
    "            'min_split_gain': [0.3],\n",
    "            'subsample': [0.9],\n",
    "            'subsample_freq': [40]\n",
    "            }\n",
    "\n",
    "lgb_estimator = lgb.LGBMClassifier(boosting_type='gbdt',  objective='binary', num_boost_round=2000, learning_rate=0.01, metric='auc',categorical_feature=CAT_IDX_wo_RACE_label, n_jobs = 20)\n",
    "gsearch = GridSearchCV(estimator=lgb_estimator, param_grid=param_grid, cv=gkf)\n",
    "gbm = gsearch.fit(X=train_real_data, y=train_real_label)\n",
    "print(\"Best parameters:\\n\")\n",
    "print(gbm.best_params_)\n",
    "\n",
    "y_scores = gbm.predict_proba(eval_real_data)\n",
    "y_scores = y_scores[:,1]\n",
    "trtr_auroc = roc_auc_score(y_score=y_scores, y_true=eval_real_label)\n",
    "trtr_prauc = average_precision_score(eval_real_label, y_scores)\n",
    "fpr, tpr, threshold_candidate = roc_curve(eval_real_label, y_scores)\n",
    "thres_index = (tpr > RECALL_THRESHOLD).tolist().index(True)\n",
    "thres = threshold_candidate[thres_index]\n",
    "print(\"Threshold for fixing recall as %.2f is %.4f\" % (RECALL_THRESHOLD, thres))\n",
    "pred_y = np.array([(value>=thres)*1.0 for value in y_scores])\n",
    "\n",
    "tn, fp, fn, tp = confusion_matrix(eval_real_label, pred_y).ravel()\n",
    "trtr_ppv = tp / (tp + fp)\n",
    "trtr_npv = tn / (tn + fn)\n",
    "trtr_sens = tp / (tp + fn)\n",
    "trtr_spes = tn / (tn + fp)\n",
    "trtr_acc = (tn + tp) / (tn + fp + fn + tp)\n",
    "print(\"      *** Test on real data AUROC: %.4f, PRAUC: %.4f, ACC: %.4f, PPV: %.4f, NPV: %.4f, Sensitivity: %.4f, Specificity: %.4f\" % (\n",
    "trtr_auroc, trtr_prauc, trtr_acc, trtr_ppv, trtr_npv, trtr_sens, trtr_spes))\n",
    "\n",
    "explainer = shap.TreeExplainer(gbm.best_estimator_)\n",
    "shap_df = pd.DataFrame(explainer.shap_values(eval_real_data)[1], columns = COL_LIST)\n",
    "shap_df_abs = abs(shap_df)\n",
    "\n",
    "feature_importance_mean = shap_df_abs.mean(axis=0).sort_values(ascending=False)\n",
    "feature_importance_value = {}\n",
    "for key, value in feature_importance_mean.items():\n",
    "    if key in feature_importance_value.keys():\n",
    "        feature_importance_value[key].append(value)\n",
    "    else:\n",
    "        feature_importance_value[key] = [value]\n",
    "\n",
    "correlation_coeff_value = {}\n",
    "for key in COL_LIST:\n",
    "    corr_value = np.corrcoef(shap_df[key], eval_real_data[:, COL_LIST.index(key)])[1][0]\n",
    "    if key in correlation_coeff_value.keys():\n",
    "        correlation_coeff_value[key].append(corr_value)\n",
    "    else:\n",
    "        correlation_coeff_value[key] = [corr_value]\n",
    "\n",
    "# np.save('./result/r_70_train_r_30_test_correl_coeff_value.npy', correlation_coeff_value)\n",
    "# shap_df.to_csv('./result/r_70_train_r_30_test_feature_importance.csv')\n",
    "# np.save('./result/r_70_train_r_30_test_y_estimate.npy', y_scores)\n",
    "# np.save('./result/r_70_train_r_30_test_y_label.npy', eval_real_label)\n",
    "# joblib.dump(gbm.best_estimator_, './result/r_70_train_r_30_test.pkl')\n",
    "\n",
    "print('TRTR AUROC: %.4f' % trtr_auroc)\n",
    "print('TRTR AUPRC: %.4f' % trtr_prauc)\n",
    "print('TRTR ACCURACY: %.4f' % trtr_acc)\n",
    "print('TRTR PPV: %.4f' % trtr_ppv)\n",
    "print('TRTR NPV: %.4f' % trtr_npv)\n",
    "print('TRTR RECALL: %.4f' % trtr_sens)\n",
    "print('TRTR SPESIFICITY: %.4f' % trtr_spes)\n",
    "\n",
    "\n"
   ]
  },
  {
   "cell_type": "code",
   "execution_count": 31,
   "id": "973339b5",
   "metadata": {},
   "outputs": [
    {
     "name": "stderr",
     "output_type": "stream",
     "text": [
      "`np.float` is a deprecated alias for the builtin `float`. To silence this warning, use `float` by itself. Doing this will not modify any behavior and is safe. If you specifically wanted the numpy scalar type, use `np.float64` here.\n",
      "Deprecated in NumPy 1.20; for more details and guidance: https://numpy.org/devdocs/release/1.20.0-notes.html#deprecations\n",
      "`np.float` is a deprecated alias for the builtin `float`. To silence this warning, use `float` by itself. Doing this will not modify any behavior and is safe. If you specifically wanted the numpy scalar type, use `np.float64` here.\n",
      "Deprecated in NumPy 1.20; for more details and guidance: https://numpy.org/devdocs/release/1.20.0-notes.html#deprecations\n"
     ]
    },
    {
     "name": "stdout",
     "output_type": "stream",
     "text": [
      "The number of records in training (real) data is:  54224\n",
      "The number of features in training (real) data is:  1453\n",
      "Positive vs Negative ratio in training (real) data is: 0.113806\n"
     ]
    },
    {
     "name": "stderr",
     "output_type": "stream",
     "text": [
      "Found `num_boost_round` in params. Will use it instead of argument\n",
      "categorical_feature keyword has been found in `params` and will be ignored.\n",
      "Please use categorical_feature argument of the Dataset constructor to pass this parameter.\n"
     ]
    },
    {
     "name": "stdout",
     "output_type": "stream",
     "text": [
      "[LightGBM] [Warning] num_iterations is set=2000, num_boost_round=2000 will be ignored. Current value: num_iterations=2000\n"
     ]
    },
    {
     "name": "stderr",
     "output_type": "stream",
     "text": [
      "Found `num_boost_round` in params. Will use it instead of argument\n",
      "categorical_feature keyword has been found in `params` and will be ignored.\n",
      "Please use categorical_feature argument of the Dataset constructor to pass this parameter.\n"
     ]
    },
    {
     "name": "stdout",
     "output_type": "stream",
     "text": [
      "[LightGBM] [Warning] num_iterations is set=2000, num_boost_round=2000 will be ignored. Current value: num_iterations=2000\n"
     ]
    },
    {
     "name": "stderr",
     "output_type": "stream",
     "text": [
      "Found `num_boost_round` in params. Will use it instead of argument\n",
      "categorical_feature keyword has been found in `params` and will be ignored.\n",
      "Please use categorical_feature argument of the Dataset constructor to pass this parameter.\n"
     ]
    },
    {
     "name": "stdout",
     "output_type": "stream",
     "text": [
      "[LightGBM] [Warning] num_iterations is set=2000, num_boost_round=2000 will be ignored. Current value: num_iterations=2000\n"
     ]
    },
    {
     "name": "stderr",
     "output_type": "stream",
     "text": [
      "Found `num_boost_round` in params. Will use it instead of argument\n",
      "categorical_feature keyword has been found in `params` and will be ignored.\n",
      "Please use categorical_feature argument of the Dataset constructor to pass this parameter.\n"
     ]
    },
    {
     "name": "stdout",
     "output_type": "stream",
     "text": [
      "[LightGBM] [Warning] num_iterations is set=2000, num_boost_round=2000 will be ignored. Current value: num_iterations=2000\n"
     ]
    },
    {
     "name": "stderr",
     "output_type": "stream",
     "text": [
      "Found `num_boost_round` in params. Will use it instead of argument\n",
      "categorical_feature keyword has been found in `params` and will be ignored.\n",
      "Please use categorical_feature argument of the Dataset constructor to pass this parameter.\n"
     ]
    },
    {
     "name": "stdout",
     "output_type": "stream",
     "text": [
      "[LightGBM] [Warning] num_iterations is set=2000, num_boost_round=2000 will be ignored. Current value: num_iterations=2000\n"
     ]
    },
    {
     "name": "stderr",
     "output_type": "stream",
     "text": [
      "Found `num_boost_round` in params. Will use it instead of argument\n",
      "categorical_feature keyword has been found in `params` and will be ignored.\n",
      "Please use categorical_feature argument of the Dataset constructor to pass this parameter.\n"
     ]
    },
    {
     "name": "stdout",
     "output_type": "stream",
     "text": [
      "[LightGBM] [Warning] num_iterations is set=2000, num_boost_round=2000 will be ignored. Current value: num_iterations=2000\n",
      "Best parameters:\n",
      "\n",
      "{'colsample_bytree': 0.9, 'max_depth': 15, 'min_split_gain': 0.3, 'n_estimators': 500, 'num_leaves': 50, 'reg_alpha': 1.3, 'subsample': 0.9, 'subsample_freq': 40}\n",
      "\n",
      "   !!!!!!!!!!!!!!!!!!! evaluation is starting !!!!!!!!!!!!!!!!!!! \n",
      "\n",
      " ######## Syn dataset 1 ######## \n"
     ]
    },
    {
     "name": "stderr",
     "output_type": "stream",
     "text": [
      "`np.float` is a deprecated alias for the builtin `float`. To silence this warning, use `float` by itself. Doing this will not modify any behavior and is safe. If you specifically wanted the numpy scalar type, use `np.float64` here.\n",
      "Deprecated in NumPy 1.20; for more details and guidance: https://numpy.org/devdocs/release/1.20.0-notes.html#deprecations\n"
     ]
    },
    {
     "name": "stdout",
     "output_type": "stream",
     "text": [
      "Threshold for fixing recall as 0.60 is 0.3101\n",
      "      *** Test on syn data AUROC: 0.9024, PRAUC: 0.5934, ACC: 0.8958, PPV: 0.5332, NPV: 0.9484, Sensitivity: 0.6000, Specificity: 0.9334\n",
      "\n",
      " ######## Syn dataset 2 ######## \n"
     ]
    },
    {
     "name": "stderr",
     "output_type": "stream",
     "text": [
      "`np.float` is a deprecated alias for the builtin `float`. To silence this warning, use `float` by itself. Doing this will not modify any behavior and is safe. If you specifically wanted the numpy scalar type, use `np.float64` here.\n",
      "Deprecated in NumPy 1.20; for more details and guidance: https://numpy.org/devdocs/release/1.20.0-notes.html#deprecations\n"
     ]
    },
    {
     "name": "stdout",
     "output_type": "stream",
     "text": [
      "Threshold for fixing recall as 0.60 is 0.2967\n",
      "      *** Test on syn data AUROC: 0.9031, PRAUC: 0.5879, ACC: 0.8954, PPV: 0.5316, NPV: 0.9484, Sensitivity: 0.6001, Specificity: 0.9329\n",
      "\n",
      " ######## Syn dataset 3 ######## \n"
     ]
    },
    {
     "name": "stderr",
     "output_type": "stream",
     "text": [
      "`np.float` is a deprecated alias for the builtin `float`. To silence this warning, use `float` by itself. Doing this will not modify any behavior and is safe. If you specifically wanted the numpy scalar type, use `np.float64` here.\n",
      "Deprecated in NumPy 1.20; for more details and guidance: https://numpy.org/devdocs/release/1.20.0-notes.html#deprecations\n"
     ]
    },
    {
     "name": "stdout",
     "output_type": "stream",
     "text": [
      "Threshold for fixing recall as 0.60 is 0.3013\n",
      "      *** Test on syn data AUROC: 0.9013, PRAUC: 0.5859, ACC: 0.8937, PPV: 0.5243, NPV: 0.9483, Sensitivity: 0.6000, Specificity: 0.9309\n",
      "\n",
      " ######## Syn dataset 4 ######## \n"
     ]
    },
    {
     "name": "stderr",
     "output_type": "stream",
     "text": [
      "`np.float` is a deprecated alias for the builtin `float`. To silence this warning, use `float` by itself. Doing this will not modify any behavior and is safe. If you specifically wanted the numpy scalar type, use `np.float64` here.\n",
      "Deprecated in NumPy 1.20; for more details and guidance: https://numpy.org/devdocs/release/1.20.0-notes.html#deprecations\n"
     ]
    },
    {
     "name": "stdout",
     "output_type": "stream",
     "text": [
      "Threshold for fixing recall as 0.60 is 0.2500\n",
      "      *** Test on syn data AUROC: 0.8738, PRAUC: 0.5315, ACC: 0.8739, PPV: 0.4546, NPV: 0.9471, Sensitivity: 0.6000, Specificity: 0.9087\n",
      "\n",
      " ######## Syn dataset 5 ######## \n"
     ]
    },
    {
     "name": "stderr",
     "output_type": "stream",
     "text": [
      "`np.float` is a deprecated alias for the builtin `float`. To silence this warning, use `float` by itself. Doing this will not modify any behavior and is safe. If you specifically wanted the numpy scalar type, use `np.float64` here.\n",
      "Deprecated in NumPy 1.20; for more details and guidance: https://numpy.org/devdocs/release/1.20.0-notes.html#deprecations\n"
     ]
    },
    {
     "name": "stdout",
     "output_type": "stream",
     "text": [
      "Threshold for fixing recall as 0.60 is 0.2652\n",
      "      *** Test on syn data AUROC: 0.8949, PRAUC: 0.5687, ACC: 0.8896, PPV: 0.5082, NPV: 0.9481, Sensitivity: 0.6001, Specificity: 0.9263\n",
      "TRTS AUROC:  [0.9024328980257994, 0.9030885875518126, 0.9013117821936679, 0.8738215730374622, 0.8949010115526643]\n"
     ]
    }
   ],
   "source": [
    "## Train on real testing dataset and test on synthetic training data set\n",
    "\n",
    "random.seed(a=2021, version=2)\n",
    "\n",
    "train_real_data = pd.read_csv('/data/chao/syn_mimic/preprocessing/original_testing_data.csv').values.astype(np.float)\n",
    "train_real_data_index = np.linspace(0,len(train_real_data)-1,len(train_real_data)).astype('int')\n",
    "random.shuffle(train_real_data_index)\n",
    "train_real_data = train_real_data[train_real_data_index]\n",
    "train_real_label = train_real_data[:,LABEL_INDEX].astype(np.float)\n",
    "train_real_data = np.delete(train_real_data, [LABEL_INDEX]+RACE_COL, axis = 1)\n",
    "print('The number of records in training (real) data is:  %d' % len(train_real_data))\n",
    "print('The number of features in training (real) data is:  %d' % len(train_real_data[0]))\n",
    "print('Positive vs Negative ratio in training (real) data is: %f' % (np.sum(train_real_label)/len(train_real_label)))\n",
    "\n",
    "gkf = KFold(n_splits=5, shuffle=True, random_state=0).split(X=train_real_data, y=train_real_label)\n",
    "\n",
    "param_grid = {\n",
    "            'n_estimators': [500],\n",
    "            'colsample_bytree': [0.9],\n",
    "            'max_depth': [15],\n",
    "            'num_leaves': [50],\n",
    "            'reg_alpha': [1.3],\n",
    "            'min_split_gain': [0.3],\n",
    "            'subsample': [0.9],\n",
    "            'subsample_freq': [40]\n",
    "            }\n",
    "\n",
    "lgb_estimator = lgb.LGBMClassifier(boosting_type='gbdt',  objective='binary', num_boost_round=2000, learning_rate=0.01, metric='auc',categorical_feature=CAT_IDX_wo_RACE_label, n_jobs = 20)\n",
    "\n",
    "gsearch = GridSearchCV(estimator=lgb_estimator, param_grid=param_grid, cv=gkf)\n",
    "gbm = gsearch.fit(X=train_real_data, y=train_real_label)\n",
    "print(\"Best parameters:\\n\")\n",
    "print(gbm.best_params_)\n",
    "\n",
    "print('\\n   !!!!!!!!!!!!!!!!!!! evaluation is starting !!!!!!!!!!!!!!!!!!! ')\n",
    "\n",
    "syn_auroc_result = []\n",
    "syn_prauc_result = []\n",
    "syn_acc_result = []\n",
    "syn_ppv_result = []\n",
    "syn_npv_result = []\n",
    "syn_sens_result = []\n",
    "syn_spes_result = []\n",
    "\n",
    "for run_ in range(len(model_id_list)):\n",
    "\n",
    "    run = run_ + 1\n",
    "    print('\\n ######## Syn dataset %d ######## ' % run)\n",
    "    \n",
    "    syn_data = syn_data_list[run_]\n",
    "    random.seed(a=2021, version=2)\n",
    "    syn_data_index = np.linspace(0,len(syn_data)-1,len(syn_data)).astype('int')\n",
    "    random.shuffle(syn_data_index)\n",
    "    syn_data = syn_data[syn_data_index]\n",
    "    syn_label = syn_data[:,LABEL_INDEX].astype(np.float)\n",
    "    syn_data = np.delete(syn_data, [LABEL_INDEX]+RACE_COL, axis = 1)\n",
    "\n",
    "    y_scores = gbm.best_estimator_.predict_proba(syn_data)\n",
    "    y_scores = y_scores[:,1]\n",
    "    auroc = roc_auc_score(y_score=y_scores, y_true=syn_label)\n",
    "    prauc = average_precision_score(syn_label, y_scores)\n",
    "    fpr, tpr, threshold_candidate = roc_curve(syn_label, y_scores)\n",
    "    thres_index = (tpr > RECALL_THRESHOLD).tolist().index(True)\n",
    "    thres = threshold_candidate[thres_index]\n",
    "    print(\"Threshold for fixing recall as %.2f is %.4f\" % (RECALL_THRESHOLD, thres))\n",
    "    pred_y = np.array([(value>=thres)*1.0 for value in y_scores])\n",
    "\n",
    "    tn, fp, fn, tp = confusion_matrix(syn_label, pred_y).ravel()\n",
    "    ppv = tp / (tp + fp)\n",
    "    npv = tn / (tn + fn)\n",
    "    sens = tp / (tp + fn)\n",
    "    spes = tn / (tn + fp)\n",
    "    acc = (tn + tp) / (tn + fp + fn + tp)\n",
    "    print(\"      *** Test on syn data AUROC: %.4f, PRAUC: %.4f, ACC: %.4f, PPV: %.4f, NPV: %.4f, Sensitivity: %.4f, Specificity: %.4f\" % (\n",
    "    auroc, prauc, acc, ppv, npv, sens, spes))   \n",
    "\n",
    "    syn_auroc_result.append(auroc)\n",
    "    syn_prauc_result.append(prauc)\n",
    "    syn_acc_result.append(acc)\n",
    "    syn_ppv_result.append(ppv)\n",
    "    syn_npv_result.append(npv)\n",
    "    syn_sens_result.append(sens)\n",
    "    syn_spes_result.append(spes)\n",
    "\n",
    "\n",
    "print('TRTS AUROC: ', syn_auroc_result)\n",
    "utility_score['TRTS_auroc'] = syn_auroc_result\n",
    "    "
   ]
  },
  {
   "cell_type": "markdown",
   "id": "be5405ee",
   "metadata": {},
   "source": [
    "## 1.h feature importance"
   ]
  },
  {
   "cell_type": "code",
   "execution_count": 32,
   "id": "610307d2",
   "metadata": {
    "scrolled": true
   },
   "outputs": [
    {
     "name": "stderr",
     "output_type": "stream",
     "text": [
      "`np.float` is a deprecated alias for the builtin `float`. To silence this warning, use `float` by itself. Doing this will not modify any behavior and is safe. If you specifically wanted the numpy scalar type, use `np.float64` here.\n",
      "Deprecated in NumPy 1.20; for more details and guidance: https://numpy.org/devdocs/release/1.20.0-notes.html#deprecations\n",
      "`np.float` is a deprecated alias for the builtin `float`. To silence this warning, use `float` by itself. Doing this will not modify any behavior and is safe. If you specifically wanted the numpy scalar type, use `np.float64` here.\n",
      "Deprecated in NumPy 1.20; for more details and guidance: https://numpy.org/devdocs/release/1.20.0-notes.html#deprecations\n"
     ]
    },
    {
     "name": "stdout",
     "output_type": "stream",
     "text": [
      "The number of records in training (real) data is:  126522\n",
      "The number of features in training (real) data is:  1453\n",
      "Positive vs Negative ratio in training (real) data is: 0.112573\n"
     ]
    },
    {
     "name": "stderr",
     "output_type": "stream",
     "text": [
      "`np.float` is a deprecated alias for the builtin `float`. To silence this warning, use `float` by itself. Doing this will not modify any behavior and is safe. If you specifically wanted the numpy scalar type, use `np.float64` here.\n",
      "Deprecated in NumPy 1.20; for more details and guidance: https://numpy.org/devdocs/release/1.20.0-notes.html#deprecations\n",
      "`np.float` is a deprecated alias for the builtin `float`. To silence this warning, use `float` by itself. Doing this will not modify any behavior and is safe. If you specifically wanted the numpy scalar type, use `np.float64` here.\n",
      "Deprecated in NumPy 1.20; for more details and guidance: https://numpy.org/devdocs/release/1.20.0-notes.html#deprecations\n",
      "Found `num_boost_round` in params. Will use it instead of argument\n",
      "categorical_feature keyword has been found in `params` and will be ignored.\n",
      "Please use categorical_feature argument of the Dataset constructor to pass this parameter.\n"
     ]
    },
    {
     "name": "stdout",
     "output_type": "stream",
     "text": [
      "\n",
      "The number of records in evaluation (real) data is: 54224\n",
      "The number of features in training (real) data is: 1453\n",
      "Positive vs Negative ratio in evaluation (real) data is: 0.113806\n",
      "\n",
      " !!!!!!!!!!!!!!!!!!! training is starting !!!!!!!!!!!!!!!!!!! \n",
      "Testing top 5 features: \n",
      "[LightGBM] [Warning] num_iterations is set=2000, num_boost_round=2000 will be ignored. Current value: num_iterations=2000\n"
     ]
    },
    {
     "name": "stderr",
     "output_type": "stream",
     "text": [
      "Found `num_boost_round` in params. Will use it instead of argument\n",
      "categorical_feature keyword has been found in `params` and will be ignored.\n",
      "Please use categorical_feature argument of the Dataset constructor to pass this parameter.\n"
     ]
    },
    {
     "name": "stdout",
     "output_type": "stream",
     "text": [
      "[LightGBM] [Warning] num_iterations is set=2000, num_boost_round=2000 will be ignored. Current value: num_iterations=2000\n"
     ]
    },
    {
     "name": "stderr",
     "output_type": "stream",
     "text": [
      "Found `num_boost_round` in params. Will use it instead of argument\n",
      "categorical_feature keyword has been found in `params` and will be ignored.\n",
      "Please use categorical_feature argument of the Dataset constructor to pass this parameter.\n"
     ]
    },
    {
     "name": "stdout",
     "output_type": "stream",
     "text": [
      "[LightGBM] [Warning] num_iterations is set=2000, num_boost_round=2000 will be ignored. Current value: num_iterations=2000\n"
     ]
    },
    {
     "name": "stderr",
     "output_type": "stream",
     "text": [
      "Found `num_boost_round` in params. Will use it instead of argument\n",
      "categorical_feature keyword has been found in `params` and will be ignored.\n",
      "Please use categorical_feature argument of the Dataset constructor to pass this parameter.\n"
     ]
    },
    {
     "name": "stdout",
     "output_type": "stream",
     "text": [
      "[LightGBM] [Warning] num_iterations is set=2000, num_boost_round=2000 will be ignored. Current value: num_iterations=2000\n"
     ]
    },
    {
     "name": "stderr",
     "output_type": "stream",
     "text": [
      "Found `num_boost_round` in params. Will use it instead of argument\n",
      "categorical_feature keyword has been found in `params` and will be ignored.\n",
      "Please use categorical_feature argument of the Dataset constructor to pass this parameter.\n"
     ]
    },
    {
     "name": "stdout",
     "output_type": "stream",
     "text": [
      "[LightGBM] [Warning] num_iterations is set=2000, num_boost_round=2000 will be ignored. Current value: num_iterations=2000\n"
     ]
    },
    {
     "name": "stderr",
     "output_type": "stream",
     "text": [
      "Found `num_boost_round` in params. Will use it instead of argument\n",
      "categorical_feature keyword has been found in `params` and will be ignored.\n",
      "Please use categorical_feature argument of the Dataset constructor to pass this parameter.\n"
     ]
    },
    {
     "name": "stdout",
     "output_type": "stream",
     "text": [
      "[LightGBM] [Warning] num_iterations is set=2000, num_boost_round=2000 will be ignored. Current value: num_iterations=2000\n",
      "Best parameters:\n",
      "\n",
      "{'colsample_bytree': 0.9, 'max_depth': 15, 'min_split_gain': 0.3, 'n_estimators': 500, 'num_leaves': 50, 'reg_alpha': 1.3, 'subsample': 0.9, 'subsample_freq': 40}\n",
      "      Threshold for fixing recall as 0.60 is 0.2161\n",
      "      *** Test on real data AUROC: 0.8548, PRAUC: 0.4680, ACC: 0.8541, PPV: 0.4050, NPV: 0.9454, Sensitivity: 0.6012, Specificity: 0.8866\n",
      "Testing top 10 features: \n",
      "[LightGBM] [Warning] num_iterations is set=2000, num_boost_round=2000 will be ignored. Current value: num_iterations=2000\n"
     ]
    },
    {
     "name": "stderr",
     "output_type": "stream",
     "text": [
      "Found `num_boost_round` in params. Will use it instead of argument\n",
      "categorical_feature keyword has been found in `params` and will be ignored.\n",
      "Please use categorical_feature argument of the Dataset constructor to pass this parameter.\n",
      "Found `num_boost_round` in params. Will use it instead of argument\n",
      "categorical_feature keyword has been found in `params` and will be ignored.\n",
      "Please use categorical_feature argument of the Dataset constructor to pass this parameter.\n"
     ]
    },
    {
     "name": "stdout",
     "output_type": "stream",
     "text": [
      "[LightGBM] [Warning] num_iterations is set=2000, num_boost_round=2000 will be ignored. Current value: num_iterations=2000\n"
     ]
    },
    {
     "name": "stderr",
     "output_type": "stream",
     "text": [
      "Found `num_boost_round` in params. Will use it instead of argument\n",
      "categorical_feature keyword has been found in `params` and will be ignored.\n",
      "Please use categorical_feature argument of the Dataset constructor to pass this parameter.\n"
     ]
    },
    {
     "name": "stdout",
     "output_type": "stream",
     "text": [
      "[LightGBM] [Warning] num_iterations is set=2000, num_boost_round=2000 will be ignored. Current value: num_iterations=2000\n"
     ]
    },
    {
     "name": "stderr",
     "output_type": "stream",
     "text": [
      "Found `num_boost_round` in params. Will use it instead of argument\n",
      "categorical_feature keyword has been found in `params` and will be ignored.\n",
      "Please use categorical_feature argument of the Dataset constructor to pass this parameter.\n"
     ]
    },
    {
     "name": "stdout",
     "output_type": "stream",
     "text": [
      "[LightGBM] [Warning] num_iterations is set=2000, num_boost_round=2000 will be ignored. Current value: num_iterations=2000\n"
     ]
    },
    {
     "name": "stderr",
     "output_type": "stream",
     "text": [
      "Found `num_boost_round` in params. Will use it instead of argument\n",
      "categorical_feature keyword has been found in `params` and will be ignored.\n",
      "Please use categorical_feature argument of the Dataset constructor to pass this parameter.\n"
     ]
    },
    {
     "name": "stdout",
     "output_type": "stream",
     "text": [
      "[LightGBM] [Warning] num_iterations is set=2000, num_boost_round=2000 will be ignored. Current value: num_iterations=2000\n"
     ]
    },
    {
     "name": "stderr",
     "output_type": "stream",
     "text": [
      "Found `num_boost_round` in params. Will use it instead of argument\n",
      "categorical_feature keyword has been found in `params` and will be ignored.\n",
      "Please use categorical_feature argument of the Dataset constructor to pass this parameter.\n"
     ]
    },
    {
     "name": "stdout",
     "output_type": "stream",
     "text": [
      "[LightGBM] [Warning] num_iterations is set=2000, num_boost_round=2000 will be ignored. Current value: num_iterations=2000\n",
      "Best parameters:\n",
      "\n",
      "{'colsample_bytree': 0.9, 'max_depth': 15, 'min_split_gain': 0.3, 'n_estimators': 500, 'num_leaves': 50, 'reg_alpha': 1.3, 'subsample': 0.9, 'subsample_freq': 40}\n",
      "      Threshold for fixing recall as 0.60 is 0.2374\n",
      "      *** Test on real data AUROC: 0.8676, PRAUC: 0.5020, ACC: 0.8660, PPV: 0.4355, NPV: 0.9460, Sensitivity: 0.6001, Specificity: 0.9001\n",
      "Testing top 15 features: \n",
      "[LightGBM] [Warning] num_iterations is set=2000, num_boost_round=2000 will be ignored. Current value: num_iterations=2000\n"
     ]
    },
    {
     "name": "stderr",
     "output_type": "stream",
     "text": [
      "Found `num_boost_round` in params. Will use it instead of argument\n",
      "categorical_feature keyword has been found in `params` and will be ignored.\n",
      "Please use categorical_feature argument of the Dataset constructor to pass this parameter.\n",
      "Found `num_boost_round` in params. Will use it instead of argument\n",
      "categorical_feature keyword has been found in `params` and will be ignored.\n",
      "Please use categorical_feature argument of the Dataset constructor to pass this parameter.\n"
     ]
    },
    {
     "name": "stdout",
     "output_type": "stream",
     "text": [
      "[LightGBM] [Warning] num_iterations is set=2000, num_boost_round=2000 will be ignored. Current value: num_iterations=2000\n"
     ]
    },
    {
     "name": "stderr",
     "output_type": "stream",
     "text": [
      "Found `num_boost_round` in params. Will use it instead of argument\n",
      "categorical_feature keyword has been found in `params` and will be ignored.\n",
      "Please use categorical_feature argument of the Dataset constructor to pass this parameter.\n"
     ]
    },
    {
     "name": "stdout",
     "output_type": "stream",
     "text": [
      "[LightGBM] [Warning] num_iterations is set=2000, num_boost_round=2000 will be ignored. Current value: num_iterations=2000\n"
     ]
    },
    {
     "name": "stderr",
     "output_type": "stream",
     "text": [
      "Found `num_boost_round` in params. Will use it instead of argument\n",
      "categorical_feature keyword has been found in `params` and will be ignored.\n",
      "Please use categorical_feature argument of the Dataset constructor to pass this parameter.\n"
     ]
    },
    {
     "name": "stdout",
     "output_type": "stream",
     "text": [
      "[LightGBM] [Warning] num_iterations is set=2000, num_boost_round=2000 will be ignored. Current value: num_iterations=2000\n"
     ]
    },
    {
     "name": "stderr",
     "output_type": "stream",
     "text": [
      "Found `num_boost_round` in params. Will use it instead of argument\n",
      "categorical_feature keyword has been found in `params` and will be ignored.\n",
      "Please use categorical_feature argument of the Dataset constructor to pass this parameter.\n"
     ]
    },
    {
     "name": "stdout",
     "output_type": "stream",
     "text": [
      "[LightGBM] [Warning] num_iterations is set=2000, num_boost_round=2000 will be ignored. Current value: num_iterations=2000\n"
     ]
    },
    {
     "name": "stderr",
     "output_type": "stream",
     "text": [
      "Found `num_boost_round` in params. Will use it instead of argument\n",
      "categorical_feature keyword has been found in `params` and will be ignored.\n",
      "Please use categorical_feature argument of the Dataset constructor to pass this parameter.\n"
     ]
    },
    {
     "name": "stdout",
     "output_type": "stream",
     "text": [
      "[LightGBM] [Warning] num_iterations is set=2000, num_boost_round=2000 will be ignored. Current value: num_iterations=2000\n",
      "Best parameters:\n",
      "\n",
      "{'colsample_bytree': 0.9, 'max_depth': 15, 'min_split_gain': 0.3, 'n_estimators': 500, 'num_leaves': 50, 'reg_alpha': 1.3, 'subsample': 0.9, 'subsample_freq': 40}\n",
      "      Threshold for fixing recall as 0.60 is 0.2519\n",
      "      *** Test on real data AUROC: 0.8760, PRAUC: 0.5163, ACC: 0.8718, PPV: 0.4525, NPV: 0.9464, Sensitivity: 0.6001, Specificity: 0.9067\n",
      "Testing top 20 features: \n",
      "[LightGBM] [Warning] num_iterations is set=2000, num_boost_round=2000 will be ignored. Current value: num_iterations=2000\n"
     ]
    },
    {
     "name": "stderr",
     "output_type": "stream",
     "text": [
      "Found `num_boost_round` in params. Will use it instead of argument\n",
      "categorical_feature keyword has been found in `params` and will be ignored.\n",
      "Please use categorical_feature argument of the Dataset constructor to pass this parameter.\n",
      "Found `num_boost_round` in params. Will use it instead of argument\n",
      "categorical_feature keyword has been found in `params` and will be ignored.\n",
      "Please use categorical_feature argument of the Dataset constructor to pass this parameter.\n"
     ]
    },
    {
     "name": "stdout",
     "output_type": "stream",
     "text": [
      "[LightGBM] [Warning] num_iterations is set=2000, num_boost_round=2000 will be ignored. Current value: num_iterations=2000\n"
     ]
    },
    {
     "name": "stderr",
     "output_type": "stream",
     "text": [
      "Found `num_boost_round` in params. Will use it instead of argument\n",
      "categorical_feature keyword has been found in `params` and will be ignored.\n",
      "Please use categorical_feature argument of the Dataset constructor to pass this parameter.\n"
     ]
    },
    {
     "name": "stdout",
     "output_type": "stream",
     "text": [
      "[LightGBM] [Warning] num_iterations is set=2000, num_boost_round=2000 will be ignored. Current value: num_iterations=2000\n"
     ]
    },
    {
     "name": "stderr",
     "output_type": "stream",
     "text": [
      "Found `num_boost_round` in params. Will use it instead of argument\n",
      "categorical_feature keyword has been found in `params` and will be ignored.\n",
      "Please use categorical_feature argument of the Dataset constructor to pass this parameter.\n"
     ]
    },
    {
     "name": "stdout",
     "output_type": "stream",
     "text": [
      "[LightGBM] [Warning] num_iterations is set=2000, num_boost_round=2000 will be ignored. Current value: num_iterations=2000\n"
     ]
    },
    {
     "name": "stderr",
     "output_type": "stream",
     "text": [
      "Found `num_boost_round` in params. Will use it instead of argument\n",
      "categorical_feature keyword has been found in `params` and will be ignored.\n",
      "Please use categorical_feature argument of the Dataset constructor to pass this parameter.\n"
     ]
    },
    {
     "name": "stdout",
     "output_type": "stream",
     "text": [
      "[LightGBM] [Warning] num_iterations is set=2000, num_boost_round=2000 will be ignored. Current value: num_iterations=2000\n"
     ]
    },
    {
     "name": "stderr",
     "output_type": "stream",
     "text": [
      "Found `num_boost_round` in params. Will use it instead of argument\n",
      "categorical_feature keyword has been found in `params` and will be ignored.\n",
      "Please use categorical_feature argument of the Dataset constructor to pass this parameter.\n"
     ]
    },
    {
     "name": "stdout",
     "output_type": "stream",
     "text": [
      "[LightGBM] [Warning] num_iterations is set=2000, num_boost_round=2000 will be ignored. Current value: num_iterations=2000\n",
      "Best parameters:\n",
      "\n",
      "{'colsample_bytree': 0.9, 'max_depth': 15, 'min_split_gain': 0.3, 'n_estimators': 500, 'num_leaves': 50, 'reg_alpha': 1.3, 'subsample': 0.9, 'subsample_freq': 40}\n",
      "      Threshold for fixing recall as 0.60 is 0.2583\n",
      "      *** Test on real data AUROC: 0.8799, PRAUC: 0.5281, ACC: 0.8764, PPV: 0.4664, NPV: 0.9467, Sensitivity: 0.6002, Specificity: 0.9118\n",
      "Testing top 25 features: \n",
      "[LightGBM] [Warning] num_iterations is set=2000, num_boost_round=2000 will be ignored. Current value: num_iterations=2000\n"
     ]
    },
    {
     "name": "stderr",
     "output_type": "stream",
     "text": [
      "Found `num_boost_round` in params. Will use it instead of argument\n",
      "categorical_feature keyword has been found in `params` and will be ignored.\n",
      "Please use categorical_feature argument of the Dataset constructor to pass this parameter.\n",
      "Found `num_boost_round` in params. Will use it instead of argument\n",
      "categorical_feature keyword has been found in `params` and will be ignored.\n",
      "Please use categorical_feature argument of the Dataset constructor to pass this parameter.\n"
     ]
    },
    {
     "name": "stdout",
     "output_type": "stream",
     "text": [
      "[LightGBM] [Warning] num_iterations is set=2000, num_boost_round=2000 will be ignored. Current value: num_iterations=2000\n"
     ]
    },
    {
     "name": "stderr",
     "output_type": "stream",
     "text": [
      "Found `num_boost_round` in params. Will use it instead of argument\n",
      "categorical_feature keyword has been found in `params` and will be ignored.\n",
      "Please use categorical_feature argument of the Dataset constructor to pass this parameter.\n"
     ]
    },
    {
     "name": "stdout",
     "output_type": "stream",
     "text": [
      "[LightGBM] [Warning] num_iterations is set=2000, num_boost_round=2000 will be ignored. Current value: num_iterations=2000\n"
     ]
    },
    {
     "name": "stderr",
     "output_type": "stream",
     "text": [
      "Found `num_boost_round` in params. Will use it instead of argument\n",
      "categorical_feature keyword has been found in `params` and will be ignored.\n",
      "Please use categorical_feature argument of the Dataset constructor to pass this parameter.\n"
     ]
    },
    {
     "name": "stdout",
     "output_type": "stream",
     "text": [
      "[LightGBM] [Warning] num_iterations is set=2000, num_boost_round=2000 will be ignored. Current value: num_iterations=2000\n"
     ]
    },
    {
     "name": "stderr",
     "output_type": "stream",
     "text": [
      "Found `num_boost_round` in params. Will use it instead of argument\n",
      "categorical_feature keyword has been found in `params` and will be ignored.\n",
      "Please use categorical_feature argument of the Dataset constructor to pass this parameter.\n"
     ]
    },
    {
     "name": "stdout",
     "output_type": "stream",
     "text": [
      "[LightGBM] [Warning] num_iterations is set=2000, num_boost_round=2000 will be ignored. Current value: num_iterations=2000\n"
     ]
    },
    {
     "name": "stderr",
     "output_type": "stream",
     "text": [
      "Found `num_boost_round` in params. Will use it instead of argument\n",
      "categorical_feature keyword has been found in `params` and will be ignored.\n",
      "Please use categorical_feature argument of the Dataset constructor to pass this parameter.\n"
     ]
    },
    {
     "name": "stdout",
     "output_type": "stream",
     "text": [
      "[LightGBM] [Warning] num_iterations is set=2000, num_boost_round=2000 will be ignored. Current value: num_iterations=2000\n",
      "Best parameters:\n",
      "\n",
      "{'colsample_bytree': 0.9, 'max_depth': 15, 'min_split_gain': 0.3, 'n_estimators': 500, 'num_leaves': 50, 'reg_alpha': 1.3, 'subsample': 0.9, 'subsample_freq': 40}\n",
      "      Threshold for fixing recall as 0.60 is 0.2706\n",
      "      *** Test on real data AUROC: 0.8874, PRAUC: 0.5395, ACC: 0.8803, PPV: 0.4794, NPV: 0.9469, Sensitivity: 0.6001, Specificity: 0.9163\n",
      "Testing top 30 features: \n",
      "[LightGBM] [Warning] num_iterations is set=2000, num_boost_round=2000 will be ignored. Current value: num_iterations=2000\n"
     ]
    },
    {
     "name": "stderr",
     "output_type": "stream",
     "text": [
      "Found `num_boost_round` in params. Will use it instead of argument\n",
      "categorical_feature keyword has been found in `params` and will be ignored.\n",
      "Please use categorical_feature argument of the Dataset constructor to pass this parameter.\n",
      "Found `num_boost_round` in params. Will use it instead of argument\n",
      "categorical_feature keyword has been found in `params` and will be ignored.\n",
      "Please use categorical_feature argument of the Dataset constructor to pass this parameter.\n"
     ]
    },
    {
     "name": "stdout",
     "output_type": "stream",
     "text": [
      "[LightGBM] [Warning] num_iterations is set=2000, num_boost_round=2000 will be ignored. Current value: num_iterations=2000\n"
     ]
    },
    {
     "name": "stderr",
     "output_type": "stream",
     "text": [
      "Found `num_boost_round` in params. Will use it instead of argument\n",
      "categorical_feature keyword has been found in `params` and will be ignored.\n",
      "Please use categorical_feature argument of the Dataset constructor to pass this parameter.\n"
     ]
    },
    {
     "name": "stdout",
     "output_type": "stream",
     "text": [
      "[LightGBM] [Warning] num_iterations is set=2000, num_boost_round=2000 will be ignored. Current value: num_iterations=2000\n"
     ]
    },
    {
     "name": "stderr",
     "output_type": "stream",
     "text": [
      "Found `num_boost_round` in params. Will use it instead of argument\n",
      "categorical_feature keyword has been found in `params` and will be ignored.\n",
      "Please use categorical_feature argument of the Dataset constructor to pass this parameter.\n"
     ]
    },
    {
     "name": "stdout",
     "output_type": "stream",
     "text": [
      "[LightGBM] [Warning] num_iterations is set=2000, num_boost_round=2000 will be ignored. Current value: num_iterations=2000\n"
     ]
    },
    {
     "name": "stderr",
     "output_type": "stream",
     "text": [
      "Found `num_boost_round` in params. Will use it instead of argument\n",
      "categorical_feature keyword has been found in `params` and will be ignored.\n",
      "Please use categorical_feature argument of the Dataset constructor to pass this parameter.\n"
     ]
    },
    {
     "name": "stdout",
     "output_type": "stream",
     "text": [
      "[LightGBM] [Warning] num_iterations is set=2000, num_boost_round=2000 will be ignored. Current value: num_iterations=2000\n"
     ]
    },
    {
     "name": "stderr",
     "output_type": "stream",
     "text": [
      "Found `num_boost_round` in params. Will use it instead of argument\n",
      "categorical_feature keyword has been found in `params` and will be ignored.\n",
      "Please use categorical_feature argument of the Dataset constructor to pass this parameter.\n"
     ]
    },
    {
     "name": "stdout",
     "output_type": "stream",
     "text": [
      "[LightGBM] [Warning] num_iterations is set=2000, num_boost_round=2000 will be ignored. Current value: num_iterations=2000\n",
      "Best parameters:\n",
      "\n",
      "{'colsample_bytree': 0.9, 'max_depth': 15, 'min_split_gain': 0.3, 'n_estimators': 500, 'num_leaves': 50, 'reg_alpha': 1.3, 'subsample': 0.9, 'subsample_freq': 40}\n",
      "      Threshold for fixing recall as 0.60 is 0.2864\n",
      "      *** Test on real data AUROC: 0.8918, PRAUC: 0.5501, ACC: 0.8860, PPV: 0.4992, NPV: 0.9473, Sensitivity: 0.6001, Specificity: 0.9227\n",
      "Testing top 35 features: \n"
     ]
    },
    {
     "name": "stderr",
     "output_type": "stream",
     "text": [
      "Found `num_boost_round` in params. Will use it instead of argument\n",
      "categorical_feature keyword has been found in `params` and will be ignored.\n",
      "Please use categorical_feature argument of the Dataset constructor to pass this parameter.\n"
     ]
    },
    {
     "name": "stdout",
     "output_type": "stream",
     "text": [
      "[LightGBM] [Warning] num_iterations is set=2000, num_boost_round=2000 will be ignored. Current value: num_iterations=2000\n"
     ]
    },
    {
     "name": "stderr",
     "output_type": "stream",
     "text": [
      "Found `num_boost_round` in params. Will use it instead of argument\n",
      "categorical_feature keyword has been found in `params` and will be ignored.\n",
      "Please use categorical_feature argument of the Dataset constructor to pass this parameter.\n"
     ]
    },
    {
     "name": "stdout",
     "output_type": "stream",
     "text": [
      "[LightGBM] [Warning] num_iterations is set=2000, num_boost_round=2000 will be ignored. Current value: num_iterations=2000\n"
     ]
    },
    {
     "name": "stderr",
     "output_type": "stream",
     "text": [
      "Found `num_boost_round` in params. Will use it instead of argument\n",
      "categorical_feature keyword has been found in `params` and will be ignored.\n",
      "Please use categorical_feature argument of the Dataset constructor to pass this parameter.\n"
     ]
    },
    {
     "name": "stdout",
     "output_type": "stream",
     "text": [
      "[LightGBM] [Warning] num_iterations is set=2000, num_boost_round=2000 will be ignored. Current value: num_iterations=2000\n"
     ]
    },
    {
     "name": "stderr",
     "output_type": "stream",
     "text": [
      "Found `num_boost_round` in params. Will use it instead of argument\n",
      "categorical_feature keyword has been found in `params` and will be ignored.\n",
      "Please use categorical_feature argument of the Dataset constructor to pass this parameter.\n"
     ]
    },
    {
     "name": "stdout",
     "output_type": "stream",
     "text": [
      "[LightGBM] [Warning] num_iterations is set=2000, num_boost_round=2000 will be ignored. Current value: num_iterations=2000\n"
     ]
    },
    {
     "name": "stderr",
     "output_type": "stream",
     "text": [
      "Found `num_boost_round` in params. Will use it instead of argument\n",
      "categorical_feature keyword has been found in `params` and will be ignored.\n",
      "Please use categorical_feature argument of the Dataset constructor to pass this parameter.\n"
     ]
    },
    {
     "name": "stdout",
     "output_type": "stream",
     "text": [
      "[LightGBM] [Warning] num_iterations is set=2000, num_boost_round=2000 will be ignored. Current value: num_iterations=2000\n"
     ]
    },
    {
     "name": "stderr",
     "output_type": "stream",
     "text": [
      "Found `num_boost_round` in params. Will use it instead of argument\n",
      "categorical_feature keyword has been found in `params` and will be ignored.\n",
      "Please use categorical_feature argument of the Dataset constructor to pass this parameter.\n"
     ]
    },
    {
     "name": "stdout",
     "output_type": "stream",
     "text": [
      "[LightGBM] [Warning] num_iterations is set=2000, num_boost_round=2000 will be ignored. Current value: num_iterations=2000\n",
      "Best parameters:\n",
      "\n",
      "{'colsample_bytree': 0.9, 'max_depth': 15, 'min_split_gain': 0.3, 'n_estimators': 500, 'num_leaves': 50, 'reg_alpha': 1.3, 'subsample': 0.9, 'subsample_freq': 40}\n",
      "      Threshold for fixing recall as 0.60 is 0.2926\n",
      "      *** Test on real data AUROC: 0.8945, PRAUC: 0.5555, ACC: 0.8867, PPV: 0.5020, NPV: 0.9474, Sensitivity: 0.6004, Specificity: 0.9235\n",
      "Testing top 40 features: \n",
      "[LightGBM] [Warning] num_iterations is set=2000, num_boost_round=2000 will be ignored. Current value: num_iterations=2000\n"
     ]
    },
    {
     "name": "stderr",
     "output_type": "stream",
     "text": [
      "Found `num_boost_round` in params. Will use it instead of argument\n",
      "categorical_feature keyword has been found in `params` and will be ignored.\n",
      "Please use categorical_feature argument of the Dataset constructor to pass this parameter.\n",
      "Found `num_boost_round` in params. Will use it instead of argument\n",
      "categorical_feature keyword has been found in `params` and will be ignored.\n",
      "Please use categorical_feature argument of the Dataset constructor to pass this parameter.\n"
     ]
    },
    {
     "name": "stdout",
     "output_type": "stream",
     "text": [
      "[LightGBM] [Warning] num_iterations is set=2000, num_boost_round=2000 will be ignored. Current value: num_iterations=2000\n"
     ]
    },
    {
     "name": "stderr",
     "output_type": "stream",
     "text": [
      "Found `num_boost_round` in params. Will use it instead of argument\n",
      "categorical_feature keyword has been found in `params` and will be ignored.\n",
      "Please use categorical_feature argument of the Dataset constructor to pass this parameter.\n"
     ]
    },
    {
     "name": "stdout",
     "output_type": "stream",
     "text": [
      "[LightGBM] [Warning] num_iterations is set=2000, num_boost_round=2000 will be ignored. Current value: num_iterations=2000\n"
     ]
    },
    {
     "name": "stderr",
     "output_type": "stream",
     "text": [
      "Found `num_boost_round` in params. Will use it instead of argument\n",
      "categorical_feature keyword has been found in `params` and will be ignored.\n",
      "Please use categorical_feature argument of the Dataset constructor to pass this parameter.\n"
     ]
    },
    {
     "name": "stdout",
     "output_type": "stream",
     "text": [
      "[LightGBM] [Warning] num_iterations is set=2000, num_boost_round=2000 will be ignored. Current value: num_iterations=2000\n"
     ]
    },
    {
     "name": "stderr",
     "output_type": "stream",
     "text": [
      "Found `num_boost_round` in params. Will use it instead of argument\n",
      "categorical_feature keyword has been found in `params` and will be ignored.\n",
      "Please use categorical_feature argument of the Dataset constructor to pass this parameter.\n"
     ]
    },
    {
     "name": "stdout",
     "output_type": "stream",
     "text": [
      "[LightGBM] [Warning] num_iterations is set=2000, num_boost_round=2000 will be ignored. Current value: num_iterations=2000\n"
     ]
    },
    {
     "name": "stderr",
     "output_type": "stream",
     "text": [
      "Found `num_boost_round` in params. Will use it instead of argument\n",
      "categorical_feature keyword has been found in `params` and will be ignored.\n",
      "Please use categorical_feature argument of the Dataset constructor to pass this parameter.\n"
     ]
    },
    {
     "name": "stdout",
     "output_type": "stream",
     "text": [
      "[LightGBM] [Warning] num_iterations is set=2000, num_boost_round=2000 will be ignored. Current value: num_iterations=2000\n",
      "Best parameters:\n",
      "\n",
      "{'colsample_bytree': 0.9, 'max_depth': 15, 'min_split_gain': 0.3, 'n_estimators': 500, 'num_leaves': 50, 'reg_alpha': 1.3, 'subsample': 0.9, 'subsample_freq': 40}\n",
      "      Threshold for fixing recall as 0.60 is 0.3047\n",
      "      *** Test on real data AUROC: 0.9001, PRAUC: 0.5703, ACC: 0.8919, PPV: 0.5219, NPV: 0.9476, Sensitivity: 0.6001, Specificity: 0.9294\n",
      "Testing top 45 features: \n",
      "[LightGBM] [Warning] num_iterations is set=2000, num_boost_round=2000 will be ignored. Current value: num_iterations=2000\n"
     ]
    },
    {
     "name": "stderr",
     "output_type": "stream",
     "text": [
      "Found `num_boost_round` in params. Will use it instead of argument\n",
      "categorical_feature keyword has been found in `params` and will be ignored.\n",
      "Please use categorical_feature argument of the Dataset constructor to pass this parameter.\n",
      "Found `num_boost_round` in params. Will use it instead of argument\n",
      "categorical_feature keyword has been found in `params` and will be ignored.\n",
      "Please use categorical_feature argument of the Dataset constructor to pass this parameter.\n"
     ]
    },
    {
     "name": "stdout",
     "output_type": "stream",
     "text": [
      "[LightGBM] [Warning] num_iterations is set=2000, num_boost_round=2000 will be ignored. Current value: num_iterations=2000\n"
     ]
    },
    {
     "name": "stderr",
     "output_type": "stream",
     "text": [
      "Found `num_boost_round` in params. Will use it instead of argument\n",
      "categorical_feature keyword has been found in `params` and will be ignored.\n",
      "Please use categorical_feature argument of the Dataset constructor to pass this parameter.\n"
     ]
    },
    {
     "name": "stdout",
     "output_type": "stream",
     "text": [
      "[LightGBM] [Warning] num_iterations is set=2000, num_boost_round=2000 will be ignored. Current value: num_iterations=2000\n"
     ]
    },
    {
     "name": "stderr",
     "output_type": "stream",
     "text": [
      "Found `num_boost_round` in params. Will use it instead of argument\n",
      "categorical_feature keyword has been found in `params` and will be ignored.\n",
      "Please use categorical_feature argument of the Dataset constructor to pass this parameter.\n"
     ]
    },
    {
     "name": "stdout",
     "output_type": "stream",
     "text": [
      "[LightGBM] [Warning] num_iterations is set=2000, num_boost_round=2000 will be ignored. Current value: num_iterations=2000\n"
     ]
    },
    {
     "name": "stderr",
     "output_type": "stream",
     "text": [
      "Found `num_boost_round` in params. Will use it instead of argument\n",
      "categorical_feature keyword has been found in `params` and will be ignored.\n",
      "Please use categorical_feature argument of the Dataset constructor to pass this parameter.\n"
     ]
    },
    {
     "name": "stdout",
     "output_type": "stream",
     "text": [
      "[LightGBM] [Warning] num_iterations is set=2000, num_boost_round=2000 will be ignored. Current value: num_iterations=2000\n"
     ]
    },
    {
     "name": "stderr",
     "output_type": "stream",
     "text": [
      "Found `num_boost_round` in params. Will use it instead of argument\n",
      "categorical_feature keyword has been found in `params` and will be ignored.\n",
      "Please use categorical_feature argument of the Dataset constructor to pass this parameter.\n"
     ]
    },
    {
     "name": "stdout",
     "output_type": "stream",
     "text": [
      "[LightGBM] [Warning] num_iterations is set=2000, num_boost_round=2000 will be ignored. Current value: num_iterations=2000\n",
      "Best parameters:\n",
      "\n",
      "{'colsample_bytree': 0.9, 'max_depth': 15, 'min_split_gain': 0.3, 'n_estimators': 500, 'num_leaves': 50, 'reg_alpha': 1.3, 'subsample': 0.9, 'subsample_freq': 40}\n",
      "      Threshold for fixing recall as 0.60 is 0.3203\n",
      "      *** Test on real data AUROC: 0.9052, PRAUC: 0.5878, ACC: 0.8970, PPV: 0.5428, NPV: 0.9480, Sensitivity: 0.6004, Specificity: 0.9351\n",
      "Testing top 50 features: \n"
     ]
    },
    {
     "name": "stderr",
     "output_type": "stream",
     "text": [
      "Found `num_boost_round` in params. Will use it instead of argument\n",
      "categorical_feature keyword has been found in `params` and will be ignored.\n",
      "Please use categorical_feature argument of the Dataset constructor to pass this parameter.\n"
     ]
    },
    {
     "name": "stdout",
     "output_type": "stream",
     "text": [
      "[LightGBM] [Warning] num_iterations is set=2000, num_boost_round=2000 will be ignored. Current value: num_iterations=2000\n"
     ]
    },
    {
     "name": "stderr",
     "output_type": "stream",
     "text": [
      "Found `num_boost_round` in params. Will use it instead of argument\n",
      "categorical_feature keyword has been found in `params` and will be ignored.\n",
      "Please use categorical_feature argument of the Dataset constructor to pass this parameter.\n"
     ]
    },
    {
     "name": "stdout",
     "output_type": "stream",
     "text": [
      "[LightGBM] [Warning] num_iterations is set=2000, num_boost_round=2000 will be ignored. Current value: num_iterations=2000\n"
     ]
    },
    {
     "name": "stderr",
     "output_type": "stream",
     "text": [
      "Found `num_boost_round` in params. Will use it instead of argument\n",
      "categorical_feature keyword has been found in `params` and will be ignored.\n",
      "Please use categorical_feature argument of the Dataset constructor to pass this parameter.\n"
     ]
    },
    {
     "name": "stdout",
     "output_type": "stream",
     "text": [
      "[LightGBM] [Warning] num_iterations is set=2000, num_boost_round=2000 will be ignored. Current value: num_iterations=2000\n"
     ]
    },
    {
     "name": "stderr",
     "output_type": "stream",
     "text": [
      "Found `num_boost_round` in params. Will use it instead of argument\n",
      "categorical_feature keyword has been found in `params` and will be ignored.\n",
      "Please use categorical_feature argument of the Dataset constructor to pass this parameter.\n"
     ]
    },
    {
     "name": "stdout",
     "output_type": "stream",
     "text": [
      "[LightGBM] [Warning] num_iterations is set=2000, num_boost_round=2000 will be ignored. Current value: num_iterations=2000\n"
     ]
    },
    {
     "name": "stderr",
     "output_type": "stream",
     "text": [
      "Found `num_boost_round` in params. Will use it instead of argument\n",
      "categorical_feature keyword has been found in `params` and will be ignored.\n",
      "Please use categorical_feature argument of the Dataset constructor to pass this parameter.\n"
     ]
    },
    {
     "name": "stdout",
     "output_type": "stream",
     "text": [
      "[LightGBM] [Warning] num_iterations is set=2000, num_boost_round=2000 will be ignored. Current value: num_iterations=2000\n"
     ]
    },
    {
     "name": "stderr",
     "output_type": "stream",
     "text": [
      "Found `num_boost_round` in params. Will use it instead of argument\n",
      "categorical_feature keyword has been found in `params` and will be ignored.\n",
      "Please use categorical_feature argument of the Dataset constructor to pass this parameter.\n"
     ]
    },
    {
     "name": "stdout",
     "output_type": "stream",
     "text": [
      "[LightGBM] [Warning] num_iterations is set=2000, num_boost_round=2000 will be ignored. Current value: num_iterations=2000\n",
      "Best parameters:\n",
      "\n",
      "{'colsample_bytree': 0.9, 'max_depth': 15, 'min_split_gain': 0.3, 'n_estimators': 500, 'num_leaves': 50, 'reg_alpha': 1.3, 'subsample': 0.9, 'subsample_freq': 40}\n",
      "      Threshold for fixing recall as 0.60 is 0.3244\n",
      "      *** Test on real data AUROC: 0.9071, PRAUC: 0.5932, ACC: 0.8979, PPV: 0.5470, NPV: 0.9480, Sensitivity: 0.6002, Specificity: 0.9362\n",
      "Testing top 55 features: \n"
     ]
    },
    {
     "name": "stderr",
     "output_type": "stream",
     "text": [
      "Found `num_boost_round` in params. Will use it instead of argument\n",
      "categorical_feature keyword has been found in `params` and will be ignored.\n",
      "Please use categorical_feature argument of the Dataset constructor to pass this parameter.\n"
     ]
    },
    {
     "name": "stdout",
     "output_type": "stream",
     "text": [
      "[LightGBM] [Warning] num_iterations is set=2000, num_boost_round=2000 will be ignored. Current value: num_iterations=2000\n"
     ]
    },
    {
     "name": "stderr",
     "output_type": "stream",
     "text": [
      "Found `num_boost_round` in params. Will use it instead of argument\n",
      "categorical_feature keyword has been found in `params` and will be ignored.\n",
      "Please use categorical_feature argument of the Dataset constructor to pass this parameter.\n"
     ]
    },
    {
     "name": "stdout",
     "output_type": "stream",
     "text": [
      "[LightGBM] [Warning] num_iterations is set=2000, num_boost_round=2000 will be ignored. Current value: num_iterations=2000\n"
     ]
    },
    {
     "name": "stderr",
     "output_type": "stream",
     "text": [
      "Found `num_boost_round` in params. Will use it instead of argument\n",
      "categorical_feature keyword has been found in `params` and will be ignored.\n",
      "Please use categorical_feature argument of the Dataset constructor to pass this parameter.\n"
     ]
    },
    {
     "name": "stdout",
     "output_type": "stream",
     "text": [
      "[LightGBM] [Warning] num_iterations is set=2000, num_boost_round=2000 will be ignored. Current value: num_iterations=2000\n"
     ]
    },
    {
     "name": "stderr",
     "output_type": "stream",
     "text": [
      "Found `num_boost_round` in params. Will use it instead of argument\n",
      "categorical_feature keyword has been found in `params` and will be ignored.\n",
      "Please use categorical_feature argument of the Dataset constructor to pass this parameter.\n"
     ]
    },
    {
     "name": "stdout",
     "output_type": "stream",
     "text": [
      "[LightGBM] [Warning] num_iterations is set=2000, num_boost_round=2000 will be ignored. Current value: num_iterations=2000\n"
     ]
    },
    {
     "name": "stderr",
     "output_type": "stream",
     "text": [
      "Found `num_boost_round` in params. Will use it instead of argument\n",
      "categorical_feature keyword has been found in `params` and will be ignored.\n",
      "Please use categorical_feature argument of the Dataset constructor to pass this parameter.\n"
     ]
    },
    {
     "name": "stdout",
     "output_type": "stream",
     "text": [
      "[LightGBM] [Warning] num_iterations is set=2000, num_boost_round=2000 will be ignored. Current value: num_iterations=2000\n"
     ]
    },
    {
     "name": "stderr",
     "output_type": "stream",
     "text": [
      "Found `num_boost_round` in params. Will use it instead of argument\n",
      "categorical_feature keyword has been found in `params` and will be ignored.\n",
      "Please use categorical_feature argument of the Dataset constructor to pass this parameter.\n"
     ]
    },
    {
     "name": "stdout",
     "output_type": "stream",
     "text": [
      "[LightGBM] [Warning] num_iterations is set=2000, num_boost_round=2000 will be ignored. Current value: num_iterations=2000\n",
      "Best parameters:\n",
      "\n",
      "{'colsample_bytree': 0.9, 'max_depth': 15, 'min_split_gain': 0.3, 'n_estimators': 500, 'num_leaves': 50, 'reg_alpha': 1.3, 'subsample': 0.9, 'subsample_freq': 40}\n",
      "      Threshold for fixing recall as 0.60 is 0.3354\n",
      "      *** Test on real data AUROC: 0.9101, PRAUC: 0.6010, ACC: 0.9012, PPV: 0.5618, NPV: 0.9482, Sensitivity: 0.6001, Specificity: 0.9399\n",
      "Testing top 60 features: \n",
      "[LightGBM] [Warning] num_iterations is set=2000, num_boost_round=2000 will be ignored. Current value: num_iterations=2000\n"
     ]
    },
    {
     "name": "stderr",
     "output_type": "stream",
     "text": [
      "Found `num_boost_round` in params. Will use it instead of argument\n",
      "categorical_feature keyword has been found in `params` and will be ignored.\n",
      "Please use categorical_feature argument of the Dataset constructor to pass this parameter.\n",
      "Found `num_boost_round` in params. Will use it instead of argument\n",
      "categorical_feature keyword has been found in `params` and will be ignored.\n",
      "Please use categorical_feature argument of the Dataset constructor to pass this parameter.\n"
     ]
    },
    {
     "name": "stdout",
     "output_type": "stream",
     "text": [
      "[LightGBM] [Warning] num_iterations is set=2000, num_boost_round=2000 will be ignored. Current value: num_iterations=2000\n"
     ]
    },
    {
     "name": "stderr",
     "output_type": "stream",
     "text": [
      "Found `num_boost_round` in params. Will use it instead of argument\n",
      "categorical_feature keyword has been found in `params` and will be ignored.\n",
      "Please use categorical_feature argument of the Dataset constructor to pass this parameter.\n"
     ]
    },
    {
     "name": "stdout",
     "output_type": "stream",
     "text": [
      "[LightGBM] [Warning] num_iterations is set=2000, num_boost_round=2000 will be ignored. Current value: num_iterations=2000\n"
     ]
    },
    {
     "name": "stderr",
     "output_type": "stream",
     "text": [
      "Found `num_boost_round` in params. Will use it instead of argument\n",
      "categorical_feature keyword has been found in `params` and will be ignored.\n",
      "Please use categorical_feature argument of the Dataset constructor to pass this parameter.\n"
     ]
    },
    {
     "name": "stdout",
     "output_type": "stream",
     "text": [
      "[LightGBM] [Warning] num_iterations is set=2000, num_boost_round=2000 will be ignored. Current value: num_iterations=2000\n"
     ]
    },
    {
     "name": "stderr",
     "output_type": "stream",
     "text": [
      "Found `num_boost_round` in params. Will use it instead of argument\n",
      "categorical_feature keyword has been found in `params` and will be ignored.\n",
      "Please use categorical_feature argument of the Dataset constructor to pass this parameter.\n"
     ]
    },
    {
     "name": "stdout",
     "output_type": "stream",
     "text": [
      "[LightGBM] [Warning] num_iterations is set=2000, num_boost_round=2000 will be ignored. Current value: num_iterations=2000\n"
     ]
    },
    {
     "name": "stderr",
     "output_type": "stream",
     "text": [
      "Found `num_boost_round` in params. Will use it instead of argument\n",
      "categorical_feature keyword has been found in `params` and will be ignored.\n",
      "Please use categorical_feature argument of the Dataset constructor to pass this parameter.\n"
     ]
    },
    {
     "name": "stdout",
     "output_type": "stream",
     "text": [
      "[LightGBM] [Warning] num_iterations is set=2000, num_boost_round=2000 will be ignored. Current value: num_iterations=2000\n",
      "Best parameters:\n",
      "\n",
      "{'colsample_bytree': 0.9, 'max_depth': 15, 'min_split_gain': 0.3, 'n_estimators': 500, 'num_leaves': 50, 'reg_alpha': 1.3, 'subsample': 0.9, 'subsample_freq': 40}\n",
      "      Threshold for fixing recall as 0.60 is 0.3405\n",
      "      *** Test on real data AUROC: 0.9112, PRAUC: 0.6044, ACC: 0.9027, PPV: 0.5688, NPV: 0.9483, Sensitivity: 0.6001, Specificity: 0.9416\n",
      "Testing top 65 features: \n"
     ]
    },
    {
     "name": "stderr",
     "output_type": "stream",
     "text": [
      "Found `num_boost_round` in params. Will use it instead of argument\n",
      "categorical_feature keyword has been found in `params` and will be ignored.\n",
      "Please use categorical_feature argument of the Dataset constructor to pass this parameter.\n"
     ]
    },
    {
     "name": "stdout",
     "output_type": "stream",
     "text": [
      "[LightGBM] [Warning] num_iterations is set=2000, num_boost_round=2000 will be ignored. Current value: num_iterations=2000\n"
     ]
    },
    {
     "name": "stderr",
     "output_type": "stream",
     "text": [
      "Found `num_boost_round` in params. Will use it instead of argument\n",
      "categorical_feature keyword has been found in `params` and will be ignored.\n",
      "Please use categorical_feature argument of the Dataset constructor to pass this parameter.\n"
     ]
    },
    {
     "name": "stdout",
     "output_type": "stream",
     "text": [
      "[LightGBM] [Warning] num_iterations is set=2000, num_boost_round=2000 will be ignored. Current value: num_iterations=2000\n"
     ]
    },
    {
     "name": "stderr",
     "output_type": "stream",
     "text": [
      "Found `num_boost_round` in params. Will use it instead of argument\n",
      "categorical_feature keyword has been found in `params` and will be ignored.\n",
      "Please use categorical_feature argument of the Dataset constructor to pass this parameter.\n"
     ]
    },
    {
     "name": "stdout",
     "output_type": "stream",
     "text": [
      "[LightGBM] [Warning] num_iterations is set=2000, num_boost_round=2000 will be ignored. Current value: num_iterations=2000\n"
     ]
    },
    {
     "name": "stderr",
     "output_type": "stream",
     "text": [
      "Found `num_boost_round` in params. Will use it instead of argument\n",
      "categorical_feature keyword has been found in `params` and will be ignored.\n",
      "Please use categorical_feature argument of the Dataset constructor to pass this parameter.\n"
     ]
    },
    {
     "name": "stdout",
     "output_type": "stream",
     "text": [
      "[LightGBM] [Warning] num_iterations is set=2000, num_boost_round=2000 will be ignored. Current value: num_iterations=2000\n"
     ]
    },
    {
     "name": "stderr",
     "output_type": "stream",
     "text": [
      "Found `num_boost_round` in params. Will use it instead of argument\n",
      "categorical_feature keyword has been found in `params` and will be ignored.\n",
      "Please use categorical_feature argument of the Dataset constructor to pass this parameter.\n"
     ]
    },
    {
     "name": "stdout",
     "output_type": "stream",
     "text": [
      "[LightGBM] [Warning] num_iterations is set=2000, num_boost_round=2000 will be ignored. Current value: num_iterations=2000\n"
     ]
    },
    {
     "name": "stderr",
     "output_type": "stream",
     "text": [
      "Found `num_boost_round` in params. Will use it instead of argument\n",
      "categorical_feature keyword has been found in `params` and will be ignored.\n",
      "Please use categorical_feature argument of the Dataset constructor to pass this parameter.\n"
     ]
    },
    {
     "name": "stdout",
     "output_type": "stream",
     "text": [
      "[LightGBM] [Warning] num_iterations is set=2000, num_boost_round=2000 will be ignored. Current value: num_iterations=2000\n",
      "Best parameters:\n",
      "\n",
      "{'colsample_bytree': 0.9, 'max_depth': 15, 'min_split_gain': 0.3, 'n_estimators': 500, 'num_leaves': 50, 'reg_alpha': 1.3, 'subsample': 0.9, 'subsample_freq': 40}\n",
      "      Threshold for fixing recall as 0.60 is 0.3437\n",
      "      *** Test on real data AUROC: 0.9118, PRAUC: 0.6074, ACC: 0.9034, PPV: 0.5719, NPV: 0.9483, Sensitivity: 0.6001, Specificity: 0.9423\n",
      "Testing top 70 features: \n"
     ]
    },
    {
     "name": "stderr",
     "output_type": "stream",
     "text": [
      "Found `num_boost_round` in params. Will use it instead of argument\n",
      "categorical_feature keyword has been found in `params` and will be ignored.\n",
      "Please use categorical_feature argument of the Dataset constructor to pass this parameter.\n"
     ]
    },
    {
     "name": "stdout",
     "output_type": "stream",
     "text": [
      "[LightGBM] [Warning] num_iterations is set=2000, num_boost_round=2000 will be ignored. Current value: num_iterations=2000\n"
     ]
    },
    {
     "name": "stderr",
     "output_type": "stream",
     "text": [
      "Found `num_boost_round` in params. Will use it instead of argument\n",
      "categorical_feature keyword has been found in `params` and will be ignored.\n",
      "Please use categorical_feature argument of the Dataset constructor to pass this parameter.\n"
     ]
    },
    {
     "name": "stdout",
     "output_type": "stream",
     "text": [
      "[LightGBM] [Warning] num_iterations is set=2000, num_boost_round=2000 will be ignored. Current value: num_iterations=2000\n"
     ]
    },
    {
     "name": "stderr",
     "output_type": "stream",
     "text": [
      "Found `num_boost_round` in params. Will use it instead of argument\n",
      "categorical_feature keyword has been found in `params` and will be ignored.\n",
      "Please use categorical_feature argument of the Dataset constructor to pass this parameter.\n"
     ]
    },
    {
     "name": "stdout",
     "output_type": "stream",
     "text": [
      "[LightGBM] [Warning] num_iterations is set=2000, num_boost_round=2000 will be ignored. Current value: num_iterations=2000\n"
     ]
    },
    {
     "name": "stderr",
     "output_type": "stream",
     "text": [
      "Found `num_boost_round` in params. Will use it instead of argument\n",
      "categorical_feature keyword has been found in `params` and will be ignored.\n",
      "Please use categorical_feature argument of the Dataset constructor to pass this parameter.\n"
     ]
    },
    {
     "name": "stdout",
     "output_type": "stream",
     "text": [
      "[LightGBM] [Warning] num_iterations is set=2000, num_boost_round=2000 will be ignored. Current value: num_iterations=2000\n"
     ]
    },
    {
     "name": "stderr",
     "output_type": "stream",
     "text": [
      "Found `num_boost_round` in params. Will use it instead of argument\n",
      "categorical_feature keyword has been found in `params` and will be ignored.\n",
      "Please use categorical_feature argument of the Dataset constructor to pass this parameter.\n"
     ]
    },
    {
     "name": "stdout",
     "output_type": "stream",
     "text": [
      "[LightGBM] [Warning] num_iterations is set=2000, num_boost_round=2000 will be ignored. Current value: num_iterations=2000\n"
     ]
    },
    {
     "name": "stderr",
     "output_type": "stream",
     "text": [
      "Found `num_boost_round` in params. Will use it instead of argument\n",
      "categorical_feature keyword has been found in `params` and will be ignored.\n",
      "Please use categorical_feature argument of the Dataset constructor to pass this parameter.\n"
     ]
    },
    {
     "name": "stdout",
     "output_type": "stream",
     "text": [
      "[LightGBM] [Warning] num_iterations is set=2000, num_boost_round=2000 will be ignored. Current value: num_iterations=2000\n",
      "Best parameters:\n",
      "\n",
      "{'colsample_bytree': 0.9, 'max_depth': 15, 'min_split_gain': 0.3, 'n_estimators': 500, 'num_leaves': 50, 'reg_alpha': 1.3, 'subsample': 0.9, 'subsample_freq': 40}\n",
      "      Threshold for fixing recall as 0.60 is 0.3434\n",
      "      *** Test on real data AUROC: 0.9126, PRAUC: 0.6094, ACC: 0.9034, PPV: 0.5722, NPV: 0.9483, Sensitivity: 0.6001, Specificity: 0.9424\n",
      "Testing top 75 features: \n"
     ]
    },
    {
     "name": "stderr",
     "output_type": "stream",
     "text": [
      "Found `num_boost_round` in params. Will use it instead of argument\n",
      "categorical_feature keyword has been found in `params` and will be ignored.\n",
      "Please use categorical_feature argument of the Dataset constructor to pass this parameter.\n"
     ]
    },
    {
     "name": "stdout",
     "output_type": "stream",
     "text": [
      "[LightGBM] [Warning] num_iterations is set=2000, num_boost_round=2000 will be ignored. Current value: num_iterations=2000\n"
     ]
    },
    {
     "name": "stderr",
     "output_type": "stream",
     "text": [
      "Found `num_boost_round` in params. Will use it instead of argument\n",
      "categorical_feature keyword has been found in `params` and will be ignored.\n",
      "Please use categorical_feature argument of the Dataset constructor to pass this parameter.\n"
     ]
    },
    {
     "name": "stdout",
     "output_type": "stream",
     "text": [
      "[LightGBM] [Warning] num_iterations is set=2000, num_boost_round=2000 will be ignored. Current value: num_iterations=2000\n"
     ]
    },
    {
     "name": "stderr",
     "output_type": "stream",
     "text": [
      "Found `num_boost_round` in params. Will use it instead of argument\n",
      "categorical_feature keyword has been found in `params` and will be ignored.\n",
      "Please use categorical_feature argument of the Dataset constructor to pass this parameter.\n"
     ]
    },
    {
     "name": "stdout",
     "output_type": "stream",
     "text": [
      "[LightGBM] [Warning] num_iterations is set=2000, num_boost_round=2000 will be ignored. Current value: num_iterations=2000\n"
     ]
    },
    {
     "name": "stderr",
     "output_type": "stream",
     "text": [
      "Found `num_boost_round` in params. Will use it instead of argument\n",
      "categorical_feature keyword has been found in `params` and will be ignored.\n",
      "Please use categorical_feature argument of the Dataset constructor to pass this parameter.\n"
     ]
    },
    {
     "name": "stdout",
     "output_type": "stream",
     "text": [
      "[LightGBM] [Warning] num_iterations is set=2000, num_boost_round=2000 will be ignored. Current value: num_iterations=2000\n"
     ]
    },
    {
     "name": "stderr",
     "output_type": "stream",
     "text": [
      "Found `num_boost_round` in params. Will use it instead of argument\n",
      "categorical_feature keyword has been found in `params` and will be ignored.\n",
      "Please use categorical_feature argument of the Dataset constructor to pass this parameter.\n"
     ]
    },
    {
     "name": "stdout",
     "output_type": "stream",
     "text": [
      "[LightGBM] [Warning] num_iterations is set=2000, num_boost_round=2000 will be ignored. Current value: num_iterations=2000\n"
     ]
    },
    {
     "name": "stderr",
     "output_type": "stream",
     "text": [
      "Found `num_boost_round` in params. Will use it instead of argument\n",
      "categorical_feature keyword has been found in `params` and will be ignored.\n",
      "Please use categorical_feature argument of the Dataset constructor to pass this parameter.\n"
     ]
    },
    {
     "name": "stdout",
     "output_type": "stream",
     "text": [
      "[LightGBM] [Warning] num_iterations is set=2000, num_boost_round=2000 will be ignored. Current value: num_iterations=2000\n",
      "Best parameters:\n",
      "\n",
      "{'colsample_bytree': 0.9, 'max_depth': 15, 'min_split_gain': 0.3, 'n_estimators': 500, 'num_leaves': 50, 'reg_alpha': 1.3, 'subsample': 0.9, 'subsample_freq': 40}\n",
      "      Threshold for fixing recall as 0.60 is 0.3463\n",
      "      *** Test on real data AUROC: 0.9131, PRAUC: 0.6106, ACC: 0.9039, PPV: 0.5746, NPV: 0.9483, Sensitivity: 0.6001, Specificity: 0.9429\n",
      "Testing top 80 features: \n"
     ]
    },
    {
     "name": "stderr",
     "output_type": "stream",
     "text": [
      "Found `num_boost_round` in params. Will use it instead of argument\n",
      "categorical_feature keyword has been found in `params` and will be ignored.\n",
      "Please use categorical_feature argument of the Dataset constructor to pass this parameter.\n"
     ]
    },
    {
     "name": "stdout",
     "output_type": "stream",
     "text": [
      "[LightGBM] [Warning] num_iterations is set=2000, num_boost_round=2000 will be ignored. Current value: num_iterations=2000\n"
     ]
    },
    {
     "name": "stderr",
     "output_type": "stream",
     "text": [
      "Found `num_boost_round` in params. Will use it instead of argument\n",
      "categorical_feature keyword has been found in `params` and will be ignored.\n",
      "Please use categorical_feature argument of the Dataset constructor to pass this parameter.\n"
     ]
    },
    {
     "name": "stdout",
     "output_type": "stream",
     "text": [
      "[LightGBM] [Warning] num_iterations is set=2000, num_boost_round=2000 will be ignored. Current value: num_iterations=2000\n"
     ]
    },
    {
     "name": "stderr",
     "output_type": "stream",
     "text": [
      "Found `num_boost_round` in params. Will use it instead of argument\n",
      "categorical_feature keyword has been found in `params` and will be ignored.\n",
      "Please use categorical_feature argument of the Dataset constructor to pass this parameter.\n"
     ]
    },
    {
     "name": "stdout",
     "output_type": "stream",
     "text": [
      "[LightGBM] [Warning] num_iterations is set=2000, num_boost_round=2000 will be ignored. Current value: num_iterations=2000\n"
     ]
    },
    {
     "name": "stderr",
     "output_type": "stream",
     "text": [
      "Found `num_boost_round` in params. Will use it instead of argument\n",
      "categorical_feature keyword has been found in `params` and will be ignored.\n",
      "Please use categorical_feature argument of the Dataset constructor to pass this parameter.\n"
     ]
    },
    {
     "name": "stdout",
     "output_type": "stream",
     "text": [
      "[LightGBM] [Warning] num_iterations is set=2000, num_boost_round=2000 will be ignored. Current value: num_iterations=2000\n"
     ]
    },
    {
     "name": "stderr",
     "output_type": "stream",
     "text": [
      "Found `num_boost_round` in params. Will use it instead of argument\n",
      "categorical_feature keyword has been found in `params` and will be ignored.\n",
      "Please use categorical_feature argument of the Dataset constructor to pass this parameter.\n"
     ]
    },
    {
     "name": "stdout",
     "output_type": "stream",
     "text": [
      "[LightGBM] [Warning] num_iterations is set=2000, num_boost_round=2000 will be ignored. Current value: num_iterations=2000\n"
     ]
    },
    {
     "name": "stderr",
     "output_type": "stream",
     "text": [
      "Found `num_boost_round` in params. Will use it instead of argument\n",
      "categorical_feature keyword has been found in `params` and will be ignored.\n",
      "Please use categorical_feature argument of the Dataset constructor to pass this parameter.\n"
     ]
    },
    {
     "name": "stdout",
     "output_type": "stream",
     "text": [
      "[LightGBM] [Warning] num_iterations is set=2000, num_boost_round=2000 will be ignored. Current value: num_iterations=2000\n",
      "Best parameters:\n",
      "\n",
      "{'colsample_bytree': 0.9, 'max_depth': 15, 'min_split_gain': 0.3, 'n_estimators': 500, 'num_leaves': 50, 'reg_alpha': 1.3, 'subsample': 0.9, 'subsample_freq': 40}\n",
      "      Threshold for fixing recall as 0.60 is 0.3561\n",
      "      *** Test on real data AUROC: 0.9154, PRAUC: 0.6141, ACC: 0.9061, PPV: 0.5855, NPV: 0.9485, Sensitivity: 0.6004, Specificity: 0.9454\n",
      "Testing top 85 features: \n"
     ]
    },
    {
     "name": "stderr",
     "output_type": "stream",
     "text": [
      "Found `num_boost_round` in params. Will use it instead of argument\n",
      "categorical_feature keyword has been found in `params` and will be ignored.\n",
      "Please use categorical_feature argument of the Dataset constructor to pass this parameter.\n"
     ]
    },
    {
     "name": "stdout",
     "output_type": "stream",
     "text": [
      "[LightGBM] [Warning] num_iterations is set=2000, num_boost_round=2000 will be ignored. Current value: num_iterations=2000\n"
     ]
    },
    {
     "name": "stderr",
     "output_type": "stream",
     "text": [
      "Found `num_boost_round` in params. Will use it instead of argument\n",
      "categorical_feature keyword has been found in `params` and will be ignored.\n",
      "Please use categorical_feature argument of the Dataset constructor to pass this parameter.\n"
     ]
    },
    {
     "name": "stdout",
     "output_type": "stream",
     "text": [
      "[LightGBM] [Warning] num_iterations is set=2000, num_boost_round=2000 will be ignored. Current value: num_iterations=2000\n"
     ]
    },
    {
     "name": "stderr",
     "output_type": "stream",
     "text": [
      "Found `num_boost_round` in params. Will use it instead of argument\n",
      "categorical_feature keyword has been found in `params` and will be ignored.\n",
      "Please use categorical_feature argument of the Dataset constructor to pass this parameter.\n"
     ]
    },
    {
     "name": "stdout",
     "output_type": "stream",
     "text": [
      "[LightGBM] [Warning] num_iterations is set=2000, num_boost_round=2000 will be ignored. Current value: num_iterations=2000\n"
     ]
    },
    {
     "name": "stderr",
     "output_type": "stream",
     "text": [
      "Found `num_boost_round` in params. Will use it instead of argument\n",
      "categorical_feature keyword has been found in `params` and will be ignored.\n",
      "Please use categorical_feature argument of the Dataset constructor to pass this parameter.\n"
     ]
    },
    {
     "name": "stdout",
     "output_type": "stream",
     "text": [
      "[LightGBM] [Warning] num_iterations is set=2000, num_boost_round=2000 will be ignored. Current value: num_iterations=2000\n"
     ]
    },
    {
     "name": "stderr",
     "output_type": "stream",
     "text": [
      "Found `num_boost_round` in params. Will use it instead of argument\n",
      "categorical_feature keyword has been found in `params` and will be ignored.\n",
      "Please use categorical_feature argument of the Dataset constructor to pass this parameter.\n"
     ]
    },
    {
     "name": "stdout",
     "output_type": "stream",
     "text": [
      "[LightGBM] [Warning] num_iterations is set=2000, num_boost_round=2000 will be ignored. Current value: num_iterations=2000\n"
     ]
    },
    {
     "name": "stderr",
     "output_type": "stream",
     "text": [
      "Found `num_boost_round` in params. Will use it instead of argument\n",
      "categorical_feature keyword has been found in `params` and will be ignored.\n",
      "Please use categorical_feature argument of the Dataset constructor to pass this parameter.\n"
     ]
    },
    {
     "name": "stdout",
     "output_type": "stream",
     "text": [
      "[LightGBM] [Warning] num_iterations is set=2000, num_boost_round=2000 will be ignored. Current value: num_iterations=2000\n",
      "Best parameters:\n",
      "\n",
      "{'colsample_bytree': 0.9, 'max_depth': 15, 'min_split_gain': 0.3, 'n_estimators': 500, 'num_leaves': 50, 'reg_alpha': 1.3, 'subsample': 0.9, 'subsample_freq': 40}\n",
      "      Threshold for fixing recall as 0.60 is 0.3558\n",
      "      *** Test on real data AUROC: 0.9164, PRAUC: 0.6156, ACC: 0.9063, PPV: 0.5863, NPV: 0.9485, Sensitivity: 0.6004, Specificity: 0.9456\n",
      "Testing top 90 features: \n"
     ]
    },
    {
     "name": "stderr",
     "output_type": "stream",
     "text": [
      "Found `num_boost_round` in params. Will use it instead of argument\n",
      "categorical_feature keyword has been found in `params` and will be ignored.\n",
      "Please use categorical_feature argument of the Dataset constructor to pass this parameter.\n"
     ]
    },
    {
     "name": "stdout",
     "output_type": "stream",
     "text": [
      "[LightGBM] [Warning] num_iterations is set=2000, num_boost_round=2000 will be ignored. Current value: num_iterations=2000\n"
     ]
    },
    {
     "name": "stderr",
     "output_type": "stream",
     "text": [
      "Found `num_boost_round` in params. Will use it instead of argument\n",
      "categorical_feature keyword has been found in `params` and will be ignored.\n",
      "Please use categorical_feature argument of the Dataset constructor to pass this parameter.\n"
     ]
    },
    {
     "name": "stdout",
     "output_type": "stream",
     "text": [
      "[LightGBM] [Warning] num_iterations is set=2000, num_boost_round=2000 will be ignored. Current value: num_iterations=2000\n"
     ]
    },
    {
     "name": "stderr",
     "output_type": "stream",
     "text": [
      "Found `num_boost_round` in params. Will use it instead of argument\n",
      "categorical_feature keyword has been found in `params` and will be ignored.\n",
      "Please use categorical_feature argument of the Dataset constructor to pass this parameter.\n"
     ]
    },
    {
     "name": "stdout",
     "output_type": "stream",
     "text": [
      "[LightGBM] [Warning] num_iterations is set=2000, num_boost_round=2000 will be ignored. Current value: num_iterations=2000\n"
     ]
    },
    {
     "name": "stderr",
     "output_type": "stream",
     "text": [
      "Found `num_boost_round` in params. Will use it instead of argument\n",
      "categorical_feature keyword has been found in `params` and will be ignored.\n",
      "Please use categorical_feature argument of the Dataset constructor to pass this parameter.\n"
     ]
    },
    {
     "name": "stdout",
     "output_type": "stream",
     "text": [
      "[LightGBM] [Warning] num_iterations is set=2000, num_boost_round=2000 will be ignored. Current value: num_iterations=2000\n"
     ]
    },
    {
     "name": "stderr",
     "output_type": "stream",
     "text": [
      "Found `num_boost_round` in params. Will use it instead of argument\n",
      "categorical_feature keyword has been found in `params` and will be ignored.\n",
      "Please use categorical_feature argument of the Dataset constructor to pass this parameter.\n"
     ]
    },
    {
     "name": "stdout",
     "output_type": "stream",
     "text": [
      "[LightGBM] [Warning] num_iterations is set=2000, num_boost_round=2000 will be ignored. Current value: num_iterations=2000\n"
     ]
    },
    {
     "name": "stderr",
     "output_type": "stream",
     "text": [
      "Found `num_boost_round` in params. Will use it instead of argument\n",
      "categorical_feature keyword has been found in `params` and will be ignored.\n",
      "Please use categorical_feature argument of the Dataset constructor to pass this parameter.\n"
     ]
    },
    {
     "name": "stdout",
     "output_type": "stream",
     "text": [
      "[LightGBM] [Warning] num_iterations is set=2000, num_boost_round=2000 will be ignored. Current value: num_iterations=2000\n",
      "Best parameters:\n",
      "\n",
      "{'colsample_bytree': 0.9, 'max_depth': 15, 'min_split_gain': 0.3, 'n_estimators': 500, 'num_leaves': 50, 'reg_alpha': 1.3, 'subsample': 0.9, 'subsample_freq': 40}\n",
      "      Threshold for fixing recall as 0.60 is 0.3578\n",
      "      *** Test on real data AUROC: 0.9171, PRAUC: 0.6191, ACC: 0.9070, PPV: 0.5896, NPV: 0.9485, Sensitivity: 0.6001, Specificity: 0.9464\n",
      "Testing top 95 features: \n"
     ]
    },
    {
     "name": "stderr",
     "output_type": "stream",
     "text": [
      "Found `num_boost_round` in params. Will use it instead of argument\n",
      "categorical_feature keyword has been found in `params` and will be ignored.\n",
      "Please use categorical_feature argument of the Dataset constructor to pass this parameter.\n"
     ]
    },
    {
     "name": "stdout",
     "output_type": "stream",
     "text": [
      "[LightGBM] [Warning] num_iterations is set=2000, num_boost_round=2000 will be ignored. Current value: num_iterations=2000\n"
     ]
    },
    {
     "name": "stderr",
     "output_type": "stream",
     "text": [
      "Found `num_boost_round` in params. Will use it instead of argument\n",
      "categorical_feature keyword has been found in `params` and will be ignored.\n",
      "Please use categorical_feature argument of the Dataset constructor to pass this parameter.\n"
     ]
    },
    {
     "name": "stdout",
     "output_type": "stream",
     "text": [
      "[LightGBM] [Warning] num_iterations is set=2000, num_boost_round=2000 will be ignored. Current value: num_iterations=2000\n"
     ]
    },
    {
     "name": "stderr",
     "output_type": "stream",
     "text": [
      "Found `num_boost_round` in params. Will use it instead of argument\n",
      "categorical_feature keyword has been found in `params` and will be ignored.\n",
      "Please use categorical_feature argument of the Dataset constructor to pass this parameter.\n"
     ]
    },
    {
     "name": "stdout",
     "output_type": "stream",
     "text": [
      "[LightGBM] [Warning] num_iterations is set=2000, num_boost_round=2000 will be ignored. Current value: num_iterations=2000\n"
     ]
    },
    {
     "name": "stderr",
     "output_type": "stream",
     "text": [
      "Found `num_boost_round` in params. Will use it instead of argument\n",
      "categorical_feature keyword has been found in `params` and will be ignored.\n",
      "Please use categorical_feature argument of the Dataset constructor to pass this parameter.\n"
     ]
    },
    {
     "name": "stdout",
     "output_type": "stream",
     "text": [
      "[LightGBM] [Warning] num_iterations is set=2000, num_boost_round=2000 will be ignored. Current value: num_iterations=2000\n"
     ]
    },
    {
     "name": "stderr",
     "output_type": "stream",
     "text": [
      "Found `num_boost_round` in params. Will use it instead of argument\n",
      "categorical_feature keyword has been found in `params` and will be ignored.\n",
      "Please use categorical_feature argument of the Dataset constructor to pass this parameter.\n"
     ]
    },
    {
     "name": "stdout",
     "output_type": "stream",
     "text": [
      "[LightGBM] [Warning] num_iterations is set=2000, num_boost_round=2000 will be ignored. Current value: num_iterations=2000\n"
     ]
    },
    {
     "name": "stderr",
     "output_type": "stream",
     "text": [
      "Found `num_boost_round` in params. Will use it instead of argument\n",
      "categorical_feature keyword has been found in `params` and will be ignored.\n",
      "Please use categorical_feature argument of the Dataset constructor to pass this parameter.\n"
     ]
    },
    {
     "name": "stdout",
     "output_type": "stream",
     "text": [
      "[LightGBM] [Warning] num_iterations is set=2000, num_boost_round=2000 will be ignored. Current value: num_iterations=2000\n",
      "Best parameters:\n",
      "\n",
      "{'colsample_bytree': 0.9, 'max_depth': 15, 'min_split_gain': 0.3, 'n_estimators': 500, 'num_leaves': 50, 'reg_alpha': 1.3, 'subsample': 0.9, 'subsample_freq': 40}\n",
      "      Threshold for fixing recall as 0.60 is 0.3617\n",
      "      *** Test on real data AUROC: 0.9173, PRAUC: 0.6197, ACC: 0.9077, PPV: 0.5936, NPV: 0.9486, Sensitivity: 0.6001, Specificity: 0.9472\n",
      "Testing top 100 features: \n"
     ]
    },
    {
     "name": "stderr",
     "output_type": "stream",
     "text": [
      "Found `num_boost_round` in params. Will use it instead of argument\n",
      "categorical_feature keyword has been found in `params` and will be ignored.\n",
      "Please use categorical_feature argument of the Dataset constructor to pass this parameter.\n"
     ]
    },
    {
     "name": "stdout",
     "output_type": "stream",
     "text": [
      "[LightGBM] [Warning] num_iterations is set=2000, num_boost_round=2000 will be ignored. Current value: num_iterations=2000\n"
     ]
    },
    {
     "name": "stderr",
     "output_type": "stream",
     "text": [
      "Found `num_boost_round` in params. Will use it instead of argument\n",
      "categorical_feature keyword has been found in `params` and will be ignored.\n",
      "Please use categorical_feature argument of the Dataset constructor to pass this parameter.\n"
     ]
    },
    {
     "name": "stdout",
     "output_type": "stream",
     "text": [
      "[LightGBM] [Warning] num_iterations is set=2000, num_boost_round=2000 will be ignored. Current value: num_iterations=2000\n"
     ]
    },
    {
     "name": "stderr",
     "output_type": "stream",
     "text": [
      "Found `num_boost_round` in params. Will use it instead of argument\n",
      "categorical_feature keyword has been found in `params` and will be ignored.\n",
      "Please use categorical_feature argument of the Dataset constructor to pass this parameter.\n"
     ]
    },
    {
     "name": "stdout",
     "output_type": "stream",
     "text": [
      "[LightGBM] [Warning] num_iterations is set=2000, num_boost_round=2000 will be ignored. Current value: num_iterations=2000\n"
     ]
    },
    {
     "name": "stderr",
     "output_type": "stream",
     "text": [
      "Found `num_boost_round` in params. Will use it instead of argument\n",
      "categorical_feature keyword has been found in `params` and will be ignored.\n",
      "Please use categorical_feature argument of the Dataset constructor to pass this parameter.\n"
     ]
    },
    {
     "name": "stdout",
     "output_type": "stream",
     "text": [
      "[LightGBM] [Warning] num_iterations is set=2000, num_boost_round=2000 will be ignored. Current value: num_iterations=2000\n"
     ]
    },
    {
     "name": "stderr",
     "output_type": "stream",
     "text": [
      "Found `num_boost_round` in params. Will use it instead of argument\n",
      "categorical_feature keyword has been found in `params` and will be ignored.\n",
      "Please use categorical_feature argument of the Dataset constructor to pass this parameter.\n"
     ]
    },
    {
     "name": "stdout",
     "output_type": "stream",
     "text": [
      "[LightGBM] [Warning] num_iterations is set=2000, num_boost_round=2000 will be ignored. Current value: num_iterations=2000\n"
     ]
    },
    {
     "name": "stderr",
     "output_type": "stream",
     "text": [
      "Found `num_boost_round` in params. Will use it instead of argument\n",
      "categorical_feature keyword has been found in `params` and will be ignored.\n",
      "Please use categorical_feature argument of the Dataset constructor to pass this parameter.\n"
     ]
    },
    {
     "name": "stdout",
     "output_type": "stream",
     "text": [
      "[LightGBM] [Warning] num_iterations is set=2000, num_boost_round=2000 will be ignored. Current value: num_iterations=2000\n",
      "Best parameters:\n",
      "\n",
      "{'colsample_bytree': 0.9, 'max_depth': 15, 'min_split_gain': 0.3, 'n_estimators': 500, 'num_leaves': 50, 'reg_alpha': 1.3, 'subsample': 0.9, 'subsample_freq': 40}\n",
      "      Threshold for fixing recall as 0.60 is 0.3596\n",
      "      *** Test on real data AUROC: 0.9176, PRAUC: 0.6203, ACC: 0.9074, PPV: 0.5921, NPV: 0.9486, Sensitivity: 0.6001, Specificity: 0.9469\n"
     ]
    }
   ],
   "source": [
    "# Load the real dataset for model training.\n",
    "\n",
    "random.seed(a=2021, version=2)\n",
    "\n",
    "RECALL_THRESHOLD = 0.6  # hold this to compute other threshold related metrics\n",
    "LABEL_INDEX = 6  # label column index in the dataset\n",
    "RACE_COL = [0,1,2,3,4,5]\n",
    "# CAT_IDX_wo_RACE_label = list(np.linspace(0, len(COL_LIST) - 5, num=len(COL_LIST) - 4).astype(int))\n",
    "\n",
    "\n",
    "feature_importance_TRTR = np.load('./result/feature_importance_TRTR.npy', allow_pickle=True).item()\n",
    "COL_LIST = list(real_data_df.columns)[len(RACE_COL)+1:]\n",
    "top_feature_indices = [COL_LIST.index(name) for name in list(feature_importance_TRTR.keys())]\n",
    "cat_or_not = [0,1,1,1,1,0,0] + [1]*18 + [0] + [1]*(len(COL_LIST)-26) # indicate mannually the binary features\n",
    "\n",
    "train_real_data = pd.read_csv('/data/chao/syn_mimic/preprocessing/original_training_data.csv').values.astype(np.float)\n",
    "train_real_data_index = np.linspace(0,len(train_real_data)-1,len(train_real_data)).astype('int')\n",
    "random.shuffle(train_real_data_index)\n",
    "train_real_data = train_real_data[train_real_data_index]\n",
    "train_real_label = train_real_data[:,LABEL_INDEX].astype(np.float)\n",
    "train_real_data = np.delete(train_real_data, [LABEL_INDEX]+RACE_COL, axis = 1)\n",
    "print('The number of records in training (real) data is:  %d' % len(train_real_data))\n",
    "print('The number of features in training (real) data is:  %d' % len(train_real_data[0]))\n",
    "print('Positive vs Negative ratio in training (real) data is: %f' % (np.sum(train_real_label)/len(train_real_label)))\n",
    "\n",
    "## load the dataset for model evaluation. Here it is real data. 30%\n",
    "eval_real_data = pd.read_csv('/data/chao/syn_mimic/preprocessing/original_testing_data.csv').values.astype(np.float)\n",
    "eval_real_label = eval_real_data[:,LABEL_INDEX].astype(np.float)\n",
    "eval_real_data = np.delete(eval_real_data, [LABEL_INDEX]+RACE_COL, axis=1)\n",
    "print('\\nThe number of records in evaluation (real) data is: %d' % len(eval_real_data))\n",
    "print('The number of features in training (real) data is: %d' % len(eval_real_data[0]))\n",
    "print('Positive vs Negative ratio in evaluation (real) data is: %f' % (np.sum(eval_real_label)/len(eval_real_label)))\n",
    "\n",
    "## model training\n",
    "print('\\n !!!!!!!!!!!!!!!!!!! training is starting !!!!!!!!!!!!!!!!!!! ')\n",
    "\n",
    "test_candidates = [5, 10, 15, 20, 25, 30, 35, 40, 45, 50, 55, 60, 65, 70, 75, 80, 85, 90, 95, 100]\n",
    "auroc_performance = {}\n",
    "auprc_performance = {}\n",
    "\n",
    "for num_features in test_candidates:\n",
    "    print('Testing top %d features: ' % num_features)\n",
    "\n",
    "    selected_feature_indices = top_feature_indices[:num_features]\n",
    "    selected_feature_cat_or_not = cat_or_not[:num_features]\n",
    "    cat_indices = [i for i in range(len(selected_feature_cat_or_not)) if selected_feature_cat_or_not[i] == 1]\n",
    "    \n",
    "    gkf = KFold(n_splits=5, shuffle=True, random_state=0).split(X=train_real_data, y=train_real_label)\n",
    "\n",
    "    param_grid = {\n",
    "            'n_estimators': [500],\n",
    "            'colsample_bytree': [0.9],\n",
    "            'max_depth': [15],\n",
    "            'num_leaves': [50],\n",
    "            'reg_alpha': [1.3],\n",
    "            'min_split_gain': [0.3],\n",
    "            'subsample': [0.9],\n",
    "            'subsample_freq': [40]\n",
    "            }\n",
    "\n",
    "    lgb_estimator = lgb.LGBMClassifier(boosting_type='gbdt',  objective='binary', num_boost_round=2000, learning_rate=0.01, metric='auc',categorical_feature=cat_indices, n_jobs = 20)\n",
    "\n",
    "    gsearch = GridSearchCV(estimator=lgb_estimator, param_grid=param_grid, cv=gkf)\n",
    "    gbm = gsearch.fit(X=train_real_data[:, selected_feature_indices], y=train_real_label)\n",
    "    print(\"Best parameters:\\n\")\n",
    "    print(gbm.best_params_)\n",
    "\n",
    "    y_scores = gbm.predict_proba(eval_real_data[:, selected_feature_indices])\n",
    "    y_scores = y_scores[:,1]\n",
    "    auroc = roc_auc_score(y_score=y_scores, y_true=eval_real_label)\n",
    "    prauc = average_precision_score(eval_real_label, y_scores)\n",
    "    fpr, tpr, threshold_candidate = roc_curve(eval_real_label, y_scores)\n",
    "    thres_index = (tpr > RECALL_THRESHOLD).tolist().index(True)\n",
    "    thres = threshold_candidate[thres_index]\n",
    "    print(\"      Threshold for fixing recall as %.2f is %.4f\" % (RECALL_THRESHOLD, thres))\n",
    "    pred_y = np.array([(value>=thres)*1.0 for value in y_scores])\n",
    "\n",
    "    tn, fp, fn, tp = confusion_matrix(eval_real_label, pred_y).ravel()\n",
    "    ppv = tp / (tp + fp)\n",
    "    npv = tn / (tn + fn)\n",
    "    sens = tp / (tp + fn)\n",
    "    spes = tn / (tn + fp)\n",
    "    acc = (tn + tp) / (tn + fp + fn + tp)\n",
    "    print(\"      *** Test on real data AUROC: %.4f, PRAUC: %.4f, ACC: %.4f, PPV: %.4f, NPV: %.4f, Sensitivity: %.4f, Specificity: %.4f\" % (\n",
    "    auroc, prauc, acc, ppv, npv, sens, spes))\n",
    "    \n",
    "    auroc_performance[num_features] = auroc\n",
    "    auprc_performance[num_features] = prauc\n",
    "    \n",
    "np.save('./result/auroc_performance_feature_imp.npy', auroc_performance)\n",
    "np.save('./result/auprc_performance_feature_imp.npy', auprc_performance)\n",
    "    "
   ]
  },
  {
   "cell_type": "code",
   "execution_count": 33,
   "id": "7eb3048e",
   "metadata": {},
   "outputs": [
    {
     "data": {
      "text/plain": [
       "{5: 0.8548187638775113,\n",
       " 10: 0.8676462233405431,\n",
       " 15: 0.8759855255295728,\n",
       " 20: 0.8798640837289451,\n",
       " 25: 0.887421965678305,\n",
       " 30: 0.8917697398907596,\n",
       " 35: 0.8945005704097798,\n",
       " 40: 0.9000728001598922,\n",
       " 45: 0.9052191106317841,\n",
       " 50: 0.9070682309160856,\n",
       " 55: 0.9101274913988838,\n",
       " 60: 0.9112054785912451,\n",
       " 65: 0.9118406243918615,\n",
       " 70: 0.9125531303527502,\n",
       " 75: 0.9131148278407805,\n",
       " 80: 0.9153664098063169,\n",
       " 85: 0.9163834227590145,\n",
       " 90: 0.9170942425786593,\n",
       " 95: 0.9172876969358594,\n",
       " 100: 0.9175802323248363}"
      ]
     },
     "execution_count": 33,
     "metadata": {},
     "output_type": "execute_result"
    }
   ],
   "source": [
    "auroc_performance"
   ]
  },
  {
   "cell_type": "code",
   "execution_count": 34,
   "id": "b1f05b8c",
   "metadata": {},
   "outputs": [
    {
     "name": "stderr",
     "output_type": "stream",
     "text": [
      "findfont: Font family ['normal'] not found. Falling back to DejaVu Sans.\n",
      "findfont: Font family ['normal'] not found. Falling back to DejaVu Sans.\n"
     ]
    },
    {
     "data": {
      "image/png": "[encoded data removed]",
      "text/plain": [
       "<Figure size 700x700 with 1 Axes>"
      ]
     },
     "metadata": {},
     "output_type": "display_data"
    }
   ],
   "source": [
    "font = {'family' : 'normal', 'size'  : 18}\n",
    "matplotlib.rc('font', **font)\n",
    "plt.figure(figsize=(7, 7)) \n",
    "plt.xlabel(\"Top features to include in training\", fontsize=20)\n",
    "plt.ylabel(\"AUROC\", fontsize=20)\n",
    "plt.ylim(0.8, 1.0)\n",
    "df = pd.DataFrame(auroc_performance.items(), columns=['x_axis', 'y_axis'])\n",
    "plt.plot('x_axis', 'y_axis', data=df, linestyle='-', marker='o')\n",
    "plt.plot([0, 100], [trtr_7_3_auroc, trtr_7_3_auroc], linestyle=':')  ## the performance of training on 70% real data and testing on 30% testing data\n",
    "plt.grid()\n",
    "plt.show()"
   ]
  },
  {
   "cell_type": "code",
   "execution_count": 35,
   "id": "23736ddc",
   "metadata": {},
   "outputs": [
    {
     "name": "stdout",
     "output_type": "stream",
     "text": [
      "5 0.8548187638775113 0.9264413757795213\n",
      "10 0.8676462233405431 0.940343608270045\n",
      "15 0.8759855255295728 0.9493816347143884\n",
      "20 0.8798640837289451 0.9535851652709337\n",
      "25 0.887421965678305 0.9617762986983084\n",
      "30 0.8917697398907596 0.9664883594217933\n",
      "35 0.8945005704097798 0.9694479977568081\n",
      "40 0.9000728001598922 0.9754871073482225\n",
      "45 0.9052191106317841 0.9810646112066325\n",
      "50 0.9070682309160856 0.9830686635421233\n",
      "55 0.9101274913988838 0.9863842499685318\n",
      "60 0.9112054785912451 0.987552558362973\n",
      "65 0.9118406243918615 0.9882409210594988\n",
      "70 0.9125531303527502 0.9890131256840938\n",
      "75 0.9131148278407805 0.9896218860618167\n",
      "80 0.9153664098063169 0.9920621210940589\n",
      "85 0.9163834227590145 0.9931643464064852\n",
      "90 0.9170942425786593 0.9939347236132934\n",
      "95 0.9172876969358594 0.994144386910835\n",
      "100 0.9175802323248363 0.9944614329323783\n"
     ]
    }
   ],
   "source": [
    "for n, auroc in auroc_performance.items():\n",
    "    print(n, auroc, auroc/trtr_7_3_auroc)\n",
    "\n",
    "## select 95% performance as the threshold, thus 20 is the number of important features to achieve this."
   ]
  },
  {
   "cell_type": "code",
   "execution_count": 52,
   "id": "bab985fe",
   "metadata": {},
   "outputs": [
    {
     "data": {
      "text/plain": [
       "[0.7, 0.8, 0.65, 0.65, 0.65]"
      ]
     },
     "execution_count": 52,
     "metadata": {},
     "output_type": "execute_result"
    }
   ],
   "source": [
    "feature_imp_score = []\n",
    "TRTR_top_features = set(list(feature_importance_TRTR.keys())[:20])\n",
    "for run in range(len(syn_data_list)):\n",
    "    run += 1\n",
    "    feature_importance_value = np.load(f'./result/TSTR_feature_importance_run_{run}.npy', allow_pickle=True).item()\n",
    "    syn_top_imp_features = []\n",
    "    for key, imp in feature_importance_value.items():\n",
    "        syn_top_imp_features.append(key)\n",
    "        if len(syn_top_imp_features) == 20:\n",
    "            syn_top_imp_features = set(syn_top_imp_features)\n",
    "            intersection_imp_features = TRTR_top_features.intersection(syn_top_imp_features)\n",
    "            feature_imp_score.append(len(intersection_imp_features)/len(TRTR_top_features))\n",
    "            break\n",
    "utility_score['Feature importance'] = feature_imp_score\n",
    "feature_imp_score"
   ]
  },
  {
   "cell_type": "code",
   "execution_count": 56,
   "id": "be15203e",
   "metadata": {},
   "outputs": [],
   "source": [
    "np.save('./result/utility_score.npy', utility_score)"
   ]
  },
  {
   "cell_type": "markdown",
   "id": "b1ec0061",
   "metadata": {},
   "source": [
    "## 2. Rank datasets and derive scores for selection"
   ]
  },
  {
   "cell_type": "code",
   "execution_count": 55,
   "id": "d35c1352",
   "metadata": {},
   "outputs": [
    {
     "data": {
      "text/plain": [
       "{'Dimension-wise distribution': [1.024415873644543,\n",
       "  0.5235392767153383,\n",
       "  1.5588431385697294,\n",
       "  1.2745413222278763,\n",
       "  0.8537903943627151],\n",
       " 'Column-wise correlation': [5.800565453515808,\n",
       "  5.4226583129816746,\n",
       "  5.9071028272186075,\n",
       "  6.3210266094586265,\n",
       "  6.315851456601387],\n",
       " 'Latent cluster analysis': [-11.098742322050022,\n",
       "  -15.663163969433555,\n",
       "  -9.92536962270512,\n",
       "  -8.358865094374572,\n",
       "  -9.372114175598648],\n",
       " 'Medical concept abundance': [0.046229114304231676,\n",
       "  0.026556646274956134,\n",
       "  0.06971910023553216,\n",
       "  0.05911224925309432,\n",
       "  0.022557341806168096],\n",
       " 'Clinical knowledge violation': array([0.0431216 , 0.05790536, 0.04047659, 0.05680659, 0.06371215]),\n",
       " 'TSTR_auroc': [0.9088399775509852,\n",
       "  0.9112225676327526,\n",
       "  0.9087195499710603,\n",
       "  0.9018799136073833,\n",
       "  0.9070287617218474],\n",
       " 'TRTS_auroc': [0.9024328980257994,\n",
       "  0.9030885875518126,\n",
       "  0.9013117821936679,\n",
       "  0.8738215730374622,\n",
       "  0.8949010115526643],\n",
       " 'Feature importance': [0.7, 0.8, 0.65, 0.65, 0.65]}"
      ]
     },
     "execution_count": 55,
     "metadata": {},
     "output_type": "execute_result"
    }
   ],
   "source": [
    "utility_score"
   ]
  },
  {
   "cell_type": "code",
   "execution_count": 64,
   "id": "3147dd9e",
   "metadata": {},
   "outputs": [
    {
     "name": "stdout",
     "output_type": "stream",
     "text": [
      "Dimension-wise distribution [3 1 5 4 2]\n",
      "Column-wise correlation [2 1 3 5 4]\n",
      "Latent cluster analysis [2 1 3 5 4]\n",
      "Medical concept abundance [3 2 5 4 1]\n",
      "Clinical knowledge violation [2 4 1 3 5]\n",
      "TSTR_auroc [2 1 3 5 4]\n",
      "TRTS_auroc [2 1 3 5 4]\n",
      "Feature importance [2 1 4 4 4]\n"
     ]
    }
   ],
   "source": [
    "dataset_ranks = {}\n",
    "for metric, score in utility_score.items():\n",
    "    if metric not in ['TSTR_auroc', 'TRTS_auroc', 'Feature importance']:\n",
    "        ranks = ss.rankdata(score).astype(int)\n",
    "        dataset_ranks[metric] = list(ranks)\n",
    "    else:\n",
    "        ranks = len(syn_data_list) + 1 - ss.rankdata(score).astype(int)\n",
    "        dataset_ranks[metric] = list(ranks)\n",
    "    print(metric, ranks)\n",
    "np.save('./result/utility_score_dataset_ranks.npy', dataset_ranks)\n",
    "dataset_ranks"
   ]
  },
  {
   "cell_type": "code",
   "execution_count": null,
   "id": "040747aa",
   "metadata": {},
   "outputs": [],
   "source": []
  }
 ],
 "metadata": {
  "kernelspec": {
   "display_name": "Python 3",
   "language": "python",
   "name": "python3"
  },
  "language_info": {
   "codemirror_mode": {
    "name": "ipython",
    "version": 3
   },
   "file_extension": ".py",
   "mimetype": "text/x-python",
   "name": "python",
   "nbconvert_exporter": "python",
   "pygments_lexer": "ipython3",
   "version": "3.7.13"
  }
 },
 "nbformat": 4,
 "nbformat_minor": 5
}
